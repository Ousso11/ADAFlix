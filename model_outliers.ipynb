{
 "cells": [
  {
   "cell_type": "code",
   "execution_count": 7,
   "metadata": {},
   "outputs": [],
   "source": [
    "import pandas as pd\n",
    "import numpy as np\n",
    "import matplotlib.pyplot as plt\n",
    "import os\n",
    "import json\n",
    "from scipy import stats\n",
    "import statsmodels.api as sm\n",
    "import seaborn as sns\n",
    "import statsmodels.formula.api as smf\n",
    "from sklearn.preprocessing import LabelEncoder\n",
    "import nltk\n",
    "from textblob import TextBlob\n",
    "from nltk.corpus import stopwords\n",
    "stop_words = set(stopwords.words('english'))\n",
    "\n",
    "PATH_FOLDER = \"MovieSummaries/\""
   ]
  },
  {
   "cell_type": "code",
   "execution_count": 8,
   "metadata": {},
   "outputs": [
    {
     "data": {
      "text/plain": [
       "Index(['Movie_name', 'budget', 'company', 'score', 'rating'], dtype='object')"
      ]
     },
     "execution_count": 8,
     "metadata": {},
     "output_type": "execute_result"
    }
   ],
   "source": [
    "budget = pd.read_csv(\"movies.csv\")\n",
    "budget = budget.dropna()\n",
    "budget = budget[[\"name\", \"budget\", \"company\", \"score\", \"rating\"]]\n",
    "budget = budget.rename(columns={\"name\" : \"Movie_name\"})\n",
    "\n",
    "budget_final = budget.copy()\n",
    "\n",
    "budget.columns"
   ]
  },
  {
   "cell_type": "code",
   "execution_count": 9,
   "metadata": {},
   "outputs": [
    {
     "data": {
      "text/html": [
       "<div>\n",
       "<style scoped>\n",
       "    .dataframe tbody tr th:only-of-type {\n",
       "        vertical-align: middle;\n",
       "    }\n",
       "\n",
       "    .dataframe tbody tr th {\n",
       "        vertical-align: top;\n",
       "    }\n",
       "\n",
       "    .dataframe thead th {\n",
       "        text-align: right;\n",
       "    }\n",
       "</style>\n",
       "<table border=\"1\" class=\"dataframe\">\n",
       "  <thead>\n",
       "    <tr style=\"text-align: right;\">\n",
       "      <th></th>\n",
       "      <th>Movie_name</th>\n",
       "      <th>budget</th>\n",
       "      <th>score</th>\n",
       "      <th>company_\"DIA\" Productions GmbH &amp; Co. KG</th>\n",
       "      <th>company_\"Weathering With You\" Film Partners</th>\n",
       "      <th>company_.406 Production</th>\n",
       "      <th>company_1492 Pictures</th>\n",
       "      <th>company_1818 Productions</th>\n",
       "      <th>company_19 Entertainment</th>\n",
       "      <th>company_1978 Films</th>\n",
       "      <th>...</th>\n",
       "      <th>rating_Approved</th>\n",
       "      <th>rating_G</th>\n",
       "      <th>rating_NC-17</th>\n",
       "      <th>rating_Not Rated</th>\n",
       "      <th>rating_PG</th>\n",
       "      <th>rating_PG-13</th>\n",
       "      <th>rating_R</th>\n",
       "      <th>rating_TV-MA</th>\n",
       "      <th>rating_Unrated</th>\n",
       "      <th>rating_X</th>\n",
       "    </tr>\n",
       "  </thead>\n",
       "  <tbody>\n",
       "    <tr>\n",
       "      <th>0</th>\n",
       "      <td>The Shining</td>\n",
       "      <td>0.053355</td>\n",
       "      <td>0.878378</td>\n",
       "      <td>False</td>\n",
       "      <td>False</td>\n",
       "      <td>False</td>\n",
       "      <td>False</td>\n",
       "      <td>False</td>\n",
       "      <td>False</td>\n",
       "      <td>False</td>\n",
       "      <td>...</td>\n",
       "      <td>False</td>\n",
       "      <td>False</td>\n",
       "      <td>False</td>\n",
       "      <td>False</td>\n",
       "      <td>False</td>\n",
       "      <td>False</td>\n",
       "      <td>True</td>\n",
       "      <td>False</td>\n",
       "      <td>False</td>\n",
       "      <td>False</td>\n",
       "    </tr>\n",
       "    <tr>\n",
       "      <th>1</th>\n",
       "      <td>The Blue Lagoon</td>\n",
       "      <td>0.012624</td>\n",
       "      <td>0.527027</td>\n",
       "      <td>False</td>\n",
       "      <td>False</td>\n",
       "      <td>False</td>\n",
       "      <td>False</td>\n",
       "      <td>False</td>\n",
       "      <td>False</td>\n",
       "      <td>False</td>\n",
       "      <td>...</td>\n",
       "      <td>False</td>\n",
       "      <td>False</td>\n",
       "      <td>False</td>\n",
       "      <td>False</td>\n",
       "      <td>False</td>\n",
       "      <td>False</td>\n",
       "      <td>True</td>\n",
       "      <td>False</td>\n",
       "      <td>False</td>\n",
       "      <td>False</td>\n",
       "    </tr>\n",
       "    <tr>\n",
       "      <th>2</th>\n",
       "      <td>Star Wars: Episode V - The Empire Strikes Back</td>\n",
       "      <td>0.050546</td>\n",
       "      <td>0.918919</td>\n",
       "      <td>False</td>\n",
       "      <td>False</td>\n",
       "      <td>False</td>\n",
       "      <td>False</td>\n",
       "      <td>False</td>\n",
       "      <td>False</td>\n",
       "      <td>False</td>\n",
       "      <td>...</td>\n",
       "      <td>False</td>\n",
       "      <td>False</td>\n",
       "      <td>False</td>\n",
       "      <td>False</td>\n",
       "      <td>True</td>\n",
       "      <td>False</td>\n",
       "      <td>False</td>\n",
       "      <td>False</td>\n",
       "      <td>False</td>\n",
       "      <td>False</td>\n",
       "    </tr>\n",
       "    <tr>\n",
       "      <th>3</th>\n",
       "      <td>Airplane!</td>\n",
       "      <td>0.009815</td>\n",
       "      <td>0.783784</td>\n",
       "      <td>False</td>\n",
       "      <td>False</td>\n",
       "      <td>False</td>\n",
       "      <td>False</td>\n",
       "      <td>False</td>\n",
       "      <td>False</td>\n",
       "      <td>False</td>\n",
       "      <td>...</td>\n",
       "      <td>False</td>\n",
       "      <td>False</td>\n",
       "      <td>False</td>\n",
       "      <td>False</td>\n",
       "      <td>True</td>\n",
       "      <td>False</td>\n",
       "      <td>False</td>\n",
       "      <td>False</td>\n",
       "      <td>False</td>\n",
       "      <td>False</td>\n",
       "    </tr>\n",
       "    <tr>\n",
       "      <th>4</th>\n",
       "      <td>Caddyshack</td>\n",
       "      <td>0.016837</td>\n",
       "      <td>0.729730</td>\n",
       "      <td>False</td>\n",
       "      <td>False</td>\n",
       "      <td>False</td>\n",
       "      <td>False</td>\n",
       "      <td>False</td>\n",
       "      <td>False</td>\n",
       "      <td>False</td>\n",
       "      <td>...</td>\n",
       "      <td>False</td>\n",
       "      <td>False</td>\n",
       "      <td>False</td>\n",
       "      <td>False</td>\n",
       "      <td>False</td>\n",
       "      <td>False</td>\n",
       "      <td>True</td>\n",
       "      <td>False</td>\n",
       "      <td>False</td>\n",
       "      <td>False</td>\n",
       "    </tr>\n",
       "    <tr>\n",
       "      <th>...</th>\n",
       "      <td>...</td>\n",
       "      <td>...</td>\n",
       "      <td>...</td>\n",
       "      <td>...</td>\n",
       "      <td>...</td>\n",
       "      <td>...</td>\n",
       "      <td>...</td>\n",
       "      <td>...</td>\n",
       "      <td>...</td>\n",
       "      <td>...</td>\n",
       "      <td>...</td>\n",
       "      <td>...</td>\n",
       "      <td>...</td>\n",
       "      <td>...</td>\n",
       "      <td>...</td>\n",
       "      <td>...</td>\n",
       "      <td>...</td>\n",
       "      <td>...</td>\n",
       "      <td>...</td>\n",
       "      <td>...</td>\n",
       "      <td>...</td>\n",
       "    </tr>\n",
       "    <tr>\n",
       "      <th>7648</th>\n",
       "      <td>Bad Boys for Life</td>\n",
       "      <td>0.252796</td>\n",
       "      <td>0.635135</td>\n",
       "      <td>False</td>\n",
       "      <td>False</td>\n",
       "      <td>False</td>\n",
       "      <td>False</td>\n",
       "      <td>False</td>\n",
       "      <td>False</td>\n",
       "      <td>False</td>\n",
       "      <td>...</td>\n",
       "      <td>False</td>\n",
       "      <td>False</td>\n",
       "      <td>False</td>\n",
       "      <td>False</td>\n",
       "      <td>False</td>\n",
       "      <td>False</td>\n",
       "      <td>True</td>\n",
       "      <td>False</td>\n",
       "      <td>False</td>\n",
       "      <td>False</td>\n",
       "    </tr>\n",
       "    <tr>\n",
       "      <th>7649</th>\n",
       "      <td>Sonic the Hedgehog</td>\n",
       "      <td>0.238751</td>\n",
       "      <td>0.621622</td>\n",
       "      <td>False</td>\n",
       "      <td>False</td>\n",
       "      <td>False</td>\n",
       "      <td>False</td>\n",
       "      <td>False</td>\n",
       "      <td>False</td>\n",
       "      <td>False</td>\n",
       "      <td>...</td>\n",
       "      <td>False</td>\n",
       "      <td>False</td>\n",
       "      <td>False</td>\n",
       "      <td>False</td>\n",
       "      <td>True</td>\n",
       "      <td>False</td>\n",
       "      <td>False</td>\n",
       "      <td>False</td>\n",
       "      <td>False</td>\n",
       "      <td>False</td>\n",
       "    </tr>\n",
       "    <tr>\n",
       "      <th>7650</th>\n",
       "      <td>Dolittle</td>\n",
       "      <td>0.491564</td>\n",
       "      <td>0.500000</td>\n",
       "      <td>False</td>\n",
       "      <td>False</td>\n",
       "      <td>False</td>\n",
       "      <td>False</td>\n",
       "      <td>False</td>\n",
       "      <td>False</td>\n",
       "      <td>False</td>\n",
       "      <td>...</td>\n",
       "      <td>False</td>\n",
       "      <td>False</td>\n",
       "      <td>False</td>\n",
       "      <td>False</td>\n",
       "      <td>True</td>\n",
       "      <td>False</td>\n",
       "      <td>False</td>\n",
       "      <td>False</td>\n",
       "      <td>False</td>\n",
       "      <td>False</td>\n",
       "    </tr>\n",
       "    <tr>\n",
       "      <th>7651</th>\n",
       "      <td>The Call of the Wild</td>\n",
       "      <td>0.379203</td>\n",
       "      <td>0.662162</td>\n",
       "      <td>False</td>\n",
       "      <td>False</td>\n",
       "      <td>False</td>\n",
       "      <td>False</td>\n",
       "      <td>False</td>\n",
       "      <td>False</td>\n",
       "      <td>False</td>\n",
       "      <td>...</td>\n",
       "      <td>False</td>\n",
       "      <td>False</td>\n",
       "      <td>False</td>\n",
       "      <td>False</td>\n",
       "      <td>True</td>\n",
       "      <td>False</td>\n",
       "      <td>False</td>\n",
       "      <td>False</td>\n",
       "      <td>False</td>\n",
       "      <td>False</td>\n",
       "    </tr>\n",
       "    <tr>\n",
       "      <th>7652</th>\n",
       "      <td>The Eight Hundred</td>\n",
       "      <td>0.224706</td>\n",
       "      <td>0.662162</td>\n",
       "      <td>False</td>\n",
       "      <td>False</td>\n",
       "      <td>False</td>\n",
       "      <td>False</td>\n",
       "      <td>False</td>\n",
       "      <td>False</td>\n",
       "      <td>False</td>\n",
       "      <td>...</td>\n",
       "      <td>False</td>\n",
       "      <td>False</td>\n",
       "      <td>False</td>\n",
       "      <td>True</td>\n",
       "      <td>False</td>\n",
       "      <td>False</td>\n",
       "      <td>False</td>\n",
       "      <td>False</td>\n",
       "      <td>False</td>\n",
       "      <td>False</td>\n",
       "    </tr>\n",
       "  </tbody>\n",
       "</table>\n",
       "<p>5421 rows × 1488 columns</p>\n",
       "</div>"
      ],
      "text/plain": [
       "                                          Movie_name    budget     score  \\\n",
       "0                                        The Shining  0.053355  0.878378   \n",
       "1                                    The Blue Lagoon  0.012624  0.527027   \n",
       "2     Star Wars: Episode V - The Empire Strikes Back  0.050546  0.918919   \n",
       "3                                          Airplane!  0.009815  0.783784   \n",
       "4                                         Caddyshack  0.016837  0.729730   \n",
       "...                                              ...       ...       ...   \n",
       "7648                               Bad Boys for Life  0.252796  0.635135   \n",
       "7649                              Sonic the Hedgehog  0.238751  0.621622   \n",
       "7650                                        Dolittle  0.491564  0.500000   \n",
       "7651                            The Call of the Wild  0.379203  0.662162   \n",
       "7652                               The Eight Hundred  0.224706  0.662162   \n",
       "\n",
       "      company_\"DIA\" Productions GmbH & Co. KG  \\\n",
       "0                                       False   \n",
       "1                                       False   \n",
       "2                                       False   \n",
       "3                                       False   \n",
       "4                                       False   \n",
       "...                                       ...   \n",
       "7648                                    False   \n",
       "7649                                    False   \n",
       "7650                                    False   \n",
       "7651                                    False   \n",
       "7652                                    False   \n",
       "\n",
       "      company_\"Weathering With You\" Film Partners  company_.406 Production  \\\n",
       "0                                           False                    False   \n",
       "1                                           False                    False   \n",
       "2                                           False                    False   \n",
       "3                                           False                    False   \n",
       "4                                           False                    False   \n",
       "...                                           ...                      ...   \n",
       "7648                                        False                    False   \n",
       "7649                                        False                    False   \n",
       "7650                                        False                    False   \n",
       "7651                                        False                    False   \n",
       "7652                                        False                    False   \n",
       "\n",
       "      company_1492 Pictures  company_1818 Productions  \\\n",
       "0                     False                     False   \n",
       "1                     False                     False   \n",
       "2                     False                     False   \n",
       "3                     False                     False   \n",
       "4                     False                     False   \n",
       "...                     ...                       ...   \n",
       "7648                  False                     False   \n",
       "7649                  False                     False   \n",
       "7650                  False                     False   \n",
       "7651                  False                     False   \n",
       "7652                  False                     False   \n",
       "\n",
       "      company_19 Entertainment  company_1978 Films  ...  rating_Approved  \\\n",
       "0                        False               False  ...            False   \n",
       "1                        False               False  ...            False   \n",
       "2                        False               False  ...            False   \n",
       "3                        False               False  ...            False   \n",
       "4                        False               False  ...            False   \n",
       "...                        ...                 ...  ...              ...   \n",
       "7648                     False               False  ...            False   \n",
       "7649                     False               False  ...            False   \n",
       "7650                     False               False  ...            False   \n",
       "7651                     False               False  ...            False   \n",
       "7652                     False               False  ...            False   \n",
       "\n",
       "      rating_G  rating_NC-17  rating_Not Rated  rating_PG  rating_PG-13  \\\n",
       "0        False         False             False      False         False   \n",
       "1        False         False             False      False         False   \n",
       "2        False         False             False       True         False   \n",
       "3        False         False             False       True         False   \n",
       "4        False         False             False      False         False   \n",
       "...        ...           ...               ...        ...           ...   \n",
       "7648     False         False             False      False         False   \n",
       "7649     False         False             False       True         False   \n",
       "7650     False         False             False       True         False   \n",
       "7651     False         False             False       True         False   \n",
       "7652     False         False              True      False         False   \n",
       "\n",
       "      rating_R  rating_TV-MA  rating_Unrated  rating_X  \n",
       "0         True         False           False     False  \n",
       "1         True         False           False     False  \n",
       "2        False         False           False     False  \n",
       "3        False         False           False     False  \n",
       "4         True         False           False     False  \n",
       "...        ...           ...             ...       ...  \n",
       "7648      True         False           False     False  \n",
       "7649     False         False           False     False  \n",
       "7650     False         False           False     False  \n",
       "7651     False         False           False     False  \n",
       "7652     False         False           False     False  \n",
       "\n",
       "[5421 rows x 1488 columns]"
      ]
     },
     "execution_count": 9,
     "metadata": {},
     "output_type": "execute_result"
    }
   ],
   "source": [
    "budget['budget'] = (budget['budget'] - budget['budget'].min()) / (budget['budget'].max() - budget['budget'].min())\n",
    "budget['score'] = (budget['score'] - budget['score'].min()) / (budget['score'].max() - budget['score'].min())\n",
    "budget\n",
    "# One-hot encode 'company' and 'rating' columns\n",
    "budget = pd.get_dummies(budget, columns=[ 'company','rating'], prefix=['company','rating'])\n",
    "budget"
   ]
  },
  {
   "cell_type": "code",
   "execution_count": 10,
   "metadata": {},
   "outputs": [],
   "source": [
    "x = pd.read_csv(\"final_version_dataset.csv\")\n",
    "x = x.dropna()\n",
    "final = x.copy()\n",
    "x[\"Movie_name\"] = x[\"Movie_name\"].astype(str)\n",
    "x = pd.merge(x, budget, on=\"Movie_name\")\n",
    "x = x.dropna()"
   ]
  },
  {
   "cell_type": "code",
   "execution_count": 11,
   "metadata": {},
   "outputs": [
    {
     "data": {
      "text/html": [
       "<div>\n",
       "<style scoped>\n",
       "    .dataframe tbody tr th:only-of-type {\n",
       "        vertical-align: middle;\n",
       "    }\n",
       "\n",
       "    .dataframe tbody tr th {\n",
       "        vertical-align: top;\n",
       "    }\n",
       "\n",
       "    .dataframe thead th {\n",
       "        text-align: right;\n",
       "    }\n",
       "</style>\n",
       "<table border=\"1\" class=\"dataframe\">\n",
       "  <thead>\n",
       "    <tr style=\"text-align: right;\">\n",
       "      <th></th>\n",
       "      <th>const</th>\n",
       "      <th>Percentage_Women</th>\n",
       "      <th>specific_actors_ratio</th>\n",
       "      <th>specific_countries_ratio</th>\n",
       "      <th>specific_languages_ratio</th>\n",
       "      <th>Action</th>\n",
       "      <th>Action/Adventure</th>\n",
       "      <th>Adventure</th>\n",
       "      <th>Comedy</th>\n",
       "      <th>Crime Fiction</th>\n",
       "      <th>...</th>\n",
       "      <th>neg_Interval_0-2</th>\n",
       "      <th>neg_Interval_2-4</th>\n",
       "      <th>neg_Interval_4-6</th>\n",
       "      <th>neg_Interval_6-8</th>\n",
       "      <th>neg_Interval_8-10</th>\n",
       "      <th>runtime_Interval_0-60</th>\n",
       "      <th>runtime_Interval_120-180</th>\n",
       "      <th>runtime_Interval_180-240</th>\n",
       "      <th>runtime_Interval_240-1000</th>\n",
       "      <th>runtime_Interval_60-120</th>\n",
       "    </tr>\n",
       "  </thead>\n",
       "  <tbody>\n",
       "    <tr>\n",
       "      <th>0</th>\n",
       "      <td>1.0</td>\n",
       "      <td>0.35</td>\n",
       "      <td>0.117647</td>\n",
       "      <td>1.0</td>\n",
       "      <td>1.0</td>\n",
       "      <td>0.142857</td>\n",
       "      <td>0.000000</td>\n",
       "      <td>0.142857</td>\n",
       "      <td>0.000000</td>\n",
       "      <td>0.000000</td>\n",
       "      <td>...</td>\n",
       "      <td>0.0</td>\n",
       "      <td>0.0</td>\n",
       "      <td>0.0</td>\n",
       "      <td>1.0</td>\n",
       "      <td>0.0</td>\n",
       "      <td>0.0</td>\n",
       "      <td>0.0</td>\n",
       "      <td>0.0</td>\n",
       "      <td>0.0</td>\n",
       "      <td>1.0</td>\n",
       "    </tr>\n",
       "    <tr>\n",
       "      <th>1</th>\n",
       "      <td>1.0</td>\n",
       "      <td>0.52</td>\n",
       "      <td>0.043478</td>\n",
       "      <td>1.0</td>\n",
       "      <td>1.0</td>\n",
       "      <td>0.000000</td>\n",
       "      <td>0.000000</td>\n",
       "      <td>0.000000</td>\n",
       "      <td>0.000000</td>\n",
       "      <td>0.333333</td>\n",
       "      <td>...</td>\n",
       "      <td>0.0</td>\n",
       "      <td>1.0</td>\n",
       "      <td>0.0</td>\n",
       "      <td>0.0</td>\n",
       "      <td>0.0</td>\n",
       "      <td>0.0</td>\n",
       "      <td>1.0</td>\n",
       "      <td>0.0</td>\n",
       "      <td>0.0</td>\n",
       "      <td>0.0</td>\n",
       "    </tr>\n",
       "    <tr>\n",
       "      <th>2</th>\n",
       "      <td>1.0</td>\n",
       "      <td>0.35</td>\n",
       "      <td>0.250000</td>\n",
       "      <td>1.0</td>\n",
       "      <td>1.0</td>\n",
       "      <td>0.000000</td>\n",
       "      <td>0.000000</td>\n",
       "      <td>0.000000</td>\n",
       "      <td>0.250000</td>\n",
       "      <td>0.000000</td>\n",
       "      <td>...</td>\n",
       "      <td>0.0</td>\n",
       "      <td>1.0</td>\n",
       "      <td>0.0</td>\n",
       "      <td>0.0</td>\n",
       "      <td>0.0</td>\n",
       "      <td>0.0</td>\n",
       "      <td>0.0</td>\n",
       "      <td>0.0</td>\n",
       "      <td>0.0</td>\n",
       "      <td>1.0</td>\n",
       "    </tr>\n",
       "    <tr>\n",
       "      <th>3</th>\n",
       "      <td>1.0</td>\n",
       "      <td>0.47</td>\n",
       "      <td>0.176471</td>\n",
       "      <td>1.0</td>\n",
       "      <td>1.0</td>\n",
       "      <td>0.000000</td>\n",
       "      <td>0.000000</td>\n",
       "      <td>0.000000</td>\n",
       "      <td>0.142857</td>\n",
       "      <td>0.000000</td>\n",
       "      <td>...</td>\n",
       "      <td>0.0</td>\n",
       "      <td>0.0</td>\n",
       "      <td>1.0</td>\n",
       "      <td>0.0</td>\n",
       "      <td>0.0</td>\n",
       "      <td>0.0</td>\n",
       "      <td>0.0</td>\n",
       "      <td>0.0</td>\n",
       "      <td>0.0</td>\n",
       "      <td>1.0</td>\n",
       "    </tr>\n",
       "    <tr>\n",
       "      <th>4</th>\n",
       "      <td>1.0</td>\n",
       "      <td>0.50</td>\n",
       "      <td>0.590909</td>\n",
       "      <td>1.0</td>\n",
       "      <td>1.0</td>\n",
       "      <td>0.000000</td>\n",
       "      <td>0.000000</td>\n",
       "      <td>0.000000</td>\n",
       "      <td>0.250000</td>\n",
       "      <td>0.250000</td>\n",
       "      <td>...</td>\n",
       "      <td>1.0</td>\n",
       "      <td>0.0</td>\n",
       "      <td>0.0</td>\n",
       "      <td>0.0</td>\n",
       "      <td>0.0</td>\n",
       "      <td>0.0</td>\n",
       "      <td>1.0</td>\n",
       "      <td>0.0</td>\n",
       "      <td>0.0</td>\n",
       "      <td>0.0</td>\n",
       "    </tr>\n",
       "    <tr>\n",
       "      <th>...</th>\n",
       "      <td>...</td>\n",
       "      <td>...</td>\n",
       "      <td>...</td>\n",
       "      <td>...</td>\n",
       "      <td>...</td>\n",
       "      <td>...</td>\n",
       "      <td>...</td>\n",
       "      <td>...</td>\n",
       "      <td>...</td>\n",
       "      <td>...</td>\n",
       "      <td>...</td>\n",
       "      <td>...</td>\n",
       "      <td>...</td>\n",
       "      <td>...</td>\n",
       "      <td>...</td>\n",
       "      <td>...</td>\n",
       "      <td>...</td>\n",
       "      <td>...</td>\n",
       "      <td>...</td>\n",
       "      <td>...</td>\n",
       "      <td>...</td>\n",
       "    </tr>\n",
       "    <tr>\n",
       "      <th>3196</th>\n",
       "      <td>1.0</td>\n",
       "      <td>0.53</td>\n",
       "      <td>0.076923</td>\n",
       "      <td>1.0</td>\n",
       "      <td>1.0</td>\n",
       "      <td>0.000000</td>\n",
       "      <td>0.000000</td>\n",
       "      <td>0.000000</td>\n",
       "      <td>0.000000</td>\n",
       "      <td>0.000000</td>\n",
       "      <td>...</td>\n",
       "      <td>1.0</td>\n",
       "      <td>0.0</td>\n",
       "      <td>0.0</td>\n",
       "      <td>0.0</td>\n",
       "      <td>0.0</td>\n",
       "      <td>0.0</td>\n",
       "      <td>0.0</td>\n",
       "      <td>0.0</td>\n",
       "      <td>0.0</td>\n",
       "      <td>1.0</td>\n",
       "    </tr>\n",
       "    <tr>\n",
       "      <th>3197</th>\n",
       "      <td>1.0</td>\n",
       "      <td>0.21</td>\n",
       "      <td>0.142857</td>\n",
       "      <td>1.0</td>\n",
       "      <td>1.0</td>\n",
       "      <td>0.000000</td>\n",
       "      <td>0.000000</td>\n",
       "      <td>0.125000</td>\n",
       "      <td>0.000000</td>\n",
       "      <td>0.000000</td>\n",
       "      <td>...</td>\n",
       "      <td>0.0</td>\n",
       "      <td>1.0</td>\n",
       "      <td>0.0</td>\n",
       "      <td>0.0</td>\n",
       "      <td>0.0</td>\n",
       "      <td>0.0</td>\n",
       "      <td>1.0</td>\n",
       "      <td>0.0</td>\n",
       "      <td>0.0</td>\n",
       "      <td>0.0</td>\n",
       "    </tr>\n",
       "    <tr>\n",
       "      <th>3198</th>\n",
       "      <td>1.0</td>\n",
       "      <td>0.37</td>\n",
       "      <td>0.000000</td>\n",
       "      <td>1.0</td>\n",
       "      <td>1.0</td>\n",
       "      <td>0.142857</td>\n",
       "      <td>0.142857</td>\n",
       "      <td>0.000000</td>\n",
       "      <td>0.000000</td>\n",
       "      <td>0.142857</td>\n",
       "      <td>...</td>\n",
       "      <td>0.0</td>\n",
       "      <td>1.0</td>\n",
       "      <td>0.0</td>\n",
       "      <td>0.0</td>\n",
       "      <td>0.0</td>\n",
       "      <td>0.0</td>\n",
       "      <td>1.0</td>\n",
       "      <td>0.0</td>\n",
       "      <td>0.0</td>\n",
       "      <td>0.0</td>\n",
       "    </tr>\n",
       "    <tr>\n",
       "      <th>3199</th>\n",
       "      <td>1.0</td>\n",
       "      <td>0.37</td>\n",
       "      <td>0.250000</td>\n",
       "      <td>1.0</td>\n",
       "      <td>1.0</td>\n",
       "      <td>0.000000</td>\n",
       "      <td>0.000000</td>\n",
       "      <td>0.000000</td>\n",
       "      <td>0.000000</td>\n",
       "      <td>0.000000</td>\n",
       "      <td>...</td>\n",
       "      <td>0.0</td>\n",
       "      <td>1.0</td>\n",
       "      <td>0.0</td>\n",
       "      <td>0.0</td>\n",
       "      <td>0.0</td>\n",
       "      <td>0.0</td>\n",
       "      <td>0.0</td>\n",
       "      <td>0.0</td>\n",
       "      <td>0.0</td>\n",
       "      <td>1.0</td>\n",
       "    </tr>\n",
       "    <tr>\n",
       "      <th>3200</th>\n",
       "      <td>1.0</td>\n",
       "      <td>0.29</td>\n",
       "      <td>0.000000</td>\n",
       "      <td>1.0</td>\n",
       "      <td>1.0</td>\n",
       "      <td>0.000000</td>\n",
       "      <td>0.000000</td>\n",
       "      <td>0.000000</td>\n",
       "      <td>0.000000</td>\n",
       "      <td>0.000000</td>\n",
       "      <td>...</td>\n",
       "      <td>0.0</td>\n",
       "      <td>1.0</td>\n",
       "      <td>0.0</td>\n",
       "      <td>0.0</td>\n",
       "      <td>0.0</td>\n",
       "      <td>0.0</td>\n",
       "      <td>0.0</td>\n",
       "      <td>0.0</td>\n",
       "      <td>0.0</td>\n",
       "      <td>1.0</td>\n",
       "    </tr>\n",
       "  </tbody>\n",
       "</table>\n",
       "<p>3201 rows × 1537 columns</p>\n",
       "</div>"
      ],
      "text/plain": [
       "      const  Percentage_Women  specific_actors_ratio  \\\n",
       "0       1.0              0.35               0.117647   \n",
       "1       1.0              0.52               0.043478   \n",
       "2       1.0              0.35               0.250000   \n",
       "3       1.0              0.47               0.176471   \n",
       "4       1.0              0.50               0.590909   \n",
       "...     ...               ...                    ...   \n",
       "3196    1.0              0.53               0.076923   \n",
       "3197    1.0              0.21               0.142857   \n",
       "3198    1.0              0.37               0.000000   \n",
       "3199    1.0              0.37               0.250000   \n",
       "3200    1.0              0.29               0.000000   \n",
       "\n",
       "      specific_countries_ratio  specific_languages_ratio    Action  \\\n",
       "0                          1.0                       1.0  0.142857   \n",
       "1                          1.0                       1.0  0.000000   \n",
       "2                          1.0                       1.0  0.000000   \n",
       "3                          1.0                       1.0  0.000000   \n",
       "4                          1.0                       1.0  0.000000   \n",
       "...                        ...                       ...       ...   \n",
       "3196                       1.0                       1.0  0.000000   \n",
       "3197                       1.0                       1.0  0.000000   \n",
       "3198                       1.0                       1.0  0.142857   \n",
       "3199                       1.0                       1.0  0.000000   \n",
       "3200                       1.0                       1.0  0.000000   \n",
       "\n",
       "      Action/Adventure  Adventure    Comedy  Crime Fiction  ...  \\\n",
       "0             0.000000   0.142857  0.000000       0.000000  ...   \n",
       "1             0.000000   0.000000  0.000000       0.333333  ...   \n",
       "2             0.000000   0.000000  0.250000       0.000000  ...   \n",
       "3             0.000000   0.000000  0.142857       0.000000  ...   \n",
       "4             0.000000   0.000000  0.250000       0.250000  ...   \n",
       "...                ...        ...       ...            ...  ...   \n",
       "3196          0.000000   0.000000  0.000000       0.000000  ...   \n",
       "3197          0.000000   0.125000  0.000000       0.000000  ...   \n",
       "3198          0.142857   0.000000  0.000000       0.142857  ...   \n",
       "3199          0.000000   0.000000  0.000000       0.000000  ...   \n",
       "3200          0.000000   0.000000  0.000000       0.000000  ...   \n",
       "\n",
       "      neg_Interval_0-2  neg_Interval_2-4  neg_Interval_4-6  neg_Interval_6-8  \\\n",
       "0                  0.0               0.0               0.0               1.0   \n",
       "1                  0.0               1.0               0.0               0.0   \n",
       "2                  0.0               1.0               0.0               0.0   \n",
       "3                  0.0               0.0               1.0               0.0   \n",
       "4                  1.0               0.0               0.0               0.0   \n",
       "...                ...               ...               ...               ...   \n",
       "3196               1.0               0.0               0.0               0.0   \n",
       "3197               0.0               1.0               0.0               0.0   \n",
       "3198               0.0               1.0               0.0               0.0   \n",
       "3199               0.0               1.0               0.0               0.0   \n",
       "3200               0.0               1.0               0.0               0.0   \n",
       "\n",
       "      neg_Interval_8-10  runtime_Interval_0-60  runtime_Interval_120-180  \\\n",
       "0                   0.0                    0.0                       0.0   \n",
       "1                   0.0                    0.0                       1.0   \n",
       "2                   0.0                    0.0                       0.0   \n",
       "3                   0.0                    0.0                       0.0   \n",
       "4                   0.0                    0.0                       1.0   \n",
       "...                 ...                    ...                       ...   \n",
       "3196                0.0                    0.0                       0.0   \n",
       "3197                0.0                    0.0                       1.0   \n",
       "3198                0.0                    0.0                       1.0   \n",
       "3199                0.0                    0.0                       0.0   \n",
       "3200                0.0                    0.0                       0.0   \n",
       "\n",
       "      runtime_Interval_180-240  runtime_Interval_240-1000  \\\n",
       "0                          0.0                        0.0   \n",
       "1                          0.0                        0.0   \n",
       "2                          0.0                        0.0   \n",
       "3                          0.0                        0.0   \n",
       "4                          0.0                        0.0   \n",
       "...                        ...                        ...   \n",
       "3196                       0.0                        0.0   \n",
       "3197                       0.0                        0.0   \n",
       "3198                       0.0                        0.0   \n",
       "3199                       0.0                        0.0   \n",
       "3200                       0.0                        0.0   \n",
       "\n",
       "      runtime_Interval_60-120  \n",
       "0                         1.0  \n",
       "1                         0.0  \n",
       "2                         1.0  \n",
       "3                         1.0  \n",
       "4                         0.0  \n",
       "...                       ...  \n",
       "3196                      1.0  \n",
       "3197                      0.0  \n",
       "3198                      0.0  \n",
       "3199                      1.0  \n",
       "3200                      1.0  \n",
       "\n",
       "[3201 rows x 1537 columns]"
      ]
     },
     "execution_count": 11,
     "metadata": {},
     "output_type": "execute_result"
    }
   ],
   "source": [
    "final = pd.merge(final, budget_final, on=\"Movie_name\").dropna()\n",
    "\n",
    "Y = x['log_revenues']\n",
    "X = x.drop(columns=[\"log_revenues\",\"Unnamed: 0\", \"Movie ID\",\"Movie_name\"])  # Include more variables as needed\n",
    "X = sm.add_constant(X)  # Adds a constant term to the predictor\n",
    "# Select columns to one-hot encode\n",
    "X['Month'] = X['Month'].astype('category')\n",
    "X[\"Percentage_Women\"]  = X[\"Percentage_Women\"]/100\n",
    "categorical_cols = [\"Month\",'pos_Interval', 'neg_Interval', 'runtime_Interval']\n",
    "\n",
    "# Apply one-hot encoding\n",
    "encoded_cols = pd.get_dummies(X[categorical_cols])\n",
    "\n",
    "# Join the encoded dataframe with the original dataframe\n",
    "X = X.join(encoded_cols).drop(columns=categorical_cols)\n",
    "X = X.astype(float)\n",
    "X"
   ]
  },
  {
   "cell_type": "code",
   "execution_count": 12,
   "metadata": {},
   "outputs": [
    {
     "name": "stdout",
     "output_type": "stream",
     "text": [
      "Mean Absolute Error (MAE): 0.6181259670816108\n",
      "Root Mean Squared Error (RMSE): 0.9039816570044049\n",
      "                            OLS Regression Results                            \n",
      "==============================================================================\n",
      "Dep. Variable:           log_revenues   R-squared:                       0.688\n",
      "Model:                            OLS   Adj. R-squared:                  0.574\n",
      "Method:                 Least Squares   F-statistic:                     6.038\n",
      "Date:                Thu, 21 Dec 2023   Prob (F-statistic):          2.10e-261\n",
      "Time:                        19:04:05   Log-Likelihood:                -4218.9\n",
      "No. Observations:                3201   AIC:                         1.015e+04\n",
      "Df Residuals:                    2345   BIC:                         1.535e+04\n",
      "Df Model:                         855                                         \n",
      "Covariance Type:            nonrobust                                         \n",
      "===========================================================================================================================================\n",
      "                                                                              coef    std err          t      P>|t|      [0.025      0.975]\n",
      "-------------------------------------------------------------------------------------------------------------------------------------------\n",
      "const                                                                       7.6601      0.232     32.965      0.000       7.204       8.116\n",
      "Percentage_Women                                                            0.2818      0.171      1.645      0.100      -0.054       0.618\n",
      "specific_actors_ratio                                                       0.1209      0.149      0.813      0.416      -0.171       0.413\n",
      "specific_countries_ratio                                                    0.5800      0.225      2.582      0.010       0.139       1.021\n",
      "specific_languages_ratio                                                   -0.2431      0.149     -1.634      0.102      -0.535       0.049\n",
      "Action                                                                      1.1658      0.315      3.706      0.000       0.549       1.783\n",
      "Action/Adventure                                                            0.8699      0.379      2.295      0.022       0.126       1.613\n",
      "Adventure                                                                   0.6177      0.326      1.897      0.058      -0.021       1.256\n",
      "Comedy                                                                      0.5833      0.180      3.239      0.001       0.230       0.937\n",
      "Crime Fiction                                                               0.7321      0.319      2.295      0.022       0.106       1.358\n",
      "Drama                                                                      -0.8050      0.207     -3.888      0.000      -1.211      -0.399\n",
      "Family Film                                                                 1.5603      0.405      3.852      0.000       0.766       2.355\n",
      "Fantasy                                                                     0.7841      0.396      1.979      0.048       0.007       1.561\n",
      "Horror                                                                      1.0626      0.269      3.951      0.000       0.535       1.590\n",
      "Indie                                                                      -3.2132      0.475     -6.768      0.000      -4.144      -2.282\n",
      "Mystery                                                                     1.2179      0.387      3.146      0.002       0.459       1.977\n",
      "Others                                                                      0.6955      0.113      6.144      0.000       0.474       0.918\n",
      "Period piece                                                               -2.4244      0.500     -4.846      0.000      -3.405      -1.443\n",
      "Romance Film                                                                1.9512      0.375      5.207      0.000       1.216       2.686\n",
      "Romantic comedy                                                             0.5765      0.414      1.392      0.164      -0.236       1.389\n",
      "Romantic drama                                                              0.8748      0.529      1.655      0.098      -0.162       1.911\n",
      "Science Fiction                                                             0.4223      0.335      1.259      0.208      -0.235       1.080\n",
      "Thriller                                                                    0.9886      0.275      3.597      0.000       0.450       1.528\n",
      "budget                                                                      4.2790      0.259     16.513      0.000       3.771       4.787\n",
      "score                                                                       2.8145      0.199     14.178      0.000       2.425       3.204\n",
      "company_\"DIA\" Productions GmbH & Co. KG                                     0.9244      1.063      0.870      0.385      -1.160       3.009\n",
      "company_\"Weathering With You\" Film Partners                             -3.118e-15    4.5e-15     -0.694      0.488   -1.19e-14     5.7e-15\n",
      "company_.406 Production                                                  2.428e-14   7.38e-15      3.292      0.001    9.82e-15    3.87e-14\n",
      "company_1492 Pictures                                                       0.7606      0.753      1.010      0.312      -0.716       2.237\n",
      "company_1818 Productions                                                    0.4279      1.064      0.402      0.688      -1.659       2.514\n",
      "company_19 Entertainment                                                   -0.5096      1.068     -0.477      0.633      -2.604       1.584\n",
      "company_1978 Films                                                       1.386e-16   5.68e-15      0.024      0.981    -1.1e-14    1.13e-14\n",
      "company_1984 Private Defense Contractors                                -6.276e-15   4.08e-15     -1.538      0.124   -1.43e-14    1.73e-15\n",
      "company_2 Loop Films                                                    -1.691e-14   6.31e-15     -2.678      0.007   -2.93e-14   -4.53e-15\n",
      "company_2.0 Entertainment                                                1.037e-14   4.25e-15      2.440      0.015    2.04e-15    1.87e-14\n",
      "company_2.4.7. Films                                                       -0.5438      1.065     -0.510      0.610      -2.633       1.546\n",
      "company_2003 Productions                                                    0.7339      1.067      0.688      0.491      -1.358       2.826\n",
      "company_20th Century Studios                                            -1.615e-15   4.71e-15     -0.343      0.732   -1.09e-14    7.62e-15\n",
      "company_21 Laps Entertainment                                           -1.443e-14   3.99e-15     -3.619      0.000   -2.23e-14   -6.61e-15\n",
      "company_21st Century Film Corporation                                       1.6111      0.757      2.129      0.033       0.127       3.095\n",
      "company_21st Century Films                                               9.904e-15    5.1e-15      1.942      0.052   -9.92e-17    1.99e-14\n",
      "company_25th Hour Productions                                               0.1520      1.064      0.143      0.886      -1.934       2.238\n",
      "company_26 Films                                                        -3.415e-15   8.21e-15     -0.416      0.677   -1.95e-14    1.27e-14\n",
      "company_2929 Productions                                                   -0.8320      1.073     -0.776      0.438      -2.936       1.272\n",
      "company_2DUX²                                                           -3.574e-15    4.6e-15     -0.776      0.438   -1.26e-14    5.45e-15\n",
      "company_3 Arts Entertainment                                                0.8421      0.616      1.366      0.172      -0.367       2.051\n",
      "company_3 Miles Apart Productions Ltd.                                     -0.5741      1.063     -0.540      0.589      -2.659       1.511\n",
      "company_3311 Productions                                                 3.912e-15   3.49e-15      1.120      0.263   -2.94e-15    1.08e-14\n",
      "company_360 Pictures                                                        0.1828      1.065      0.172      0.864      -1.905       2.270\n",
      "company_3Mark Entertainment                                              9.246e-15   4.19e-15      2.208      0.027    1.04e-15    1.75e-14\n",
      "company_4 Kids Entertainment                                            -1.755e-15   3.19e-15     -0.550      0.582   -8.01e-15     4.5e-15\n",
      "company_40 Acres & A Mule Filmworks                                         0.1697      0.617      0.275      0.783      -1.041       1.380\n",
      "company_4Kids Entertainment                                                 1.0084      1.064      0.947      0.344      -1.079       3.095\n",
      "company_7 Arts International                                               -3.1363      1.072     -2.926      0.003      -5.238      -1.035\n",
      "company_7 Films Cinéma                                                   -2.14e-14   4.73e-15     -4.523      0.000   -3.07e-14   -1.21e-14\n",
      "company_88 Productions                                                   1.635e-14   3.69e-15      4.431      0.000    9.11e-15    2.36e-14\n",
      "company_888 Productions                                                     2.8055      1.064      2.638      0.008       0.720       4.891\n",
      "company_900 Films                                                       -2.076e-15   3.84e-15     -0.540      0.589   -9.61e-15    5.46e-15\n",
      "company_98 MPH Productions                                                  0.0814      0.770      0.106      0.916      -1.428       1.591\n",
      "company_A Band Apart                                                       -0.3082      0.752     -0.410      0.682      -1.783       1.167\n",
      "company_A&M Films                                                          -1.4844      1.067     -1.391      0.164      -3.577       0.608\n",
      "company_A24                                                              5.999e-15    5.1e-15      1.177      0.239      -4e-15     1.6e-14\n",
      "company_ABC Motion Pictures                                              7.427e-16   4.99e-15      0.149      0.882   -9.04e-15    1.05e-14\n",
      "company_ADC Films                                                          -3.2237      1.062     -3.034      0.002      -5.307      -1.140\n",
      "company_AI-Film                                                         -3.419e-15   3.46e-15     -0.987      0.324   -1.02e-14    3.37e-15\n",
      "company_AITD Productions                                                 8.713e-15   3.19e-15      2.734      0.006    2.46e-15     1.5e-14\n",
      "company_AM/PM Entertainment                                             -2.747e-15   3.26e-15     -0.842      0.400   -9.14e-15    3.65e-15\n",
      "company_AMLF                                                                0.9994      1.064      0.940      0.347      -1.086       3.085\n",
      "company_AR Films                                                         1.575e-15   3.21e-15      0.491      0.624   -4.72e-15    7.87e-15\n",
      "company_ASIG Productions                                                -1.369e-15   2.76e-15     -0.497      0.620   -6.77e-15    4.04e-15\n",
      "company_AVCO Embassy Pictures                                               1.2163      0.752      1.618      0.106      -0.258       2.691\n",
      "company_Aamir Khan Productions                                          -2.674e-15   2.79e-15     -0.958      0.338   -8.15e-15     2.8e-15\n",
      "company_Aardman Animations                                                  0.9965      0.624      1.598      0.110      -0.227       2.220\n",
      "company_Aaron Russo Entertainment                                        1.621e-16   2.71e-15      0.060      0.952   -5.15e-15    5.47e-15\n",
      "company_Aaron Spelling Productions                                         -1.1994      1.063     -1.128      0.259      -3.284       0.885\n",
      "company_Abandon Entertainment                                               1.2943      1.063      1.218      0.224      -0.790       3.379\n",
      "company_Abbolita Productions                                            -7.376e-15   3.46e-15     -2.130      0.033   -1.42e-14   -5.86e-16\n",
      "company_Abraham Productions                                                 0.3079      1.066      0.289      0.773      -1.783       2.399\n",
      "company_Abramoff Production                                                -0.4277      1.070     -0.400      0.689      -2.526       1.671\n",
      "company_Acacia Filmed Entertainment                                      1.393e-15   3.14e-15      0.443      0.658   -4.77e-15    7.56e-15\n",
      "company_Access Entertainment                                            -9.142e-15   3.17e-15     -2.885      0.004   -1.54e-14   -2.93e-15\n",
      "company_Act III Communications                                              0.0943      1.064      0.089      0.929      -1.991       2.180\n",
      "company_AdScott Pictures                                                -6.926e-15   3.85e-15     -1.799      0.072   -1.45e-14    6.25e-16\n",
      "company_Ada Films                                                       -2.307e-15   3.33e-15     -0.693      0.488   -8.83e-15    4.22e-15\n",
      "company_Adams Apple Film Company                                            0.8731      1.064      0.820      0.412      -1.214       2.960\n",
      "company_Addis Wechsler Pictures                                         -4.244e-15   6.09e-15     -0.696      0.486   -1.62e-14    7.71e-15\n",
      "company_Adventure Pictures                                              -5.533e-15   3.11e-15     -1.777      0.076   -1.16e-14    5.74e-16\n",
      "company_Affirm Films                                                     6.185e-16   3.17e-15      0.195      0.845    -5.6e-15    6.83e-15\n",
      "company_After Dark Films                                                -6.191e-15   2.93e-15     -2.112      0.035   -1.19e-14   -4.44e-16\n",
      "company_Agenda                                                             -4.0501      1.192     -3.396      0.001      -6.388      -1.712\n",
      "company_Aggregate Films                                                 -1.499e-14   4.67e-15     -3.214      0.001   -2.41e-14   -5.84e-15\n",
      "company_Aim                                                             -1.405e-15   3.85e-15     -0.365      0.715   -8.96e-15    6.15e-15\n",
      "company_Alcon Entertainment                                                 0.4394      0.300      1.466      0.143      -0.148       1.027\n",
      "company_Alcor Films                                                         0.4731      0.754      0.627      0.530      -1.005       1.952\n",
      "company_Aldamisa Entertainment                                           4.175e-15   3.01e-15      1.388      0.165   -1.72e-15    1.01e-14\n",
      "company_Alfama Films                                                        0.5011      1.080      0.464      0.643      -1.617       2.619\n",
      "company_Alibaba Pictures                                                -2.258e-15   3.03e-15     -0.746      0.456    -8.2e-15    3.68e-15\n",
      "company_Alive Films                                                         0.1155      0.534      0.216      0.829      -0.932       1.163\n",
      "company_All Girl Productions                                                0.9081      0.617      1.472      0.141      -0.302       2.118\n",
      "company_All Net Productions                                              3.756e-15    2.7e-15      1.393      0.164   -1.53e-15    9.05e-15\n",
      "company_Allan Zeman Productions                                             1.6104      1.081      1.490      0.136      -0.509       3.730\n",
      "company_Alleged Productions                                              4.186e-15   3.86e-15      1.083      0.279   -3.39e-15    1.18e-14\n",
      "company_Alliance                                                         6.319e-15   3.77e-15      1.678      0.094   -1.07e-15    1.37e-14\n",
      "company_Alliance Atlantis Communications                                   -0.2912      0.754     -0.386      0.699      -1.770       1.187\n",
      "company_Alliance Communications Corporation                                -0.3582      0.938     -0.382      0.703      -2.198       1.482\n",
      "company_Alliance Films                                                  -1.823e-15   2.69e-15     -0.678      0.498    -7.1e-15    3.45e-15\n",
      "company_Allied Filmmakers                                                   0.6855      1.063      0.645      0.519      -1.400       2.771\n",
      "company_Allied Stars Ltd.                                                   0.1320      1.066      0.124      0.902      -1.959       2.223\n",
      "company_Allied Vision                                                       1.0303      1.066      0.966      0.334      -1.061       3.121\n",
      "company_Allison Shearmur Productions                                        1.8365      1.068      1.720      0.086      -0.258       3.931\n",
      "company_Alloy Entertainment                                             -6.958e-15   3.58e-15     -1.946      0.052    -1.4e-14     5.4e-17\n",
      "company_Allspark Pictures                                                1.908e-16   2.57e-15      0.074      0.941   -4.84e-15    5.22e-15\n",
      "company_Almena Films                                                        0.2292      1.175      0.195      0.845      -2.074       2.533\n",
      "company_Almost You                                                      -1.189e-15   3.18e-15     -0.374      0.709   -7.43e-15    5.05e-15\n",
      "company_Alphaville Films                                                   -0.5430      1.064     -0.510      0.610      -2.629       1.543\n",
      "company_Also Known As Pictures                                             -0.7910      1.078     -0.734      0.463      -2.905       1.323\n",
      "company_Altavista Films                                                  5.318e-15   3.32e-15      1.602      0.109   -1.19e-15    1.18e-14\n",
      "company_Alter Ego Entertainment                                            -0.8647      1.193     -0.725      0.469      -3.205       1.475\n",
      "company_Am Psycho Productions                                               0.7292      1.062      0.687      0.492      -1.353       2.811\n",
      "company_Amasia Entertainment                                            -3.559e-15   2.54e-15     -1.403      0.161   -8.53e-15    1.41e-15\n",
      "company_Amazon Studios                                                  -2.149e-15   3.36e-15     -0.640      0.522   -8.74e-15    4.44e-15\n",
      "company_Amblin Entertainment                                                1.1374      0.358      3.182      0.001       0.436       1.838\n",
      "company_Ambridge Film Partnership                                           0.5392      1.065      0.506      0.613      -1.550       2.629\n",
      "company_Amen Ra Films                                                       1.1923      1.062      1.122      0.262      -0.891       3.275\n",
      "company_Amercent Films                                                      0.7597      0.619      1.227      0.220      -0.454       1.974\n",
      "company_American Cinema Productions                                         1.2751      1.063      1.200      0.230      -0.809       3.360\n",
      "company_American Empirical Pictures                                         0.2692      1.060      0.254      0.800      -1.810       2.349\n",
      "company_American Entertainment Partners II L.P.                             1.5345      0.752      2.039      0.042       0.059       3.010\n",
      "company_American Filmworks                                               1.673e-15    3.1e-15      0.539      0.590   -4.41e-15    7.75e-15\n",
      "company_American Playhouse                                               -5.84e-15   4.01e-15     -1.455      0.146   -1.37e-14    2.03e-15\n",
      "company_American Playhouse Theatrical Films                             -1.104e-15   2.25e-15     -0.492      0.623   -5.51e-15     3.3e-15\n",
      "company_American Zoetrope                                                  -0.6127      0.622     -0.985      0.325      -1.833       0.607\n",
      "company_Anabasis N.V.                                                       2.4411      1.063      2.296      0.022       0.357       4.526\n",
      "company_Anarchist's Convention Films                                    -2.609e-15   2.83e-15     -0.921      0.357   -8.17e-15    2.95e-15\n",
      "company_Anchor Bay Films                                                -3.332e-15   2.65e-15     -1.256      0.209   -8.53e-15    1.87e-15\n",
      "company_Andrea Sperling Productions                                     -3.272e-15   2.45e-15     -1.333      0.183   -8.08e-15    1.54e-15\n",
      "company_Andrew Lauren Productions                                        9.227e-16   2.32e-15      0.397      0.691   -3.64e-15    5.48e-15\n",
      "company_Ang Lee Productions                                             -4.888e-15    2.2e-15     -2.218      0.027   -9.21e-15   -5.66e-16\n",
      "company_Angry Films                                                         1.2361      1.064      1.162      0.245      -0.850       3.323\n",
      "company_Animal Kingdom                                                   4.593e-16   2.32e-15      0.198      0.843    -4.1e-15    5.02e-15\n",
      "company_Animal Logic                                                     3.239e-15   2.29e-15      1.412      0.158   -1.26e-15    7.74e-15\n",
      "company_Animal Productions LLC                                             -5.0913      1.067     -4.771      0.000      -7.184      -2.999\n",
      "company_Annapurna Pictures                                              -5.452e-15   2.74e-15     -1.992      0.047   -1.08e-14   -8.43e-17\n",
      "company_Annapurna Productions                                            1.126e-14   3.22e-15      3.499      0.000    4.95e-15    1.76e-14\n",
      "company_Annhall                                                         -1.431e-15   4.65e-15     -0.308      0.758   -1.06e-14    7.69e-15\n",
      "company_Anonymous Content                                                   0.5282      1.069      0.494      0.621      -1.569       2.625\n",
      "company_Apartment Story                                                  2.447e-15   2.66e-15      0.919      0.358   -2.77e-15    7.67e-15\n",
      "company_Apatow Productions                                              -4.567e-15   3.28e-15     -1.391      0.164    -1.1e-14    1.87e-15\n",
      "company_ApolloMedia Distribution                                         7.345e-15   2.59e-15      2.836      0.005    2.27e-15    1.24e-14\n",
      "company_Apostle                                                             1.3962      1.064      1.312      0.190      -0.690       3.483\n",
      "company_Appian Way                                                      -5.022e-16   2.63e-15     -0.191      0.849   -5.66e-15    4.66e-15\n",
      "company_Applied Action                                                      0.1836      0.756      0.243      0.808      -1.299       1.666\n",
      "company_Aramid Entertainment Fund                                       -1.175e-15   2.64e-15     -0.445      0.657   -6.36e-15    4.01e-15\n",
      "company_Arc Productions                                                    -0.2792      1.073     -0.260      0.795      -2.384       1.826\n",
      "company_Arcade Pictures                                                 -2.221e-15   2.82e-15     -0.787      0.432   -7.76e-15    3.32e-15\n",
      "company_Arcafin B.V.                                                        0.7665      1.063      0.721      0.471      -1.317       2.850\n",
      "company_Archer Gray                                                      3.005e-15   2.66e-15      1.129      0.259   -2.22e-15    8.23e-15\n",
      "company_Archer Street Productions                                           0.9117      1.070      0.852      0.394      -1.186       3.009\n",
      "company_Arena                                                           -8.417e-15   2.65e-15     -3.173      0.002   -1.36e-14   -3.22e-15\n",
      "company_Argos Films                                                        -2.5286      1.326     -1.907      0.057      -5.128       0.071\n",
      "company_ArieScope Pictures                                                 -4.3388      0.752     -5.772      0.000      -5.813      -2.865\n",
      "company_Aries Cinematográfica Argentina                                 -4.112e-15   2.54e-15     -1.617      0.106    -9.1e-15    8.74e-16\n",
      "company_Arka Mediaworks                                                  2.489e-15   2.43e-15      1.024      0.306   -2.28e-15    7.25e-15\n",
      "company_Armory Films                                                    -2.142e-15   2.37e-15     -0.904      0.366   -6.79e-15     2.5e-15\n",
      "company_Arnold Kopelson Productions                                         1.0951      1.061      1.032      0.302      -0.985       3.175\n",
      "company_Art Linson Productions                                              1.0208      0.616      1.658      0.097      -0.187       2.228\n",
      "company_Artbees                                                          4.021e-15   2.12e-15      1.896      0.058   -1.38e-16    8.18e-15\n",
      "company_Artfire Films                                                      -0.0810      1.067     -0.076      0.940      -2.173       2.011\n",
      "company_Artic Productions LLC                                              -1.7071      1.062     -1.608      0.108      -3.789       0.375\n",
      "company_Artimm                                                          -6.821e-15   2.74e-15     -2.493      0.013   -1.22e-14   -1.46e-15\n",
      "company_Artisan Entertainment                                               0.0585      0.384      0.152      0.879      -0.694       0.811\n",
      "company_Artista Management                                                  0.0252      1.062      0.024      0.981      -2.057       2.108\n",
      "company_Artistry Limited                                                   -0.0542      1.071     -0.051      0.960      -2.154       2.046\n",
      "company_Artists First                                                   -2.727e-15   2.17e-15     -1.256      0.209   -6.98e-15    1.53e-15\n",
      "company_Artists Public Domain                                              -2.4974      1.070     -2.333      0.020      -4.597      -0.398\n",
      "company_Arts Council of England                                          1.693e-15   2.56e-15      0.663      0.508   -3.32e-15     6.7e-15\n",
      "company_Ascendant Pictures                                              -7.733e-15   2.47e-15     -3.128      0.002   -1.26e-14   -2.89e-15\n",
      "company_Ascot Film                                                         -0.6736      1.068     -0.631      0.528      -2.768       1.420\n",
      "company_Asghar Farhadi Productions                                       4.981e-16      3e-15      0.166      0.868   -5.38e-15    6.38e-15\n",
      "company_Asia Union Film & Entertainment Ltd.                                1.9800      1.067      1.855      0.064      -0.113       4.073\n",
      "company_Aspen Film Society                                                  0.2548      0.755      0.338      0.736      -1.225       1.735\n",
      "company_Astoria Films                                                       2.2249      1.065      2.090      0.037       0.137       4.313\n",
      "company_Astrakan Films                                                  -8.573e-15    3.4e-15     -2.524      0.012   -1.52e-14   -1.91e-15\n",
      "company_Astral Bellevue Pathé                                               2.1420      0.753      2.846      0.004       0.666       3.618\n",
      "company_Astralwerks                                                         0.7839      1.062      0.738      0.460      -1.298       2.866\n",
      "company_Astute Films                                                    -3.076e-15    2.3e-15     -1.340      0.180   -7.58e-15    1.43e-15\n",
      "company_Asymmetrical Productions                                           -1.6808      1.075     -1.564      0.118      -3.788       0.427\n",
      "company_Atchafalaya                                                        -0.1376      1.066     -0.129      0.897      -2.228       1.953\n",
      "company_Atlantic Entertainment Group                                        0.2978      0.535      0.557      0.578      -0.751       1.346\n",
      "company_Atlantic Pictures (II)                                          -1.663e-15   2.36e-15     -0.703      0.482    -6.3e-15    2.97e-15\n",
      "company_Atlantic Records                                                 -8.89e-16   2.62e-15     -0.339      0.735   -6.03e-15    4.25e-15\n",
      "company_Atlas Entertainment                                                 1.4591      0.624      2.339      0.019       0.236       2.683\n",
      "company_Atlas Productions                                                  -1.0813      1.071     -1.010      0.313      -3.181       1.018\n",
      "company_Atomic Monster                                                   2.034e-15   2.05e-15      0.994      0.320   -1.98e-15    6.05e-15\n",
      "company_Audax Films                                                      1.701e-16   2.15e-15      0.079      0.937   -4.05e-15    4.39e-15\n",
      "company_Audifilm                                                        -2.036e-15   2.41e-15     -0.845      0.398   -6.76e-15    2.69e-15\n",
      "company_Audiovisual Aval SGR                                                0.2572      1.072      0.240      0.810      -1.846       2.360\n",
      "company_Audiovisual Development Bureau, Ministerio da Cultura           -2.788e-15   2.11e-15     -1.324      0.186   -6.92e-15    1.34e-15\n",
      "company_August Entertainment                                            -7.152e-16   2.07e-15     -0.345      0.730   -4.78e-15    3.35e-15\n",
      "company_Aurora                                                             -0.3201      1.072     -0.299      0.765      -2.422       1.782\n",
      "company_Aurora Alliance Films                                           -4.642e-15   2.55e-15     -1.822      0.069   -9.64e-15    3.54e-16\n",
      "company_Australian Film Finance Corporation (AFFC)                          0.6415      0.752      0.853      0.394      -0.833       2.116\n",
      "company_Automatik Entertainment                                            -3.8505      1.064     -3.620      0.000      -5.937      -1.764\n",
      "company_Autonomous Films                                                   -1.1254      0.753     -1.494      0.135      -2.602       0.351\n",
      "company_Avenue Pictures                                                    -1.1730      0.615     -1.908      0.056      -2.378       0.032\n",
      "company_Avery Pix                                                           0.5837      0.755      0.773      0.440      -0.898       2.065\n",
      "company_Avi Arad & Associates                                           -4.226e-15   2.63e-15     -1.608      0.108   -9.38e-15    9.28e-16\n",
      "company_Avi Arad Productions                                               -4.3693      1.065     -4.104      0.000      -6.457      -2.281\n",
      "company_Aviron Pictures                                                  1.974e-15   2.24e-15      0.881      0.378   -2.42e-15    6.37e-15\n",
      "company_Avnet/Kerner Productions                                            1.1865      1.064      1.115      0.265      -0.899       3.272\n",
      "company_Avrora Media                                                    -7.096e-16   2.44e-15     -0.291      0.771   -5.49e-15    4.07e-15\n",
      "company_Award Entertainment                                                 0.6788      1.061      0.640      0.522      -1.402       2.760\n",
      "company_Awesomeness Films                                               -3.952e-15   2.29e-15     -1.728      0.084   -8.44e-15    5.32e-16\n",
      "company_Azoff Entertainment                                                 0.3977      1.063      0.374      0.708      -1.686       2.481\n",
      "company_B Story                                                         -2.251e-15   2.25e-15     -1.000      0.318   -6.67e-15    2.16e-15\n",
      "company_B24                                                             -6.832e-15    2.4e-15     -2.849      0.004   -1.15e-14   -2.13e-15\n",
      "company_BBC Films                                                          -0.1915      0.382     -0.501      0.617      -0.941       0.558\n",
      "company_BBE                                                              9.906e-16   2.14e-15      0.463      0.643    -3.2e-15    5.19e-15\n",
      "company_BBL Motion Picture Studios                                      -2.178e-15   2.38e-15     -0.917      0.359   -6.84e-15    2.48e-15\n",
      "company_BCDF Pictures                                                   -6.762e-15   2.52e-15     -2.684      0.007   -1.17e-14   -1.82e-15\n",
      "company_BET Films                                                        1.977e-15   2.29e-15      0.864      0.387   -2.51e-15    6.46e-15\n",
      "company_BET Pictures                                                        1.2205      1.065      1.146      0.252      -0.868       3.309\n",
      "company_BN Films                                                        -1.992e-15   2.21e-15     -0.903      0.367   -6.32e-15    2.34e-15\n",
      "company_BRON Studios                                                       -1.1617      1.089     -1.067      0.286      -3.297       0.974\n",
      "company_BZ Entertainment                                                 4.123e-15   2.51e-15      1.640      0.101   -8.08e-16    9.05e-15\n",
      "company_Baby Way Productions                                            -1.215e-15   1.69e-15     -0.717      0.473   -4.54e-15    2.11e-15\n",
      "company_Babylon                                                             0.5978      1.066      0.561      0.575      -1.493       2.688\n",
      "company_Bachelor Party Productions                                          0.6797      1.067      0.637      0.524      -1.412       2.772\n",
      "company_Bad Bird Productions                                                0.6681      1.063      0.628      0.530      -1.417       2.753\n",
      "company_Bad Cop Bad Cop Film Productions                                 3.399e-16   3.48e-15      0.098      0.922   -6.49e-15    7.17e-15\n",
      "company_Bad Lt. Productions                                                -2.8111      1.194     -2.354      0.019      -5.153      -0.469\n",
      "company_Bad Robot                                                          -0.0883      0.756     -0.117      0.907      -1.571       1.394\n",
      "company_Bakshi Animation                                                   -0.1603      1.063     -0.151      0.880      -2.244       1.924\n",
      "company_Balcor Film Investors                                           -5.064e-15   2.99e-15     -1.694      0.090   -1.09e-14    7.97e-16\n",
      "company_Baldwin/Cohen Productions                                          -0.2928      1.063     -0.276      0.783      -2.377       1.791\n",
      "company_Baltimore Pictures                                                 -0.0321      0.535     -0.060      0.952      -1.082       1.017\n",
      "company_Bandai Visual Company                                              -1.9415      1.066     -1.822      0.069      -4.031       0.148\n",
      "company_Bandeira Entertainment                                             -1.5930      0.750     -2.123      0.034      -3.064      -0.122\n",
      "company_Banner Entertainment                                            -4.305e-16   3.06e-15     -0.141      0.888   -6.43e-15    5.57e-15\n",
      "company_Barcelona Films                                                    -0.4073      1.070     -0.381      0.704      -2.506       1.691\n",
      "company_Barclays Mercantile Industrial Finance                          -6.846e-17   3.06e-15     -0.022      0.982   -6.06e-15    5.92e-15\n",
      "company_Barry & Enright Productions                                      5.586e-16   2.04e-15      0.274      0.784   -3.43e-15    4.55e-15\n",
      "company_Barunson E&A                                                     2.693e-15   2.23e-15      1.207      0.228   -1.68e-15    7.07e-15\n",
      "company_Bates Entertainment                                              1.315e-15   2.04e-15      0.643      0.520   -2.69e-15    5.32e-15\n",
      "company_Baumgarten-Prophet Entertainment                                   -1.4634      1.064     -1.375      0.169      -3.550       0.623\n",
      "company_Bavaria Film                                                        1.1348      1.064      1.067      0.286      -0.952       3.221\n",
      "company_Bazelevs Production                                                 0.6543      1.088      0.602      0.548      -1.479       2.787\n",
      "company_Bazmark Films                                                       1.4653      1.071      1.369      0.171      -0.634       3.565\n",
      "company_Beacon Communications                                               0.4568      0.436      1.048      0.295      -0.398       1.312\n",
      "company_Beckner/Gorman Productions                                         -0.9883      1.066     -0.927      0.354      -3.078       1.102\n",
      "company_Beco Films                                                       8.407e-16   2.03e-15      0.413      0.679   -3.15e-15    4.83e-15\n",
      "company_Before The Door Pictures                                            0.5240      1.072      0.489      0.625      -1.577       2.625\n",
      "company_Beijing Dengfeng International Culture Communications Company   -6.933e-16   2.44e-15     -0.285      0.776   -5.47e-15    4.08e-15\n",
      "company_Beijing Diqi Yinxiang Entertainment                              1.344e-15   1.98e-15      0.680      0.497   -2.53e-15    5.22e-15\n",
      "company_Beijing New Picture Film                                        -5.321e-16   2.38e-15     -0.223      0.823    -5.2e-15    4.14e-15\n",
      "company_Beijing Skywheel Entertainment Co.                              -5.701e-16   2.01e-15     -0.284      0.777   -4.51e-15    3.37e-15\n",
      "company_Bel Air Entertainment                                              -0.0096      0.753     -0.013      0.990      -1.486       1.467\n",
      "company_Belladonna Productions                                              0.1906      1.062      0.180      0.858      -1.891       2.272\n",
      "company_Bellanova Films                                                 -4.202e-16   2.87e-15     -0.146      0.884   -6.05e-15    5.21e-15\n",
      "company_Ben-Ami/Leeds Productions                                          -0.1727      1.062     -0.163      0.871      -2.256       1.910\n",
      "company_BenderSpink                                                         1.2836      0.756      1.698      0.090      -0.198       2.766\n",
      "company_Bergman Lustig Productions                                         -1.2744      1.063     -1.199      0.231      -3.359       0.810\n",
      "company_Berk/Lane Entertainment                                          4.574e-15   2.48e-15      1.842      0.066   -2.95e-16    9.44e-15\n",
      "company_Beverly Detroit                                                  2.243e-15   2.18e-15      1.027      0.305   -2.04e-15    6.53e-15\n",
      "company_Big Beach Films                                                     1.0531      1.068      0.986      0.324      -1.041       3.147\n",
      "company_Big City Pictures                                                  -0.1429      1.064     -0.134      0.893      -2.230       1.944\n",
      "company_Big Dog Films                                                       0.3288      1.069      0.308      0.758      -1.767       2.425\n",
      "company_Big Indie Pictures                                               1.152e-15   2.05e-15      0.562      0.574   -2.87e-15    5.18e-15\n",
      "company_Big Red Dog Productions                                            -1.4695      1.074     -1.369      0.171      -3.575       0.636\n",
      "company_Big Screen Productions                                            4.85e-15   2.54e-15      1.909      0.056   -1.32e-16    9.83e-15\n",
      "company_Big Talk Productions                                            -2.423e-16   2.31e-15     -0.105      0.916   -4.77e-15    4.29e-15\n",
      "company_Bigel / Mailer Films                                            -1.853e-16   2.16e-15     -0.086      0.932   -4.42e-15    4.05e-15\n",
      "company_Bill Graham Films                                                   0.7195      1.062      0.677      0.498      -1.364       2.803\n",
      "company_Bill Kenwright Films                                            -4.369e-16   2.33e-15     -0.187      0.851   -5.01e-15    4.14e-15\n",
      "company_Black Bear Pictures                                             -2.083e-16   2.23e-15     -0.093      0.926   -4.59e-15    4.17e-15\n",
      "company_Black Bicycle Entertainment                                      -1.06e-15   2.27e-15     -0.466      0.641   -5.52e-15     3.4e-15\n",
      "company_Black Entertainment Television (BET)                            -3.407e-15   2.87e-15     -1.189      0.235   -9.03e-15    2.21e-15\n",
      "company_Black Label Media                                                1.346e-15   2.43e-15      0.555      0.579   -3.41e-15     6.1e-15\n",
      "company_BlackWhite                                                      -1.024e-15   1.85e-15     -0.552      0.581   -4.66e-15    2.61e-15\n",
      "company_Blank of the Dead Productions                                    2.423e-15   2.22e-15      1.091      0.276   -1.93e-15    6.78e-15\n",
      "company_Bleecker Street Films                                           -5.821e-15   2.21e-15     -2.637      0.008   -1.01e-14   -1.49e-15\n",
      "company_Bleiberg Entertainment                                          -7.659e-16   1.85e-15     -0.414      0.679   -4.39e-15    2.86e-15\n",
      "company_Blinding Edge Pictures                                          -4.827e-15   1.97e-15     -2.450      0.014   -8.69e-15   -9.63e-16\n",
      "company_Block / Hanson                                                  -2.683e-15    2.3e-15     -1.167      0.243   -7.19e-15    1.83e-15\n",
      "company_Block 2 Pictures                                                    0.0371      1.067      0.035      0.972      -2.055       2.129\n",
      "company_Blockbuster Films                                                  -4.1179      1.062     -3.877      0.000      -6.201      -2.035\n",
      "company_Bloom                                                            5.259e-15   2.06e-15      2.554      0.011    1.22e-15     9.3e-15\n",
      "company_Blow Up Pictures                                                   -0.6500      1.064     -0.611      0.541      -2.736       1.436\n",
      "company_Blue Askew                                                          1.4529      1.062      1.368      0.171      -0.630       3.535\n",
      "company_Blue Budgie Films Limited                                           1.1564      1.061      1.090      0.276      -0.924       3.237\n",
      "company_Blue Rider Pictures                                                -1.0167      1.062     -0.957      0.338      -3.099       1.066\n",
      "company_Blue Sky Films                                                  -7.036e-16      2e-15     -0.351      0.726   -4.63e-15    3.23e-15\n",
      "company_Blue Sky Studios                                                    1.5101      0.760      1.986      0.047       0.019       3.001\n",
      "company_Blue Streak Films                                                  -1.3721      1.174     -1.169      0.243      -3.674       0.930\n",
      "company_Blue Train Productions                                          -4.188e-15   2.21e-15     -1.893      0.059   -8.53e-15    1.51e-16\n",
      "company_Blue Tulip Productions                                             -0.0422      1.073     -0.039      0.969      -2.147       2.063\n",
      "company_Blue Yonder Films                                                5.651e-16   1.65e-15      0.343      0.732   -2.67e-15     3.8e-15\n",
      "company_Bluegrass Films                                                     0.9198      1.064      0.865      0.387      -1.166       3.006\n",
      "company_Blueprint Pictures                                              -3.009e-15   1.92e-15     -1.567      0.117   -6.77e-15    7.56e-16\n",
      "company_Blumhouse Productions                                               0.5896      0.533      1.105      0.269      -0.457       1.636\n",
      "company_Bob Industries                                                   -1.57e-15   2.47e-15     -0.635      0.526   -6.42e-15    3.28e-15\n",
      "company_Bob Yari Productions                                               -0.0687      0.619     -0.111      0.912      -1.283       1.146\n",
      "company_Boies / Schiller Film Group                                      5.914e-15   2.22e-15      2.669      0.008    1.57e-15    1.03e-14\n",
      "company_Bold Films                                                         -0.1302      1.066     -0.122      0.903      -2.220       1.959\n",
      "company_Boll Kino Beteiligungs GmbH & Co. KG                               -1.0839      0.623     -1.741      0.082      -2.305       0.137\n",
      "company_Bona Fide Productions                                               0.3120      0.752      0.415      0.678      -1.163       1.787\n",
      "company_Bona Film Group                                                 -2.492e-15    1.8e-15     -1.384      0.166   -6.02e-15    1.04e-15\n",
      "company_Borough Park Productions                                         3.144e-15   2.18e-15      1.439      0.150   -1.14e-15    7.43e-15\n",
      "company_Brandywine Productions                                              1.4834      1.071      1.386      0.166      -0.616       3.583\n",
      "company_Brant-Allen                                                      1.259e-15   2.26e-15      0.558      0.577   -3.17e-15    5.68e-15\n",
      "company_Branti Film Productions                                            -0.2924      1.063     -0.275      0.783      -2.378       1.793\n",
      "company_Braven Films                                                    -1.216e-15   1.52e-15     -0.802      0.423   -4.19e-15    1.76e-15\n",
      "company_Breathless Associates                                              -3.2082      1.069     -3.000      0.003      -5.305      -1.111\n",
      "company_Bridgit Folman Film Gang                                           -0.8393      1.069     -0.785      0.433      -2.937       1.258\n",
      "company_Brigand Films                                                    2.627e-15   1.95e-15      1.348      0.178   -1.19e-15    6.45e-15\n",
      "company_Brillstein-Grey Entertainment                                      -3.2313      0.753     -4.293      0.000      -4.707      -1.755\n",
      "company_British Broadcasting Corporation (BBC)                             -0.2329      0.614     -0.379      0.705      -1.438       0.972\n",
      "company_British Broadcasting Corporation (BBC) Television                  -0.1782      1.063     -0.168      0.867      -2.264       1.907\n",
      "company_British Screen Productions                                         -1.1298      0.756     -1.495      0.135      -2.612       0.352\n",
      "company_Broad Green Pictures                                             2.876e-15   2.58e-15      1.116      0.264   -2.18e-15    7.93e-15\n",
      "company_Broadway Pictures                                                   0.6834      0.757      0.903      0.366      -0.800       2.167\n",
      "company_Broadway Video                                                     -0.1656      0.758     -0.218      0.827      -1.652       1.320\n",
      "company_Broken Lizard Industries                                        -2.431e-15   1.93e-15     -1.259      0.208   -6.22e-15    1.35e-15\n",
      "company_Broken Road Productions                                          5.585e-16   2.04e-15      0.274      0.784   -3.44e-15    4.56e-15\n",
      "company_Bronco Productions                                                 -4.5126      1.066     -4.232      0.000      -6.603      -2.422\n",
      "company_Bronze Eye Productions                                           1.906e-15   2.41e-15      0.790      0.429   -2.82e-15    6.63e-15\n",
      "company_Brooksfilms                                                        -0.6173      0.535     -1.154      0.249      -1.666       0.432\n",
      "company_Brothers McMullen Productions                                   -4.756e-15   2.47e-15     -1.922      0.055   -9.61e-15    9.66e-17\n",
      "company_Brownstone Entertainment (II)                                    -8.33e-15      2e-15     -4.166      0.000   -1.23e-14   -4.41e-15\n",
      "company_Brownstone Productions (II)                                      2.702e-15   2.01e-15      1.345      0.179   -1.24e-15    6.64e-15\n",
      "company_Bruin Grip Services                                                -4.5609      1.061     -4.298      0.000      -6.642      -2.480\n",
      "company_Bryna Productions                                                   0.3999      1.068      0.375      0.708      -1.694       2.493\n",
      "company_Buckeye Films                                                    3.221e-17   1.95e-15      0.016      0.987    -3.8e-15    3.86e-15\n",
      "company_Bud Yorkin Productions                                          -3.739e-16   2.09e-15     -0.179      0.858   -4.47e-15    3.72e-15\n",
      "company_Buena Vista Home Entertainment                                  -3.137e-15   1.91e-15     -1.645      0.100   -6.88e-15    6.03e-16\n",
      "company_Buena Vista International                                       -1.553e-15   2.16e-15     -0.717      0.473    -5.8e-15    2.69e-15\n",
      "company_Bulbul Films                                                     2.307e-15   1.63e-15      1.412      0.158   -8.96e-16    5.51e-15\n",
      "company_Bull's Eye Entertainment                                            0.2484      0.757      0.328      0.743      -1.237       1.734\n",
      "company_Bullwinkle Studios                                              -3.308e-16   1.94e-15     -0.171      0.864   -4.13e-15    3.47e-15\n",
      "company_Bungalow Productions                                                1.4792      1.064      1.390      0.165      -0.608       3.566\n",
      "company_Burk A Project                                                   2.377e-15   2.06e-15      1.154      0.249   -1.66e-15    6.42e-15\n",
      "company_Butcher's Run Films                                                 1.6275      1.071      1.520      0.129      -0.473       3.728\n",
      "company_Bórd Scannán na hÉireann                                            0.0349      1.068      0.033      0.974      -2.060       2.129\n",
      "company_C & C Brown Production                                              1.0757      1.061      1.014      0.311      -1.004       3.156\n",
      "company_C-2 Pictures                                                        0.3562      1.067      0.334      0.739      -1.736       2.449\n",
      "company_C.A.T. Films                                                     4.715e-15   2.35e-15      2.006      0.045    1.06e-16    9.32e-15\n",
      "company_C.H.U.D. Productions                                               -0.2152      1.060     -0.203      0.839      -2.295       1.864\n",
      "company_C.O.R.E. Feature Animation                                          1.1465      1.075      1.066      0.286      -0.962       3.255\n",
      "company_CBS Films                                                           0.4769      1.063      0.449      0.654      -1.608       2.562\n",
      "company_CBS Theatrical Films                                             1.323e-15   2.11e-15      0.628      0.530   -2.81e-15    5.45e-15\n",
      "company_CG Cinéma                                                        8.986e-16   2.62e-15      0.343      0.731   -4.23e-15    6.03e-15\n",
      "company_CIP Filmproduktion GmbH                                         -4.854e-15   1.75e-15     -2.768      0.006   -8.29e-15   -1.42e-15\n",
      "company_CJ Entertainment                                                   -0.9611      0.540     -1.780      0.075      -2.020       0.098\n",
      "company_CNCAIMC                                                         -7.652e-16   2.34e-15     -0.327      0.744   -5.35e-15    3.82e-15\n",
      "company_CTB Film Company                                                 2.834e-15   1.89e-15      1.502      0.133   -8.67e-16    6.54e-15\n",
      "company_Cabal Film                                                          1.7539      1.068      1.643      0.101      -0.340       3.848\n",
      "company_Cable and Wireless Finance                                        5.98e-16   1.35e-15      0.443      0.658   -2.05e-15    3.24e-15\n",
      "company_CalMaple                                                         -1.94e-15    2.2e-15     -0.884      0.377   -6.25e-15    2.37e-15\n",
      "company_Calimari Productions                                               -0.5861      1.065     -0.550      0.582      -2.676       1.503\n",
      "company_Callahan Filmworks                                                4.73e-15   2.51e-15      1.881      0.060      -2e-16    9.66e-15\n",
      "company_Cambridge Productions                                            2.092e-15    2.1e-15      0.996      0.319   -2.03e-15    6.21e-15\n",
      "company_Camelot Pictures                                                    0.3793      1.067      0.356      0.722      -1.712       2.471\n",
      "company_Camp Hill                                                           0.1162      1.061      0.110      0.913      -1.965       2.197\n",
      "company_Canadian International Studios VIII                             -5.555e-16   1.78e-15     -0.311      0.755   -4.05e-15    2.94e-15\n",
      "company_Canal+                                                              1.0263      0.756      1.358      0.175      -0.456       2.508\n",
      "company_Canal+ Droits Audiovisuels                                       1.123e-15   2.19e-15      0.513      0.608   -3.17e-15    5.41e-15\n",
      "company_Canal+ España                                                      -0.9749      1.200     -0.812      0.417      -3.328       1.378\n",
      "company_Canana Films                                                    -1.803e-15   2.01e-15     -0.898      0.370   -5.74e-15    2.14e-15\n",
      "company_Candyman Films                                                      0.6800      1.061      0.641      0.521      -1.400       2.760\n",
      "company_Cannon Entertainment                                               -0.1860      0.754     -0.247      0.805      -1.665       1.293\n",
      "company_Cannon Films                                                        1.5359      1.064      1.444      0.149      -0.550       3.622\n",
      "company_Cannon Films Inc.                                                   3.0618      1.063      2.880      0.004       0.977       5.147\n",
      "company_Cannon Group                                                     2.094e-15   2.31e-15      0.906      0.365   -2.44e-15    6.63e-15\n",
      "company_Cannon International                                               -0.0332      1.062     -0.031      0.975      -2.116       2.050\n",
      "company_Cannon Pictures                                                    -0.3273      1.133     -0.289      0.773      -2.548       1.894\n",
      "company_Canon Italia S.r.l.                                             -8.753e-16   2.02e-15     -0.434      0.664   -4.83e-15    3.08e-15\n",
      "company_Capcom Entertainment                                                2.1027      1.066      1.972      0.049       0.012       4.193\n",
      "company_Capella Films                                                       0.6426      1.062      0.605      0.545      -1.440       2.726\n",
      "company_Capella International                                               0.8161      1.065      0.767      0.443      -1.271       2.904\n",
      "company_Capital Equipment Leasing                                        5.201e-15   3.18e-15      1.634      0.102   -1.04e-15    1.14e-14\n",
      "company_Capitol Films                                                       0.5546      1.062      0.522      0.602      -1.529       2.638\n",
      "company_Cappa Production                                                   -1.9021      1.061     -1.792      0.073      -3.984       0.179\n",
      "company_Capricorn                                                        2.486e-15   2.26e-15      1.101      0.271   -1.94e-15    6.91e-15\n",
      "company_Captivity Productions                                               0.8015      1.072      0.748      0.455      -1.301       2.904\n",
      "company_Caravan Pictures                                                    0.5043      0.361      1.396      0.163      -0.204       1.213\n",
      "company_Carnival Film & Television                                         -4.0279      1.063     -3.790      0.000      -6.112      -1.944\n",
      "company_Carolco Entertainment                                           -3.998e-15   1.71e-15     -2.331      0.020   -7.36e-15   -6.35e-16\n",
      "company_Carolco International N.V.                                          0.3974      0.509      0.781      0.435      -0.600       1.395\n",
      "company_Carolco Pictures                                                    0.7731      0.313      2.469      0.014       0.159       1.387\n",
      "company_Carousel Productions (II)                                           0.2945      1.065      0.276      0.782      -1.794       2.383\n",
      "company_Carsey-Werner Company                                            3.632e-17   2.03e-15      0.018      0.986   -3.94e-15    4.01e-15\n",
      "company_Carthago Films S.a.r.l.                                            -1.1985      1.074     -1.116      0.264      -3.304       0.907\n",
      "company_Carver Films                                                    -3.903e-15      2e-15     -1.953      0.051   -7.82e-15    1.55e-17\n",
      "company_Casey Silver Productions                                            1.1667      1.063      1.097      0.273      -0.918       3.251\n",
      "company_Castelao Producciones                                               0.9778      1.068      0.915      0.360      -1.117       3.073\n",
      "company_Castle Rock Entertainment                                           0.2731      0.198      1.377      0.169      -0.116       0.662\n",
      "company_Casual Friday Productions                                           1.4248      0.764      1.865      0.062      -0.073       2.923\n",
      "company_Cattle Annie Productions                                         2.291e-15    2.3e-15      0.995      0.320   -2.23e-15    6.81e-15\n",
      "company_Cave 76                                                             1.2684      1.061      1.196      0.232      -0.812       3.348\n",
      "company_Caviar                                                           2.551e-15   2.48e-15      1.028      0.304   -2.32e-15    7.42e-15\n",
      "company_Cecchi Gori Europa N.V.                                         -5.613e-16   2.39e-15     -0.235      0.814   -5.25e-15    4.12e-15\n",
      "company_Cecchi Gori Group Tiger Cinematografica                            -0.5811      1.068     -0.544      0.587      -2.676       1.514\n",
      "company_Cecchi Gori Pictures                                            -7.788e-16   1.96e-15     -0.398      0.691   -4.61e-15    3.06e-15\n",
      "company_Celador Films                                                       2.6756      1.064      2.514      0.012       0.588       4.763\n",
      "company_Celandine Films                                                 -4.266e-15    2.2e-15     -1.939      0.053   -8.58e-15    4.82e-17\n",
      "company_Celluloid Dreams                                                -2.051e-15   2.34e-15     -0.875      0.382   -6.64e-15    2.54e-15\n",
      "company_Cent Productions Inc.                                               1.3116      1.071      1.225      0.221      -0.788       3.411\n",
      "company_Centropolis Film Productions                                        1.4798      1.068      1.386      0.166      -0.614       3.573\n",
      "company_Centurion                                                           1.2297      0.764      1.610      0.107      -0.268       2.727\n",
      "company_Chai Productions                                                 4.202e-15   2.25e-15      1.869      0.062   -2.06e-16    8.61e-15\n",
      "company_Challenge Film Corporation                                          0.5838      1.077      0.542      0.588      -1.528       2.696\n",
      "company_Channel Films                                                       0.3870      1.064      0.364      0.716      -1.699       2.473\n",
      "company_Channel Four Films                                                 -2.3527      0.755     -3.115      0.002      -3.834      -0.872\n",
      "company_Charles Burnett Productions                                      2.391e-15   1.78e-15      1.344      0.179    -1.1e-15    5.88e-15\n",
      "company_Charles H. Schneer Productions                                      1.4950      0.756      1.976      0.048       0.012       2.978\n",
      "company_Chartoff-Winkler Productions                                        1.9287      0.755      2.555      0.011       0.448       3.409\n",
      "company_Chase Films                                                      2.477e-15   1.96e-15      1.266      0.206   -1.36e-15    6.32e-15\n",
      "company_Cheerleader LLC                                                    -1.3969      1.062     -1.315      0.189      -3.480       0.686\n",
      "company_Chernin Entertainment                                            1.354e-15   1.72e-15      0.790      0.430   -2.01e-15    4.72e-15\n",
      "company_Cherry Alley Productions                                         3.899e-15   2.23e-15      1.749      0.080   -4.73e-16    8.27e-15\n",
      "company_Cherry Sky Films                                                   -1.1161      1.063     -1.050      0.294      -3.201       0.968\n",
      "company_Chester Films Inc.                                              -3.288e-15   1.72e-15     -1.911      0.056   -6.66e-15    8.55e-17\n",
      "company_Chestnut Ridge Productions                                      -3.156e-16   2.58e-15     -0.122      0.903   -5.38e-15    4.75e-15\n",
      "company_Cheyenne Enterprises                                                0.5586      0.753      0.741      0.458      -0.919       2.036\n",
      "company_Chickie the Cop                                                     0.3264      1.064      0.307      0.759      -1.761       2.414\n",
      "company_China Film Co-Production Corporation                             1.353e-15   1.93e-15      0.703      0.482   -2.42e-15    5.13e-15\n",
      "company_China Film Group Corporation (CFGC)                                8.2e-16   1.92e-15      0.426      0.670   -2.95e-15    4.59e-15\n",
      "company_Chinese Bookie Pictures                                            -1.2606      1.126     -1.120      0.263      -3.468       0.947\n",
      "company_Chiodo Brothers Productions                                      6.669e-15   2.13e-15      3.132      0.002    2.49e-15    1.08e-14\n",
      "company_Chockstone Pictures                                                 0.8505      1.065      0.799      0.424      -1.237       2.938\n",
      "company_Chris Lee Productions                                              -0.4563      1.063     -0.429      0.668      -2.541       1.628\n",
      "company_Chris Morgan Productions                                          4.36e-16   1.89e-15      0.231      0.817   -3.27e-15    4.14e-15\n",
      "company_Christopher Columbus Productions                                 -9.44e-16   1.94e-15     -0.487      0.626   -4.74e-15    2.86e-15\n",
      "company_CiBy 2000                                                          -0.9367      0.486     -1.927      0.054      -1.890       0.016\n",
      "company_Cine Location Services                                           5.134e-15   2.41e-15      2.131      0.033    4.09e-16    9.86e-15\n",
      "company_CineSon Entertainment                                              -0.0985      1.072     -0.092      0.927      -2.200       2.003\n",
      "company_CineWild                                                            0.3927      1.068      0.368      0.713      -1.701       2.486\n",
      "company_Cinecom Entertainment Group                                         0.2264      1.064      0.213      0.831      -1.859       2.312\n",
      "company_Cinecorp SAC                                                       -0.4701      1.064     -0.442      0.659      -2.556       1.615\n",
      "company_Cinehaus                                                            1.1307      0.752      1.504      0.133      -0.343       2.604\n",
      "company_Cinelou Films                                                   -1.413e-15   1.73e-15     -0.815      0.415   -4.82e-15    1.99e-15\n",
      "company_Cinema '84                                                          1.2311      0.615      2.000      0.046       0.024       2.438\n",
      "company_Cinema City Films                                               -3.709e-15   2.59e-15     -1.434      0.152   -8.78e-15    1.36e-15\n",
      "company_Cinema Group Ventures                                               1.4935      0.615      2.428      0.015       0.287       2.700\n",
      "company_Cinema Line Film Corporation                                     2.058e-16   1.79e-15      0.115      0.909   -3.31e-15    3.72e-15\n",
      "company_CinemaNX                                                        -6.699e-16   2.03e-15     -0.330      0.741   -4.65e-15    3.31e-15\n",
      "company_Cinemarque Entertainment                                           -2.9318      1.063     -2.758      0.006      -5.016      -0.848\n",
      "company_Cinematograph AB                                                   -0.3193      1.336     -0.239      0.811      -2.939       2.301\n",
      "company_Cineplex Odeon Films                                            -2.319e-16   1.96e-15     -0.119      0.906   -4.07e-15     3.6e-15\n",
      "company_Cinepro                                                          3.241e-15   1.69e-15      1.913      0.056   -8.14e-17    6.56e-15\n",
      "company_Cinereach                                                          -0.3166      1.084     -0.292      0.770      -2.442       1.809\n",
      "company_Cinerenta Medienbeteiligungs KG                                     0.1265      1.063      0.119      0.905      -1.958       2.211\n",
      "company_Cinergi Pictures Entertainment                                     -0.0097      0.764     -0.013      0.990      -1.508       1.489\n",
      "company_Cinesthesia Productions                                         -9.013e-16   1.96e-15     -0.459      0.646   -4.75e-15    2.95e-15\n",
      "company_Cinetel Films                                                      -1.9737      0.759     -2.602      0.009      -3.461      -0.486\n",
      "company_Cineville                                                       -1.898e-16    1.9e-15     -0.100      0.921   -3.92e-15    3.54e-15\n",
      "company_Cinépix Film Properties (CFP)                                   -3.742e-15   1.85e-15     -2.027      0.043   -7.36e-15   -1.22e-16\n",
      "company_Circle Films                                                        0.1754      1.064      0.165      0.869      -1.912       2.263\n",
      "company_City Films                                                      -2.298e-15   1.91e-15     -1.201      0.230   -6.05e-15    1.45e-15\n",
      "company_Claudie Ossard Productions                                          1.9943      1.068      1.867      0.062      -0.101       4.090\n",
      "company_Clavius Base                                                        1.3721      1.067      1.286      0.198      -0.720       3.464\n",
      "company_Cliffjack Motion Pictures                                           0.5567      1.069      0.521      0.603      -1.540       2.654\n",
      "company_Clinica Estetico                                                    0.6107      1.073      0.569      0.569      -1.494       2.716\n",
      "company_Clipsal Films                                                       0.9936      1.062      0.936      0.349      -1.088       3.075\n",
      "company_Closest to the Hole Productions                                     1.1974      1.061      1.128      0.259      -0.884       3.279\n",
      "company_Cloud Atlas Productions                                            -1.9054      1.117     -1.706      0.088      -4.095       0.284\n",
      "company_Cloud Eight Films                                                6.845e-16   2.07e-15      0.330      0.741   -3.38e-15    4.75e-15\n",
      "company_Cloud Ten Pictures                                                 -0.0824      1.065     -0.077      0.938      -2.171       2.006\n",
      "company_Clubhouse Pictures (II)                                         -5.764e-15   2.06e-15     -2.804      0.005    -9.8e-15   -1.73e-15\n",
      "company_Coach Carter                                                        0.8961      1.063      0.843      0.399      -1.189       2.981\n",
      "company_Cobalt Media Group                                                 -3.9597      1.061     -3.731      0.000      -6.041      -1.878\n",
      "company_Cocktail Film                                                       4.2258      1.181      3.579      0.000       1.910       6.541\n",
      "company_Code Entertainment                                                 -0.1789      1.065     -0.168      0.867      -2.267       1.909\n",
      "company_Codeblack Entertainment                                          2.854e-15   1.54e-15      1.859      0.063   -1.57e-16    5.86e-15\n",
      "company_Cohen Media Group                                                  -0.3420      1.067     -0.321      0.749      -2.434       1.750\n",
      "company_Colgems Productions Ltd.                                           -0.0803      1.067     -0.075      0.940      -2.173       2.012\n",
      "company_Color Force                                                         0.3532      1.114      0.317      0.751      -1.832       2.538\n",
      "company_Columbia Pictures                                                   0.7186      0.085      8.450      0.000       0.552       0.885\n",
      "company_Columbia Pictures Film Production Asia                              1.1763      1.065      1.105      0.269      -0.912       3.264\n",
      "company_Columbia Pictures Industries                                        0.9558      1.075      0.889      0.374      -1.152       3.064\n",
      "company_Commies From Mars Corporation                                   -5.565e-15   2.15e-15     -2.589      0.010   -9.78e-15   -1.35e-15\n",
      "company_Company Films                                                      -4.2027      1.059     -3.969      0.000      -6.279      -2.126\n",
      "company_Compulsion Inc.                                                     1.6354      1.062      1.539      0.124      -0.448       3.719\n",
      "company_Concorde Pictures                                                6.502e-16   1.62e-15      0.400      0.689   -2.54e-15    3.84e-15\n",
      "company_Conquering Unicorn                                                 -0.0135      1.064     -0.013      0.990      -2.099       2.072\n",
      "company_Consejo Nacional para la Cultura y las Artes (CONACULTA)        -9.541e-16   1.68e-15     -0.567      0.571   -4.25e-15    2.34e-15\n",
      "company_Constantin Film                                                    -0.0680      0.536     -0.127      0.899      -1.120       0.984\n",
      "company_Constantin Film International                                       2.0884      1.063      1.965      0.049       0.005       4.172\n",
      "company_Constellation                                                    6.882e-16   1.57e-15      0.438      0.662   -2.39e-15    3.77e-15\n",
      "company_Constellation Entertainment                                         0.5018      0.615      0.816      0.415      -0.705       1.708\n",
      "company_ContentFilm                                                         0.0127      1.066      0.012      0.991      -2.077       2.103\n",
      "company_Copperheart Entertainment                                       -1.411e-15   1.66e-15     -0.848      0.397   -4.67e-15    1.85e-15\n",
      "company_Cornelius Productions                                               0.2062      1.062      0.194      0.846      -1.877       2.290\n",
      "company_Corsan                                                             -0.9870      1.084     -0.910      0.363      -3.113       1.139\n",
      "company_Cort/Madden Productions                                             2.0724      1.064      1.948      0.052      -0.014       4.159\n",
      "company_Cottonwood Pictures                                                 2.0781      1.079      1.925      0.054      -0.038       4.195\n",
      "company_Covert Media                                                     9.878e-16   2.52e-15      0.393      0.695   -3.95e-15    5.92e-15\n",
      "company_Cradle Productions Inc.                                            -1.1884      1.075     -1.105      0.269      -3.297       0.920\n",
      "company_Craven-Maddalena Films                                              1.1449      1.062      1.078      0.281      -0.938       3.228\n",
      "company_Cre Film                                                         -1.56e-16   2.24e-15     -0.070      0.944   -4.55e-15    4.23e-15\n",
      "company_Crescent Drive Pictures                                            -1.5742      1.068     -1.474      0.141      -3.669       0.520\n",
      "company_Crescent Moon                                                    6.374e-15   2.27e-15      2.807      0.005    1.92e-15    1.08e-14\n",
      "company_Cristaldifilm                                                    3.078e-16   2.17e-15      0.142      0.887   -3.95e-15    4.56e-15\n",
      "company_Cross Creek Pictures                                               -0.0475      1.063     -0.045      0.964      -2.132       2.037\n",
      "company_Crossroads Films                                                -1.243e-15   1.86e-15     -0.668      0.504   -4.89e-15     2.4e-15\n",
      "company_Crowvision Inc.                                                     2.0423      1.067      1.913      0.056      -0.051       4.135\n",
      "company_Cruella Productions                                                 1.5362      1.073      1.431      0.152      -0.569       3.641\n",
      "company_Cruise/Wagner Productions                                           2.3556      1.066      2.209      0.027       0.265       4.446\n",
      "company_Crunk Pictures                                                  -5.005e-16    1.7e-15     -0.294      0.769   -3.84e-15    2.84e-15\n",
      "company_Crystal Sky Worldwide                                               1.6959      1.070      1.586      0.113      -0.402       3.793\n",
      "company_Crystalite Productions                                           1.741e-16   2.16e-15      0.081      0.936   -4.06e-15    4.41e-15\n",
      "company_Curmudgeon Films                                                    1.6820      1.078      1.560      0.119      -0.432       3.796\n",
      "company_D & P Productions                                                2.888e-15   1.65e-15      1.752      0.080   -3.45e-16    6.12e-15\n",
      "company_DC Entertainment                                                   -1.0112      1.073     -0.942      0.346      -3.116       1.093\n",
      "company_DEJ Productions                                                    -1.7363      1.064     -1.631      0.103      -3.823       0.351\n",
      "company_DENTSU Music And Entertainment                                      0.1413      1.065      0.133      0.894      -1.948       2.230\n",
      "company_DIC Entertainment                                                  -0.5547      1.066     -0.520      0.603      -2.644       1.535\n",
      "company_DJ Films                                                            1.8015      1.064      1.694      0.090      -0.284       3.887\n",
      "company_DNA Films                                                          -0.5914      0.760     -0.778      0.436      -2.081       0.898\n",
      "company_Danjaq                                                              0.7683      1.065      0.722      0.471      -1.319       2.856\n",
      "company_Danmarks Radio (DR)                                              2.086e-15   1.61e-15      1.296      0.195   -1.07e-15    5.24e-15\n",
      "company_Dark Castle Entertainment                                           0.9747      0.757      1.287      0.198      -0.510       2.459\n",
      "company_David Brown Productions                                            -0.6447      1.063     -0.607      0.544      -2.729       1.440\n",
      "company_David Foster Productions                                           -0.2138      1.063     -0.201      0.841      -2.299       1.871\n",
      "company_David Kirschner Productions                                        -0.9768      0.618     -1.582      0.114      -2.188       0.234\n",
      "company_Davis Entertainment                                                 0.4493      0.478      0.941      0.347      -0.488       1.386\n",
      "company_Davis-Films                                                        -2.5721      1.062     -2.422      0.016      -4.655      -0.490\n",
      "company_Davis-Panzer Productions                                            0.7596      0.759      1.000      0.317      -0.730       2.249\n",
      "company_Davros Films                                                    -1.404e-15   1.53e-15     -0.919      0.358    -4.4e-15    1.59e-15\n",
      "company_Daybreak                                                        -1.643e-15    1.9e-15     -0.865      0.387   -5.37e-15    2.08e-15\n",
      "company_Dayday Films                                                    -2.214e-15   1.87e-15     -1.184      0.237   -5.88e-15    1.45e-15\n",
      "company_De Fina-Cappa                                                      -1.7586      1.064     -1.652      0.099      -3.846       0.329\n",
      "company_De Laurentiis Entertainment Group (DEG)                            -0.2081      0.357     -0.584      0.559      -0.907       0.491\n",
      "company_De Line Pictures                                                    0.8515      1.062      0.802      0.423      -1.232       2.934\n",
      "company_DeHaven/Shapiro Productions                                         0.8696      1.063      0.818      0.414      -1.215       2.955\n",
      "company_Decibel Films                                                   -4.119e-16   2.09e-15     -0.197      0.843    -4.5e-15    3.68e-15\n",
      "company_Deep River Productions                                              0.1690      1.069      0.158      0.874      -1.927       2.265\n",
      "company_Deerjen Films                                                      -3.5232      1.067     -3.303      0.001      -5.615      -1.431\n",
      "company_Delphi Films                                                    -1.084e-15   2.13e-15     -0.508      0.612   -5.27e-15     3.1e-15\n",
      "company_Delphi III Productions                                              0.6965      0.754      0.923      0.356      -0.783       2.176\n",
      "company_Delphi V Productions                                               -0.4736      1.060     -0.447      0.655      -2.553       1.606\n",
      "company_Dentsu                                                          -6.455e-16   1.86e-15     -0.347      0.729   -4.29e-15       3e-15\n",
      "company_Depth of Field                                                   1.262e-15    1.8e-15      0.700      0.484   -2.27e-15     4.8e-15\n",
      "company_Desert Hearts Productions                                       -5.776e-16   1.57e-15     -0.367      0.714   -3.66e-15    2.51e-15\n",
      "company_Desperate Pictures                                               6.667e-16   1.85e-15      0.360      0.719   -2.96e-15     4.3e-15\n",
      "company_Destination Films                                                6.797e-15   2.08e-15      3.268      0.001    2.72e-15    1.09e-14\n",
      "company_Detour Filmproduction                                            4.674e-15   1.55e-15      3.019      0.003    1.64e-15    7.71e-15\n",
      "company_Devoted Productions                                                -0.2253      1.066     -0.211      0.833      -2.316       1.866\n",
      "company_Dharma Productions                                              -4.666e-15   1.97e-15     -2.363      0.018   -8.54e-15   -7.94e-16\n",
      "company_Di Bonaventura Pictures                                             1.0524      1.061      0.992      0.321      -1.029       3.133\n",
      "company_DiNovi Pictures                                                     0.6834      1.067      0.641      0.522      -1.408       2.775\n",
      "company_Diagonal TV                                                      1.035e-15   1.87e-15      0.552      0.581   -2.64e-15    4.71e-15\n",
      "company_Dickhouse Productions                                           -1.027e-15   1.42e-15     -0.725      0.469    -3.8e-15    1.75e-15\n",
      "company_Digital Image Associates                                            0.9147      1.066      0.858      0.391      -1.175       3.004\n",
      "company_Dimension Films                                                     0.6926      0.175      3.959      0.000       0.350       1.036\n",
      "company_Dino De Laurentiis Company                                          0.2949      0.287      1.028      0.304      -0.268       0.858\n",
      "company_Dino de Laurentiis Communications                                   0.7017      1.072      0.654      0.513      -1.401       2.805\n",
      "company_Disney Television Animation                                         1.1893      0.639      1.861      0.063      -0.064       2.442\n",
      "company_Disneytoon Studios                                               7.948e-16   1.76e-15      0.452      0.652   -2.66e-15    4.25e-15\n",
      "company_Disruption Entertainment                                         4.493e-16   1.99e-15      0.226      0.821   -3.45e-15    4.35e-15\n",
      "company_Dog Eat Dog Films                                                2.287e-15   2.87e-15      0.796      0.426   -3.35e-15    7.92e-15\n",
      "company_Dog Run Pictures                                                -7.928e-16   1.36e-15     -0.585      0.559   -3.45e-15    1.87e-15\n",
      "company_Dogstar Films                                                    -9.81e-16    1.7e-15     -0.576      0.564   -4.32e-15    2.36e-15\n",
      "company_Dollface                                                         4.042e-15   2.59e-15      1.562      0.118   -1.03e-15    9.12e-15\n",
      "company_Don Bluth                                                          -0.8200      1.071     -0.765      0.444      -2.921       1.281\n",
      "company_Don Simpson/Jerry Bruckheimer Films                                 1.2685      0.545      2.327      0.020       0.200       2.337\n",
      "company_Donner/Shuler-Donner Productions                                    1.0125      1.064      0.951      0.342      -1.075       3.099\n",
      "company_Dorset Productions                                               1.063e-15   1.42e-15      0.750      0.453   -1.72e-15    3.84e-15\n",
      "company_Double Dare You (DDY)                                           -3.358e-16   2.23e-15     -0.151      0.880   -4.71e-15    4.04e-15\n",
      "company_Double Feature Films                                             1.568e-15   1.78e-15      0.880      0.379   -1.93e-15    5.06e-15\n",
      "company_Double Nickel Entertainment                                      6.914e-15   1.74e-15      3.967      0.000     3.5e-15    1.03e-14\n",
      "company_Double Play                                                      -2.83e-15   2.07e-15     -1.370      0.171   -6.88e-15    1.22e-15\n",
      "company_Doug Liman Productions                                             -0.6143      1.066     -0.576      0.564      -2.704       1.475\n",
      "company_Dovemead Films                                                      1.4814      1.062      1.394      0.163      -0.602       3.565\n",
      "company_DreamWorks                                                          1.0403      0.538      1.935      0.053      -0.014       2.095\n",
      "company_DreamWorks Animation                                                1.2448      0.292      4.258      0.000       0.671       1.818\n",
      "company_Dreamworks Pictures                                                 0.7230      0.144      5.026      0.000       0.441       1.005\n",
      "company_Dune Entertainment                                              -3.364e-15      2e-15     -1.686      0.092   -7.28e-15    5.49e-16\n",
      "company_Dune Entertainment III                                             -0.0041      1.063     -0.004      0.997      -2.089       2.081\n",
      "company_Duplass Brothers Productions                                     8.957e-16   1.78e-15      0.502      0.616    -2.6e-15    4.39e-15\n",
      "company_EFTI                                                               -0.4841      1.087     -0.446      0.656      -2.615       1.647\n",
      "company_EMI Films                                                          -0.5862      0.617     -0.950      0.342      -1.797       0.624\n",
      "company_ERBP                                                               -2.8540      1.066     -2.677      0.007      -4.945      -0.764\n",
      "company_ETIC Films                                                         -1.4658      1.068     -1.372      0.170      -3.560       0.629\n",
      "company_Eagle Associates.                                                  -0.1017      1.061     -0.096      0.924      -2.183       1.979\n",
      "company_Eaves Movie Ranch                                                -4.26e-15   2.09e-15     -2.035      0.042   -8.37e-15   -1.55e-16\n",
      "company_Echo Lake Entertainment                                            -0.4317      1.061     -0.407      0.684      -2.512       1.648\n",
      "company_Eclectic Pictures                                                  -1.2788      1.062     -1.204      0.229      -3.362       0.805\n",
      "company_Ecosse Films                                                       -2.1423      0.756     -2.833      0.005      -3.625      -0.659\n",
      "company_Eddie Murphy Productions                                            1.4869      0.752      1.976      0.048       0.011       2.962\n",
      "company_Eden Rock Media                                                     0.9880      1.063      0.929      0.353      -1.097       3.073\n",
      "company_Edgar J. Scherick Associates                                     3.188e-15   2.17e-15      1.470      0.142   -1.07e-15    7.44e-15\n",
      "company_Edge City Productions                                            -5.46e-16   1.42e-15     -0.384      0.701   -3.34e-15    2.25e-15\n",
      "company_Edko Films                                                          1.0274      1.064      0.965      0.334      -1.060       3.115\n",
      "company_Efer Productions                                                -9.436e-16    1.8e-15     -0.524      0.601   -4.48e-15    2.59e-15\n",
      "company_Egg Pictures                                                        2.8115      1.075      2.615      0.009       0.703       4.920\n",
      "company_Eikon Film                                                          0.0017      1.065      0.002      0.999      -2.087       2.091\n",
      "company_El Camino Pictures                                                 -3.6699      1.064     -3.450      0.001      -5.756      -1.584\n",
      "company_El Deseo                                                           -0.5356      1.069     -0.501      0.616      -2.632       1.561\n",
      "company_Elara Pictures                                                   8.562e-16   1.76e-15      0.486      0.627    -2.6e-15    4.31e-15\n",
      "company_Electric City Entertainment                                     -4.886e-15   2.06e-15     -2.373      0.018   -8.92e-15   -8.48e-16\n",
      "company_Electric Entertainment                                             -0.3803      1.065     -0.357      0.721      -2.468       1.708\n",
      "company_Element Pictures                                                 7.283e-18   1.87e-15      0.004      0.997   -3.67e-15    3.68e-15\n",
      "company_Eleventh Street Production                                       -4.97e-16   2.07e-15     -0.240      0.810   -4.55e-15    3.56e-15\n",
      "company_Elle Driver                                                        -0.2574      1.092     -0.236      0.814      -2.399       1.884\n",
      "company_Elysian Dreams                                                  -1.815e-15   1.59e-15     -1.143      0.253   -4.93e-15     1.3e-15\n",
      "company_Embassy International Pictures                                     -1.1462      0.755     -1.518      0.129      -2.627       0.335\n",
      "company_Embassy Pictures                                                    0.7701      0.614      1.254      0.210      -0.434       1.974\n",
      "company_Emmett/Furla/Oasis Films (EFO Films)                             1.017e-15   1.89e-15      0.539      0.590   -2.68e-15    4.72e-15\n",
      "company_Emperor Multimedia Group (EMG)                                      0.4456      1.060      0.420      0.674      -1.634       2.525\n",
      "company_Emphatic Films                                                  -3.441e-15   1.59e-15     -2.170      0.030   -6.55e-15   -3.31e-16\n",
      "company_Empire Pictures                                                    -1.2793      0.550     -2.327      0.020      -2.357      -0.201\n",
      "company_Emshell Producers                                                   0.6786      1.067      0.636      0.525      -1.414       2.772\n",
      "company_Enchanter Entertainment                                            -1.3689      1.114     -1.229      0.219      -3.554       0.816\n",
      "company_Enchantment Films Inc.                                           7.471e-16   1.75e-15      0.428      0.669   -2.68e-15    4.17e-15\n",
      "company_Encino Man Productions                                              1.0918      1.068      1.022      0.307      -1.003       3.187\n",
      "company_Enderby Entertainment                                             -3.3e-15   1.38e-15     -2.397      0.017      -6e-15      -6e-16\n",
      "company_Endgame Entertainment                                              -0.6893      0.752     -0.916      0.360      -2.165       0.786\n",
      "company_Englander Productions                                            2.177e-16   2.03e-15      0.107      0.915   -3.77e-15     4.2e-15\n",
      "company_Enigma Productions                                              -2.395e-15   1.62e-15     -1.480      0.139   -5.57e-15    7.79e-16\n",
      "company_Entertainment Manufacturing Company                             -5.787e-15    2.3e-15     -2.521      0.012   -1.03e-14   -1.29e-15\n",
      "company_Entertainment One                                                1.366e-15   1.79e-15      0.761      0.447   -2.15e-15    4.88e-15\n",
      "company_Entertainment Studios Motion Pictures                           -9.516e-16    1.3e-15     -0.731      0.465   -3.51e-15     1.6e-15\n",
      "company_Enticing Entertainment                                              0.5765      1.066      0.541      0.589      -1.513       2.666\n",
      "company_Eon Productions                                                     1.3119      0.484      2.711      0.007       0.363       2.261\n",
      "company_Epic Productions                                                -1.511e-15   1.38e-15     -1.095      0.274   -4.22e-15     1.2e-15\n",
      "company_Epsilon Motion Pictures                                            -3.0425      1.076     -2.827      0.005      -5.153      -0.932\n",
      "company_Eros Worldwide                                                    2.25e-15   2.21e-15      1.018      0.309   -2.08e-15    6.58e-15\n",
      "company_Escalante Productions                                               1.4316      0.766      1.870      0.062      -0.070       2.933\n",
      "company_Escape Artists                                                  -7.446e-16   2.27e-15     -0.328      0.743    -5.2e-15    3.71e-15\n",
      "company_Esparza                                                             0.5824      1.063      0.548      0.584      -1.502       2.667\n",
      "company_Esperanza Films Inc.                                              1.16e-15   1.66e-15      0.697      0.486    -2.1e-15    4.42e-15\n",
      "company_Estudios Churubusco Azteca S.A.                                 -2.564e-15   2.12e-15     -1.208      0.227   -6.73e-15     1.6e-15\n",
      "company_Estudios Picasso                                                    1.2572      1.069      1.176      0.240      -0.839       3.353\n",
      "company_Etalon Film                                                     -1.159e-15   1.63e-15     -0.712      0.477   -4.35e-15    2.04e-15\n",
      "company_Euforia Film                                                     1.012e-15   2.51e-15      0.403      0.687   -3.92e-15    5.94e-15\n",
      "company_Eulogy Productions LLC                                           4.043e-15   2.54e-15      1.595      0.111   -9.29e-16    9.01e-15\n",
      "company_Eurasia Investments                                              2.641e-15   1.79e-15      1.472      0.141   -8.78e-16    6.16e-15\n",
      "company_Eureka Pictures                                                    -3.5702      1.070     -3.337      0.001      -5.668      -1.472\n",
      "company_EuropaCorp                                                          0.1680      0.357      0.470      0.638      -0.533       0.869\n",
      "company_Evenstar Films                                                  -3.689e-15   1.55e-15     -2.382      0.017   -6.73e-15   -6.52e-16\n",
      "company_Everyman Pictures                                                   1.8986      1.068      1.778      0.076      -0.196       3.993\n",
      "company_Evolution Entertainment                                             1.9339      1.064      1.817      0.069      -0.153       4.021\n",
      "company_Exclusive Films                                                    -0.4028      1.070     -0.376      0.707      -2.501       1.696\n",
      "company_Exclusive Media Group                                              -1.3534      1.065     -1.270      0.204      -3.442       0.736\n",
      "company_F/M                                                              1.259e-15   1.53e-15      0.820      0.412   -1.75e-15    4.27e-15\n",
      "company_FAI Films                                                           0.4899      1.072      0.457      0.648      -1.613       2.592\n",
      "company_FGM Entertainment                                                   0.4100      1.064      0.385      0.700      -1.676       2.496\n",
      "company_FIT Productions                                                 -2.096e-15   1.84e-15     -1.142      0.254    -5.7e-15     1.5e-15\n",
      "company_FTM Productions                                                    -0.0508      1.062     -0.048      0.962      -2.134       2.032\n",
      "company_FX Sound                                                            0.4928      1.085      0.454      0.650      -1.636       2.621\n",
      "company_Fade In Films                                                      -1.3628      1.060     -1.286      0.199      -3.442       0.716\n",
      "company_Fade to Black Productions                                           0.1021      1.066      0.096      0.924      -1.988       2.192\n",
      "company_Fairview Entertainment                                             -0.1187      0.769     -0.154      0.877      -1.626       1.389\n",
      "company_Fairway Films                                                       1.8910      1.075      1.759      0.079      -0.217       3.999\n",
      "company_FaithStep Films                                                  8.589e-16   1.83e-15      0.470      0.638   -2.72e-15    4.44e-15\n",
      "company_Faliro House Productions                                         1.014e-15   1.33e-15      0.764      0.445   -1.59e-15    3.62e-15\n",
      "company_Fallingcloud                                                        0.3022      1.067      0.283      0.777      -1.790       2.395\n",
      "company_Farabi Cinema Foundation                                        -3.013e-15   1.86e-15     -1.623      0.105   -6.65e-15    6.27e-16\n",
      "company_Fear and Loathing LLC                                              -0.8981      1.063     -0.845      0.398      -2.982       1.186\n",
      "company_Fear of God Films                                                -2.93e-15   1.74e-15     -1.687      0.092   -6.34e-15    4.76e-16\n",
      "company_Fermion Films                                                   -9.071e-16   1.83e-15     -0.496      0.620    -4.5e-15    2.68e-15\n",
      "company_Fewlas Entertainment                                             2.286e-15   1.68e-15      1.363      0.173      -1e-15    5.58e-15\n",
      "company_Fiction                                                         -1.713e-15   1.59e-15     -1.080      0.280   -4.82e-15     1.4e-15\n",
      "company_Fidélité Films                                                     -2.4181      1.174     -2.060      0.040      -4.720      -0.116\n",
      "company_Field Guide Films                                                  -1.6072      1.071     -1.500      0.134      -3.708       0.494\n",
      "company_Fifth Avenue Entertainment                                          0.4436      1.061      0.418      0.676      -1.637       2.524\n",
      "company_Figment Films                                                    3.073e-15   1.89e-15      1.622      0.105   -6.41e-16    6.79e-15\n",
      "company_Film 44                                                          2.865e-15    1.3e-15      2.197      0.028    3.08e-16    5.42e-15\n",
      "company_Film Andes S.A.                                                     0.4307      1.063      0.405      0.685      -1.654       2.515\n",
      "company_Film Partner International                                          1.0092      1.065      0.948      0.343      -1.078       3.097\n",
      "company_Film Science                                                       -2.3494      1.195     -1.965      0.050      -4.694      -0.005\n",
      "company_Film Workshop                                                    1.876e-15   1.92e-15      0.976      0.329   -1.89e-15    5.64e-15\n",
      "company_Film4                                                            4.518e-15   1.91e-15      2.372      0.018    7.82e-16    8.25e-15\n",
      "company_FilmColony                                                          0.1964      0.758      0.259      0.796      -1.290       1.683\n",
      "company_FilmDistrict                                                        0.4226      0.533      0.794      0.428      -0.622       1.467\n",
      "company_FilmFour                                                            0.8306      1.064      0.780      0.435      -1.257       2.918\n",
      "company_FilmNation Entertainment                                         1.106e-15   1.35e-15      0.821      0.412   -1.54e-15    3.75e-15\n",
      "company_Filmation Associates                                            -4.805e-15   2.16e-15     -2.228      0.026   -9.04e-15   -5.75e-16\n",
      "company_Filmauro                                                            0.1766      1.062      0.166      0.868      -1.907       2.260\n",
      "company_Filmax                                                          -5.881e-16   1.31e-15     -0.449      0.653   -3.16e-15    1.98e-15\n",
      "company_Filmax Group                                                       -0.3627      1.067     -0.340      0.734      -2.455       1.730\n",
      "company_Filmax International                                               -0.6225      1.067     -0.583      0.560      -2.715       1.470\n",
      "company_Filmline Productions                                               -0.4130      1.061     -0.389      0.697      -2.494       1.668\n",
      "company_Filmplan International                                             -1.8487      1.069     -1.729      0.084      -3.945       0.248\n",
      "company_Films A2                                                         1.957e-16   1.39e-15      0.140      0.888   -2.54e-15    2.93e-15\n",
      "company_Filmways Pictures                                                   0.3671      0.751      0.489      0.625      -1.106       1.841\n",
      "company_Fine Line Features                                                 -4.3282      0.799     -5.415      0.000      -5.896      -2.761\n",
      "company_Fingerprint Releasing                                            1.737e-16   1.49e-15      0.117      0.907   -2.75e-15    3.09e-15\n",
      "company_First Light Production                                             -0.0502      1.063     -0.047      0.962      -2.136       2.035\n",
      "company_First Look International                                           -5.1423      1.068     -4.815      0.000      -7.237      -3.048\n",
      "company_Flan de Coco Films                                                  0.8680      1.066      0.814      0.416      -1.222       2.958\n",
      "company_Flashlight Films                                                 1.387e-15   1.29e-15      1.074      0.283   -1.14e-15    3.92e-15\n",
      "company_Flying Heart Films                                                 -3.2110      1.062     -3.022      0.003      -5.294      -1.128\n",
      "company_Focus Features                                                      0.4634      0.209      2.221      0.026       0.054       0.873\n",
      "company_Focus Puller Inc.                                                  1.7e-16   1.42e-15      0.120      0.905   -2.61e-15    2.95e-15\n",
      "company_Fogwood Films                                                       1.4820      1.066      1.390      0.165      -0.609       3.573\n",
      "company_Follow Through Productions                                      -2.672e-15   1.87e-15     -1.426      0.154   -6.34e-15       1e-15\n",
      "company_Forecast Pictures                                               -9.607e-16   1.81e-15     -0.530      0.596   -4.51e-15    2.59e-15\n",
      "company_Foresight Unlimited                                             -2.652e-15   2.55e-15     -1.040      0.298   -7.65e-15    2.35e-15\n",
      "company_Forest Whitaker's Significant Productions                        3.852e-15    1.9e-15      2.023      0.043    1.19e-16    7.58e-15\n",
      "company_Forge                                                            5.741e-16   1.55e-15      0.371      0.711   -2.46e-15    3.61e-15\n",
      "company_Fortis Films                                                     1.862e-15   1.32e-15      1.408      0.159   -7.31e-16    4.46e-15\n",
      "company_FortyFour Studios                                                1.719e-15   9.94e-16      1.730      0.084    -2.3e-16    3.67e-15\n",
      "company_Forward Pass                                                     2.352e-15   1.54e-15      1.532      0.126   -6.59e-16    5.36e-15\n",
      "company_Four Seasons Partnership                                        -4.681e-16   1.34e-15     -0.349      0.727    -3.1e-15    2.16e-15\n",
      "company_Fourth Protocol                                                  -3.82e-15   1.37e-15     -2.792      0.005    -6.5e-15   -1.14e-15\n",
      "company_Fox 2000 Pictures                                                   0.7743      0.193      4.015      0.000       0.396       1.152\n",
      "company_Fox Atomic                                                          0.1696      0.380      0.447      0.655      -0.575       0.914\n",
      "company_Fox Run Productions Inc.                                         4.575e-15   1.87e-15      2.446      0.015    9.07e-16    8.24e-15\n",
      "company_Fox Searchlight Pictures                                            0.7623      0.223      3.416      0.001       0.325       1.200\n",
      "company_Franchise Pictures                                                 -0.4463      0.379     -1.178      0.239      -1.189       0.297\n",
      "company_Freddie Fields Productions                                       4.981e-17      2e-15      0.025      0.980   -3.87e-15    3.97e-15\n",
      "company_Freedom Media                                                    2.411e-16   1.76e-15      0.137      0.891    -3.2e-15    3.68e-15\n",
      "company_Frenesy Film Company                                             1.048e-15   1.17e-15      0.897      0.370   -1.24e-15    3.34e-15\n",
      "company_Front Films                                                        -1.9649      1.062     -1.851      0.064      -4.047       0.117\n",
      "company_Fu Works                                                            0.4526      1.083      0.418      0.676      -1.671       2.576\n",
      "company_Fuego Films                                                      1.469e-15   1.12e-15      1.317      0.188   -7.19e-16    3.66e-15\n",
      "company_Full Crew/Say Yea                                                -1.29e-15   1.52e-15     -0.848      0.396   -4.27e-15    1.69e-15\n",
      "company_Fuller Films                                                       -2.5171      1.069     -2.356      0.019      -4.613      -0.422\n",
      "company_Fulvia Film                                                      1.156e-15   1.26e-15      0.915      0.360   -1.32e-15    3.63e-15\n",
      "company_Funny Boy Films                                                    -3.4404      1.060     -3.245      0.001      -5.520      -1.361\n",
      "company_Fuzzy Bunny Films (I)                                               1.2865      0.756      1.701      0.089      -0.196       2.769\n",
      "company_G-BASE                                                              1.4332      1.060      1.352      0.177      -0.646       3.513\n",
      "company_GGG                                                                 0.0756      1.062      0.071      0.943      -2.006       2.157\n",
      "company_GK Films                                                           -0.0946      0.534     -0.177      0.860      -1.142       0.953\n",
      "company_Gail Katz Productions                                            3.683e-15   1.32e-15      2.788      0.005    1.09e-15    6.27e-15\n",
      "company_Gary Sanchez Productions                                           -1.4330      1.083     -1.323      0.186      -3.558       0.692\n",
      "company_Gaumont                                                            -1.0012      0.752     -1.332      0.183      -2.476       0.473\n",
      "company_Geffen Pictures                                                     0.4975      1.062      0.469      0.639      -1.584       2.580\n",
      "company_Genre Films                                                     -2.895e-15   1.96e-15     -1.475      0.140   -6.74e-15    9.54e-16\n",
      "company_George Films                                                      4.26e-15   2.29e-15      1.857      0.063   -2.39e-16    8.76e-15\n",
      "company_Georgetown Productions Inc.                                         1.2447      0.756      1.646      0.100      -0.238       2.727\n",
      "company_Ghost House Pictures                                            -2.569e-15   1.36e-15     -1.886      0.059   -5.24e-15    1.02e-16\n",
      "company_Ghoulardi Film Company                                              0.8354      1.109      0.753      0.451      -1.339       3.010\n",
      "company_Gladden Entertainment                                               0.9334      0.616      1.515      0.130      -0.275       2.142\n",
      "company_Glass Eye Pix                                                      -6.8333      1.068     -6.396      0.000      -8.928      -4.738\n",
      "company_Go Films                                                        -1.741e-16    1.8e-15     -0.097      0.923    -3.7e-15    3.35e-15\n",
      "company_Goalpost Pictures                                               -1.196e-15   1.19e-15     -1.007      0.314   -3.53e-15    1.13e-15\n",
      "company_Goddard Textiles                                                 8.333e-16   1.32e-15      0.633      0.527   -1.75e-15    3.41e-15\n",
      "company_Golan-Globus Productions                                           -0.3103      0.360     -0.862      0.389      -1.016       0.396\n",
      "company_Golar Productions                                                  -0.3577      1.067     -0.335      0.737      -2.449       1.734\n",
      "company_Gold Circle Films                                                   1.1330      0.616      1.839      0.066      -0.075       2.341\n",
      "company_GoldDay                                                         -3.769e-16   2.07e-15     -0.182      0.856   -4.44e-15    3.69e-15\n",
      "company_Goldcrest Films International                                       0.8438      0.644      1.310      0.190      -0.419       2.107\n",
      "company_Golden Harvest Company                                              1.9893      0.617      3.222      0.001       0.778       3.200\n",
      "company_Golden Way Films Ltd.                                            1.751e-15   1.82e-15      0.959      0.337   -1.83e-15    5.33e-15\n",
      "company_Good Machine                                                       -0.2053      0.526     -0.391      0.696      -1.236       0.826\n",
      "company_Good Universe                                                       0.6180      0.757      0.816      0.414      -0.866       2.102\n",
      "company_Goodspeed Productions                                               1.0924      1.068      1.023      0.306      -1.001       3.186\n",
      "company_Googly Films                                                       -0.9551      1.076     -0.888      0.375      -3.065       1.155\n",
      "company_Gordon Company                                                      1.8714      1.065      1.757      0.079      -0.217       3.960\n",
      "company_Gotham Group                                                     1.827e-15   1.75e-15      1.045      0.296    -1.6e-15    5.25e-15\n",
      "company_Gracie Films                                                     -8.23e-16   1.58e-15     -0.521      0.602   -3.92e-15    2.28e-15\n",
      "company_Gramercy Pictures (I)                                              -0.3166      0.616     -0.514      0.607      -1.524       0.891\n",
      "company_Grand Slam Productions                                              0.7402      1.065      0.695      0.487      -1.349       2.829\n",
      "company_Gravier Productions                                             -4.895e-15   1.94e-15     -2.518      0.012   -8.71e-15   -1.08e-15\n",
      "company_Gray Daisy Films                                                 3.116e-16   3.13e-15      0.100      0.921   -5.82e-15    6.44e-15\n",
      "company_Great American Films Limited Partnership                            3.1268      1.064      2.940      0.003       1.041       5.213\n",
      "company_Greater Productions                                             -2.853e-15   2.08e-15     -1.371      0.171   -6.93e-15    1.23e-15\n",
      "company_Green Hat Films                                                     1.1895      0.759      1.568      0.117      -0.298       2.677\n",
      "company_Green Parrot                                                       -3.2401      1.066     -3.040      0.002      -5.330      -1.150\n",
      "company_Green/Renzi                                                     -2.301e-15   2.08e-15     -1.104      0.270   -6.39e-15    1.79e-15\n",
      "company_Greenleaf Productions                                              -0.8351      1.077     -0.776      0.438      -2.947       1.276\n",
      "company_Greenwich Film Productions                                       1.757e-15   2.72e-15      0.645      0.519   -3.59e-15     7.1e-15\n",
      "company_Greisman Productions                                            -1.571e-18   1.74e-15     -0.001      0.999   -3.42e-15    3.42e-15\n",
      "company_Grisbi Productions, Le                                          -6.911e-16   2.07e-15     -0.333      0.739   -4.76e-15    3.37e-15\n",
      "company_Groundswell Productions                                          4.305e-16   1.68e-15      0.256      0.798   -2.87e-15    3.73e-15\n",
      "company_Guild                                                              -1.9533      0.754     -2.591      0.010      -3.432      -0.475\n",
      "company_Gulfstream Pictures                                             -2.914e-16   1.59e-15     -0.183      0.854   -3.41e-15    2.82e-15\n",
      "company_Gullane Pictures                                                -3.971e-15   1.34e-15     -2.965      0.003    -6.6e-15   -1.34e-15\n",
      "company_Gurian Entertainment                                            -9.456e-17   1.52e-15     -0.062      0.951   -3.08e-15     2.9e-15\n",
      "company_Guys Upstairs                                                   -1.785e-15   1.71e-15     -1.044      0.297   -5.14e-15    1.57e-15\n",
      "company_H.I.T. Films                                                     4.507e-16   1.48e-15      0.305      0.760   -2.44e-15    3.34e-15\n",
      "company_HBO Films                                                          -0.0058      0.756     -0.008      0.994      -1.488       1.476\n",
      "company_HBO Pictures                                                       -0.1841      0.755     -0.244      0.807      -1.664       1.296\n",
      "company_HDNet Films                                                     -2.548e-16   1.82e-15     -0.140      0.889   -3.83e-15    3.32e-15\n",
      "company_HK Film Corporation                                             -1.549e-15   1.35e-15     -1.148      0.251    -4.2e-15     1.1e-15\n",
      "company_HSX Films                                                       -2.523e-15   9.84e-16     -2.564      0.010   -4.45e-15   -5.94e-16\n",
      "company_Haft Entertainment                                                 -2.5122      1.074     -2.339      0.019      -4.618      -0.406\n",
      "company_Haishang Films                                                     -0.5872      1.199     -0.490      0.624      -2.939       1.764\n",
      "company_Hal Roach Studios                                                1.546e-15    9.9e-16      1.562      0.119   -3.95e-16    3.49e-15\n",
      "company_Halloween VI Productions                                         4.315e-15   1.23e-15      3.501      0.000     1.9e-15    6.73e-15\n",
      "company_Hammerhead Productions                                             -0.2438      1.074     -0.227      0.820      -2.349       1.861\n",
      "company_HanWay Films                                                        0.5618      1.064      0.528      0.598      -1.525       2.649\n",
      "company_HandMade Films                                                     -0.1863      0.759     -0.246      0.806      -1.674       1.302\n",
      "company_Handprint Entertainment                                             0.5564      1.067      0.521      0.602      -1.537       2.649\n",
      "company_Hanna-Barbera Productions                                          -1.4564      1.072     -1.359      0.174      -3.558       0.645\n",
      "company_Happy Madison Productions                                           1.0692      0.752      1.421      0.155      -0.406       2.545\n",
      "company_Harold Robbins International Company                            -6.765e-16    1.5e-15     -0.452      0.651   -3.61e-15    2.26e-15\n",
      "company_Harpo Films                                                         0.4400      1.066      0.413      0.680      -1.650       2.530\n",
      "company_Hart Sharp Entertainment                                            1.0826      1.072      1.010      0.313      -1.019       3.185\n",
      "company_Hartbeat Productions                                              3.73e-16   1.45e-15      0.258      0.796   -2.46e-15    3.21e-15\n",
      "company_Harvest Filmworks                                               -4.644e-16   1.18e-15     -0.393      0.695   -2.78e-15    1.86e-15\n",
      "company_Hasbro                                                           2.643e-15   1.77e-15      1.492      0.136   -8.31e-16    6.12e-15\n",
      "company_Haut et Court                                                   -3.103e-15   1.77e-15     -1.753      0.080   -6.57e-15    3.67e-16\n",
      "company_Havoc                                                               1.4295      1.072      1.334      0.182      -0.672       3.531\n",
      "company_Hawn / Sylbert Movie Company                                       -0.0991      0.755     -0.131      0.896      -1.579       1.381\n",
      "company_Haxan Films                                                         3.2974      1.063      3.102      0.002       1.213       5.382\n",
      "company_Headline Pictures                                                4.125e-15   1.42e-15      2.908      0.004    1.34e-15    6.91e-15\n",
      "company_Heat GBR                                                            0.7173      1.073      0.668      0.504      -1.388       2.822\n",
      "company_Hell's Kitchen Films                                            -1.166e-15   1.52e-15     -0.767      0.443   -4.15e-15    1.82e-15\n",
      "company_Hemdale                                                             0.2928      0.615      0.476      0.634      -0.912       1.498\n",
      "company_Henson Associates (HA)                                             -1.2471      1.065     -1.171      0.242      -3.336       0.842\n",
      "company_Herb Jaffe                                                       1.535e-15    1.5e-15      1.023      0.306   -1.41e-15    4.48e-15\n",
      "company_Hero Entertainment                                                 -0.9812      1.064     -0.922      0.357      -3.069       1.106\n",
      "company_Heron Communications                                                0.6773      1.067      0.635      0.525      -1.414       2.769\n",
      "company_Heron Productions                                                  -0.3775      1.062     -0.356      0.722      -2.459       1.704\n",
      "company_Herrick Entertainment                                            3.582e-16   1.05e-15      0.341      0.733    -1.7e-15    2.42e-15\n",
      "company_Heyday Films                                                      3.47e-15    1.6e-15      2.164      0.031    3.25e-16    6.62e-15\n",
      "company_Hickmar Productions                                              1.996e-15   1.35e-15      1.478      0.139   -6.52e-16    4.64e-15\n",
      "company_Hicktown Entertainment                                          -6.467e-16   1.24e-15     -0.522      0.601   -3.07e-15    1.78e-15\n",
      "company_Hidden Empire Film Group (HEFG)                                 -1.351e-15    1.6e-15     -0.845      0.398   -4.48e-15    1.78e-15\n",
      "company_High Bar Productions                                             1.399e-16   2.03e-15      0.069      0.945   -3.84e-15    4.12e-15\n",
      "company_High School Sweethearts                                         -7.636e-16   1.24e-15     -0.614      0.540    -3.2e-15    1.68e-15\n",
      "company_Hill/Rosenman                                                    5.868e-16    1.4e-15      0.419      0.675   -2.16e-15    3.33e-15\n",
      "company_Hivemind                                                            1.2011      0.623      1.929      0.054      -0.020       2.422\n",
      "company_Hollywood Licensing Group                                       -2.082e-15    1.2e-15     -1.740      0.082   -4.43e-15    2.64e-16\n",
      "company_Hollywood Pictures                                                  0.6206      0.201      3.084      0.002       0.226       1.015\n",
      "company_Home Box Office (HBO)                                            3.416e-15   2.39e-15      1.428      0.153   -1.28e-15    8.11e-15\n",
      "company_Hoot Productions LLC                                               -1.0632      1.065     -0.999      0.318      -3.151       1.024\n",
      "company_Hopscotch Features                                              -1.879e-15    1.8e-15     -1.043      0.297   -5.41e-15    1.65e-15\n",
      "company_House Row Productions                                               1.5631      1.068      1.463      0.144      -0.532       3.658\n",
      "company_Houston King Productions                                         8.746e-16   1.17e-15      0.751      0.453   -1.41e-15    3.16e-15\n",
      "company_Huayi Brothers                                                   7.119e-15   1.66e-15      4.289      0.000    3.86e-15    1.04e-14\n",
      "company_Huayi Brothers Media                                            -2.642e-15   1.31e-15     -2.022      0.043    -5.2e-15      -8e-17\n",
      "company_Huayi Brothers Pictures                                           3.41e-15   1.55e-15      2.203      0.028    3.75e-16    6.44e-15\n",
      "company_Hughes Entertainment                                                2.6001      1.063      2.447      0.014       0.517       4.684\n",
      "company_Human Stew Factory                                               1.479e-15   1.95e-15      0.759      0.448   -2.34e-15     5.3e-15\n",
      "company_Hunter Killer Productions                                       -3.367e-15   1.14e-15     -2.954      0.003    -5.6e-15   -1.13e-15\n",
      "company_Hunting Lane Films                                                 -0.6515      1.065     -0.611      0.541      -2.741       1.438\n",
      "company_Hurwitz Creative                                                 7.438e-17   1.81e-15      0.041      0.967   -3.48e-15    3.63e-15\n",
      "company_Hyde Park Entertainment                                             0.3181      1.067      0.298      0.766      -1.775       2.411\n",
      "company_Hydraulx                                                           -1.6965      1.072     -1.583      0.114      -3.798       0.405\n",
      "company_Hyperion Pictures                                               -2.131e-15   1.33e-15     -1.598      0.110   -4.75e-15    4.84e-16\n",
      "company_IAC Films                                                        1.043e-15   1.19e-15      0.876      0.381   -1.29e-15    3.38e-15\n",
      "company_IFC Films                                                        2.981e-16   1.19e-15      0.251      0.802   -2.03e-15    2.62e-15\n",
      "company_IFC Productions                                                  9.387e-16   1.89e-15      0.496      0.620   -2.77e-15    4.65e-15\n",
      "company_IM Global                                                       -1.109e-16   1.69e-15     -0.066      0.948   -3.43e-15     3.2e-15\n",
      "company_IMF Internationale Medien und Film GmbH & Co. 2. Produktions KG     0.2906      1.077      0.270      0.787      -1.821       2.402\n",
      "company_IPC Films                                                           0.6309      1.062      0.594      0.553      -1.452       2.714\n",
      "company_IRS Media                                                       -5.551e-16   2.19e-15     -0.253      0.800   -4.85e-15    3.74e-15\n",
      "company_Icon Entertainment International                                   -0.2535      0.478     -0.530      0.596      -1.191       0.684\n",
      "company_Icon Productions                                                    0.7777      0.623      1.249      0.212      -0.443       1.999\n",
      "company_Iconoclast                                                      -2.222e-16    1.4e-15     -0.158      0.874   -2.98e-15    2.53e-15\n",
      "company_Illumination Entertainment                                      -2.043e-15   9.85e-16     -2.073      0.038   -3.98e-15    -1.1e-16\n",
      "company_Image Comics                                                       -1.0389      1.069     -0.971      0.331      -3.136       1.058\n",
      "company_Image Organization                                                  0.0158      1.063      0.015      0.988      -2.070       2.101\n",
      "company_Imagi Animation Studios                                             0.0305      1.064      0.029      0.977      -2.056       2.117\n",
      "company_Imagine Entertainment                                               0.9688      0.311      3.112      0.002       0.358       1.579\n",
      "company_Imagine Films Entertainment                                         1.5344      0.618      2.482      0.013       0.322       2.747\n",
      "company_Imperative Entertainment                                         7.701e-16   9.47e-16      0.814      0.416   -1.09e-15    2.63e-15\n",
      "company_Imperial Entertainment Corporation                                  1.6141      1.068      1.512      0.131      -0.479       3.708\n",
      "company_In The Bag Productions                                           4.834e-15   1.58e-15      3.055      0.002    1.73e-15    7.94e-15\n",
      "company_Incentive Filmed Entertainment                                      0.2654      1.070      0.248      0.804      -1.833       2.364\n",
      "company_Incorporated Television Company (ITC)                               0.3285      0.616      0.533      0.594      -0.880       1.537\n",
      "company_Independent Film Centre                                         -2.803e-15   1.38e-15     -2.024      0.043   -5.52e-15   -8.73e-17\n",
      "company_Independent Pictures (II)                                          -3.1564      1.063     -2.971      0.003      -5.240      -1.073\n",
      "company_Indian Paintbrush                                                   0.2762      1.069      0.258      0.796      -1.821       2.373\n",
      "company_Infinity Features Entertainment                                  4.199e-15   1.59e-15      2.638      0.008    1.08e-15    7.32e-15\n",
      "company_Initial Entertainment Group (IEG)                                   0.2629      0.753      0.349      0.727      -1.214       1.739\n",
      "company_Initial Pictures                                                -5.624e-16   1.83e-15     -0.308      0.758   -4.15e-15    3.02e-15\n",
      "company_Innovisions                                                      1.935e-15   1.54e-15      1.259      0.208   -1.08e-15    4.95e-15\n",
      "company_Insurge Pictures                                                -1.588e-15   1.13e-15     -1.410      0.159    -3.8e-15     6.2e-16\n",
      "company_Intermedia                                                         -2.7440      1.070     -2.565      0.010      -4.842      -0.646\n",
      "company_Intermedia Films                                                -1.192e-15   1.11e-15     -1.071      0.284   -3.37e-15    9.91e-16\n",
      "company_International Cinema                                             2.571e-15   9.85e-16      2.611      0.009     6.4e-16     4.5e-15\n",
      "company_International Cinema Corporation (ICC)                           1.498e-15   1.26e-15      1.192      0.233   -9.66e-16    3.96e-15\n",
      "company_International Film Investors                                        0.4681      1.106      0.423      0.672      -1.701       2.637\n",
      "company_Interscope Communications                                           0.8167      0.755      1.082      0.279      -0.664       2.297\n",
      "company_Intrepid Pictures                                                  -0.6796      1.063     -0.639      0.523      -2.765       1.406\n",
      "company_Iron Horse Entertainment (II)                                       1.8448      1.072      1.721      0.085      -0.257       3.947\n",
      "company_Ironbark Films                                                     -0.7631      1.072     -0.712      0.477      -2.865       1.339\n",
      "company_Island Pictures                                                     0.4800      1.067      0.450      0.653      -1.612       2.572\n",
      "company_Island World                                                        0.3785      1.062      0.356      0.722      -1.704       2.461\n",
      "company_It's a Laugh Productions                                            2.1928      1.073      2.043      0.041       0.088       4.297\n",
      "company_Ivory Way Productions                                           -6.509e-07      1.070  -6.08e-07      1.000      -2.099       2.099\n",
      "company_Ixtlan                                                              0.5560      1.066      0.521      0.602      -1.535       2.647\n",
      "company_J&M Entertainment                                               -2.731e-15    1.5e-15     -1.815      0.070   -5.68e-15    2.19e-16\n",
      "company_JDI Productions                                                 -1.125e-16   1.73e-15     -0.065      0.948    -3.5e-15    3.28e-15\n",
      "company_JF Productions                                                   2.945e-15   1.56e-15      1.893      0.058   -1.06e-16       6e-15\n",
      "company_JLT Productions                                                   6.62e-16   8.37e-16      0.791      0.429    -9.8e-16     2.3e-15\n",
      "company_JVC Entertainment Networks                                          0.7317      1.075      0.681      0.496      -1.376       2.840\n",
      "company_Jack Giarraputo Productions                                         1.9181      1.065      1.801      0.072      -0.171       4.007\n",
      "company_Jack Rollins & Charles H. Joffe Productions                        -0.6624      0.618     -1.073      0.284      -1.873       0.549\n",
      "company_Jackson/McHenry Company,The                                         1.2101      1.061      1.141      0.254      -0.870       3.291\n",
      "company_Jaffe-Lansing                                                      -0.3372      1.069     -0.315      0.752      -2.433       1.759\n",
      "company_James Glickenhaus                                                5.281e-16   1.24e-15      0.425      0.671   -1.91e-15    2.96e-15\n",
      "company_Jasmine Productions Inc.                                           -2.6472      1.068     -2.480      0.013      -4.741      -0.554\n",
      "company_Jay Weston Productions                                              1.0917      1.065      1.025      0.306      -0.998       3.181\n",
      "company_Jerry Bruckheimer Films                                             1.3644      0.756      1.804      0.071      -0.119       2.848\n",
      "company_Jersey Films                                                        1.0219      0.753      1.358      0.175      -0.454       2.498\n",
      "company_Jet Tone Production                                                -0.7269      1.069     -0.680      0.497      -2.823       1.370\n",
      "company_Jim Henson Pictures                                                -0.5043      1.072     -0.470      0.638      -2.606       1.598\n",
      "company_John Wells Productions                                              1.2576      1.064      1.182      0.237      -0.829       3.344\n",
      "company_Jolie Pas                                                       -5.106e-16   1.15e-15     -0.443      0.658   -2.77e-15    1.75e-15\n",
      "company_Jon Shestack Productions                                         2.174e-15   9.42e-16      2.308      0.021    3.27e-16    4.02e-15\n",
      "company_Jones Entertainment Group                                       -4.222e-15   2.45e-15     -1.727      0.084   -9.02e-15    5.72e-16\n",
      "company_Joseph S. Vecchio Entertainment                                     0.1803      1.066      0.169      0.866      -1.910       2.271\n",
      "company_Josephson Entertainment                                             1.4044      1.062      1.322      0.186      -0.679       3.488\n",
      "company_Junebug Movie                                                      -0.8626      1.070     -0.806      0.420      -2.961       1.235\n",
      "company_Juno Pix                                                            2.0974      1.067      1.966      0.049       0.006       4.189\n",
      "company_K5 International                                                -2.049e-15   1.59e-15     -1.290      0.197   -5.16e-15    1.07e-15\n",
      "company_Kang Je-Kyu Film Co. Ltd.                                       -3.756e-16   1.08e-15     -0.349      0.727   -2.49e-15    1.74e-15\n",
      "company_Kanun parvaresh fekri                                           -3.222e-15   2.15e-15     -1.496      0.135   -7.44e-15       1e-15\n",
      "company_Karbo Vantas Entertainment                                      -1.424e-15   8.88e-16     -1.604      0.109   -3.16e-15    3.16e-16\n",
      "company_Kasdan Pictures                                                     2.8373      1.062      2.671      0.008       0.754       4.921\n",
      "company_Keep Your Head                                                   8.118e-16   1.42e-15      0.571      0.568   -1.98e-15     3.6e-15\n",
      "company_Kennedy Miller Productions                                          0.9385      0.751      1.250      0.212      -0.534       2.411\n",
      "company_Kevin Downes Productions                                          2.99e-15   9.56e-16      3.129      0.002    1.12e-15    4.86e-15\n",
      "company_Killer Films                                                       -0.5791      0.752     -0.770      0.442      -2.054       0.896\n",
      "company_Kim Ki-Duk Film                                                  7.096e-16   7.42e-16      0.957      0.339   -7.45e-16    2.16e-15\n",
      "company_Kings Road Entertainment                                            0.8602      1.064      0.809      0.419      -1.226       2.946\n",
      "company_Kingsgate Films                                                     0.1780      1.061      0.168      0.867      -1.903       2.259\n",
      "company_Kingsmere Properties                                               -0.5389      1.067     -0.505      0.614      -2.632       1.554\n",
      "company_Klasky-Csupo                                                        1.2049      1.065      1.131      0.258      -0.885       3.294\n",
      "company_Knock Films A.V.V.                                              -3.029e-15   2.05e-15     -1.479      0.139   -7.04e-15    9.87e-16\n",
      "company_Konrad Pictures                                                     0.3957      1.066      0.371      0.710      -1.694       2.485\n",
      "company_Kopelson Entertainment                                              1.1904      1.062      1.121      0.262      -0.892       3.273\n",
      "company_Kouf/Bigelow Productions                                           -1.2532      1.064     -1.177      0.239      -3.340       0.834\n",
      "company_Kramer & Sigman Films                                            1.562e-15   1.74e-15      0.899      0.369   -1.85e-15    4.97e-15\n",
      "company_Krasnow Productions                                              2.354e-16   1.14e-15      0.206      0.837   -2.01e-15    2.48e-15\n",
      "company_Krisjair                                                           -0.4668      1.063     -0.439      0.661      -2.552       1.618\n",
      "company_Kuzui Enterprises                                                  -3.6314      1.195     -3.039      0.002      -5.975      -1.288\n",
      "company_L.A. Films                                                      -3.642e-15   1.49e-15     -2.446      0.015   -6.56e-15   -7.22e-16\n",
      "company_LBI Productions                                                  4.586e-15   1.49e-15      3.068      0.002    1.65e-15    7.52e-15\n",
      "company_LD Entertainment                                                   -1.1339      1.062     -1.068      0.286      -3.216       0.948\n",
      "company_LStar Capital                                                   -1.143e-15   1.65e-15     -0.694      0.488   -4.37e-15    2.09e-15\n",
      "company_La Petite Reine                                                  3.997e-15   1.72e-15      2.327      0.020    6.29e-16    7.37e-15\n",
      "company_Ladbroke                                                            0.6879      1.065      0.646      0.518      -1.400       2.776\n",
      "company_Lago Film                                                        9.794e-17   9.39e-16      0.104      0.917   -1.74e-15    1.94e-15\n",
      "company_Lakeshore Entertainment                                            -0.1890      0.357     -0.529      0.597      -0.890       0.512\n",
      "company_Lancaster Gate                                                      0.8736      1.069      0.818      0.414      -1.222       2.969\n",
      "company_Largo Entertainment                                                 0.6549      0.435      1.505      0.133      -0.199       1.508\n",
      "company_Largo International N.V.                                            0.7117      1.098      0.648      0.517      -1.442       2.865\n",
      "company_Last Holiday Productions                                         2.828e-15   1.36e-15      2.084      0.037    1.67e-16    5.49e-15\n",
      "company_Laurence Mark Productions                                        7.629e-15    2.2e-15      3.476      0.001    3.32e-15    1.19e-14\n",
      "company_Laurenfilm                                                       8.554e-15    2.3e-15      3.726      0.000    4.05e-15    1.31e-14\n",
      "company_Lava Bear Films                                                  -2.43e-15   2.07e-15     -1.173      0.241   -6.49e-15    1.63e-15\n",
      "company_Lawrence Gordon Productions                                        -0.4352      1.062     -0.410      0.682      -2.518       1.648\n",
      "company_Legend Production Company                                          -0.0284      1.064     -0.027      0.979      -2.114       2.057\n",
      "company_Legend3D                                                         5.531e-15   2.54e-15      2.178      0.030    5.51e-16    1.05e-14\n",
      "company_Legendary East                                                   9.048e-16   1.64e-15      0.553      0.581   -2.31e-15    4.12e-15\n",
      "company_Legendary Entertainment                                          3.254e-15   1.53e-15      2.129      0.033    2.57e-16    6.25e-15\n",
      "company_Leisure Investment Company                                       4.592e-16   8.88e-16      0.517      0.605   -1.28e-15     2.2e-15\n",
      "company_Les Armateurs                                                      -1.5812      0.796     -1.985      0.047      -3.143      -0.019\n",
      "company_Les Films 21                                                    -1.884e-16    7.9e-16     -0.238      0.812   -1.74e-15    1.36e-15\n",
      "company_Les Films Alain Sarde                                               0.8753      1.076      0.813      0.416      -1.235       2.986\n",
      "company_Les Films du Losange                                             1.968e-15   7.68e-16      2.562      0.010    4.61e-16    3.47e-15\n",
      "company_Levins-Henenlotter                                               1.875e-16   9.35e-16      0.200      0.841   -1.65e-15    2.02e-15\n",
      "company_Lewitt / Eberts Productions                                         1.1552      1.066      1.083      0.279      -0.936       3.246\n",
      "company_LightWave Entertainment                                         -1.243e-15   9.37e-16     -1.327      0.185   -3.08e-15    5.94e-16\n",
      "company_Lightning Pictures                                               5.632e-16   6.72e-16      0.838      0.402   -7.55e-16    1.88e-15\n",
      "company_Lightstorm Entertainment                                           -1.4235      1.062     -1.340      0.180      -3.507       0.660\n",
      "company_Lightyear Entertainment                                            -3.6599      1.066     -3.433      0.001      -5.750      -1.569\n",
      "company_Likely Story                                                     2.457e-15   9.35e-16      2.627      0.009    6.23e-16    4.29e-15\n",
      "company_Lions Gate Films                                                   -0.1185      0.323     -0.367      0.714      -0.752       0.515\n",
      "company_Lionsgate                                                           0.6913      0.200      3.453      0.001       0.299       1.084\n",
      "company_Little Stranger                                                    -1.1438      1.062     -1.077      0.282      -3.226       0.939\n",
      "company_Little Tokyo Productions                                           -1.5275      1.061     -1.440      0.150      -3.607       0.552\n",
      "company_Live Entertainment                                                  0.3143      1.064      0.295      0.768      -1.773       2.402\n",
      "company_LivePlanet                                                          2.4652      1.061      2.323      0.020       0.384       4.547\n",
      "company_Lleju Productions                                                  -1.5334      1.065     -1.440      0.150      -3.621       0.554\n",
      "company_Longview Entertainment                                          -3.286e-16   5.31e-16     -0.618      0.536   -1.37e-15    7.13e-16\n",
      "company_Lorimar Film Entertainment                                          0.8456      0.538      1.573      0.116      -0.208       1.900\n",
      "company_Lorimar Motion Pictures                                            -0.7149      1.067     -0.670      0.503      -2.807       1.378\n",
      "company_Lorimar Productions                                                 0.0084      1.082      0.008      0.994      -2.113       2.130\n",
      "company_Los Angeles Media Fund (LAMF)                                    -2.06e-15   1.14e-15     -1.809      0.071   -4.29e-15    1.74e-16\n",
      "company_Lost Soul Productions                                            2.259e-17   8.55e-16      0.026      0.979   -1.65e-15     1.7e-15\n",
      "company_Lucamar Productions                                              2.876e-15   1.07e-15      2.699      0.007    7.86e-16    4.97e-15\n",
      "company_Lucasfilm                                                           0.7889      0.755      1.044      0.296      -0.692       2.270\n",
      "company_Lucasfilm Animation                                                 1.0202      1.062      0.961      0.337      -1.062       3.103\n",
      "company_Lucille Ball Productions                                            1.2220      1.063      1.149      0.251      -0.863       3.307\n",
      "company_Lucky Monkey Pictures                                            2.808e-15   1.04e-15      2.708      0.007    7.75e-16    4.84e-15\n",
      "company_Lumiere Pictures                                                    1.0121      1.062      0.953      0.341      -1.070       3.094\n",
      "company_Lumière Pictures                                                -1.657e-15   6.64e-16     -2.493      0.013   -2.96e-15   -3.54e-16\n",
      "company_Lutzus-Brown                                                      3.44e-15   1.08e-15      3.190      0.001    1.33e-15    5.56e-15\n",
      "company_Lyla Films                                                       7.118e-17   6.84e-16      0.104      0.917   -1.27e-15    1.41e-15\n",
      "company_Lynda Obst Productions                                              1.4547      1.066      1.365      0.172      -0.635       3.544\n",
      "company_Légende Films                                                       1.0820      0.752      1.439      0.150      -0.392       2.556\n",
      "company_MDP Worldwide                                                    1.067e-15   1.11e-15      0.965      0.335    -1.1e-15    3.24e-15\n",
      "company_MFF Feature Film Productions                                        1.6201      1.070      1.514      0.130      -0.478       3.719\n",
      "company_MK2 Productions                                                 -4.013e-17   6.31e-16     -0.064      0.949   -1.28e-15     1.2e-15\n",
      "company_MPI Media Group                                                    -5.1055      1.063     -4.804      0.000      -7.189      -3.022\n",
      "company_MPL Communications                                              -1.191e-15   4.75e-16     -2.505      0.012   -2.12e-15   -2.59e-16\n",
      "company_MTV Films                                                           1.7177      1.062      1.617      0.106      -0.365       3.801\n",
      "company_MWM Studios                                                     -7.428e-16   1.05e-15     -0.707      0.479    -2.8e-15    1.32e-15\n",
      "company_Mac and Me Joint Venture                                         -2.45e-15   7.24e-16     -3.384      0.001   -3.87e-15   -1.03e-15\n",
      "company_Macari/Edelstein                                                 1.797e-15   6.59e-16      2.727      0.006    5.05e-16    3.09e-15\n",
      "company_Mace Neufeld Productions                                            1.3567      0.752      1.804      0.071      -0.118       2.831\n",
      "company_Magic Light Pictures                                             4.931e-16   5.64e-16      0.874      0.382   -6.13e-16     1.6e-15\n",
      "company_Magnolia Pictures                                                  -0.1830      1.117     -0.164      0.870      -2.373       2.007\n",
      "company_Magnum Pictures Inc.                                                1.4523      1.064      1.365      0.173      -0.635       3.539\n",
      "company_Majestic Films International                                       -3.4165      1.064     -3.211      0.001      -5.503      -1.330\n",
      "company_Major Studio Partners                                               1.1058      1.065      1.038      0.299      -0.983       3.195\n",
      "company_Maljack Productions                                             -1.172e-15   1.02e-15     -1.153      0.249   -3.17e-15    8.22e-16\n",
      "company_Malpaso Productions                                                 0.0996      1.065      0.094      0.925      -1.988       2.187\n",
      "company_Mandalay Entertainment                                              0.7659      0.532      1.439      0.150      -0.278       1.810\n",
      "company_Mandalay Pictures                                                   0.3692      1.063      0.347      0.728      -1.716       2.454\n",
      "company_Mandalay Vision                                                    -0.0829      1.120     -0.074      0.941      -2.279       2.113\n",
      "company_Mandate Pictures                                                    0.5610      0.758      0.741      0.459      -0.924       2.047\n",
      "company_Mandeville Films                                                    1.0770      0.616      1.749      0.080      -0.130       2.284\n",
      "company_Mann/Caan Productions                                              -0.3851      1.063     -0.362      0.717      -2.470       1.700\n",
      "company_Marcy Media                                                         0.8200      1.066      0.769      0.442      -1.270       2.910\n",
      "company_Marked Entertainment                                               -1.4155      1.071     -1.321      0.186      -3.516       0.685\n",
      "company_Marv Films                                                          0.1403      0.752      0.187      0.852      -1.334       1.615\n",
      "company_Marvel Enterprises                                                  1.4346      1.071      1.340      0.180      -0.665       3.534\n",
      "company_Marvel Entertainment                                            -6.349e-16   8.31e-16     -0.764      0.445   -2.26e-15    9.95e-16\n",
      "company_Marvel Studios                                                     -0.9182      0.767     -1.197      0.231      -2.423       0.586\n",
      "company_Matchbox Pictures                                                3.786e-15   8.43e-16      4.491      0.000    2.13e-15    5.44e-15\n",
      "company_Material                                                            0.7312      1.065      0.687      0.492      -1.356       2.819\n",
      "company_Matten Productions                                                  3.0350      1.072      2.830      0.005       0.932       5.138\n",
      "company_Max Films Productions                                            6.913e-16   7.25e-16      0.954      0.340    -7.3e-16    2.11e-15\n",
      "company_Mayhem Pictures                                                  4.362e-16   1.72e-15      0.253      0.800   -2.94e-15    3.81e-15\n",
      "company_McFarlane Films                                                     1.5965      1.063      1.501      0.133      -0.489       3.682\n",
      "company_Media 8 Entertainment                                               2.1230      1.065      1.994      0.046       0.035       4.211\n",
      "company_Media Asia Films                                                -1.185e-15   1.17e-15     -1.011      0.312   -3.48e-15    1.11e-15\n",
      "company_Media Rights Capital (MRC)                                      -7.657e-16   5.88e-16     -1.302      0.193   -1.92e-15    3.87e-16\n",
      "company_Mediapro                                                            1.2670      0.759      1.670      0.095      -0.221       2.755\n",
      "company_Mediaset España                                                  1.149e-15   1.26e-15      0.912      0.362   -1.32e-15    3.62e-15\n",
      "company_Medusa Film                                                     -5.189e-16   5.46e-16     -0.951      0.342   -1.59e-15    5.51e-16\n",
      "company_Melampo Cinematografica                                             1.5574      1.073      1.451      0.147      -0.547       3.662\n",
      "company_Melvin Simon Productions                                            0.2852      0.752      0.379      0.705      -1.190       1.760\n",
      "company_Memento Films Production                                         6.009e-16    5.6e-16      1.072      0.284   -4.98e-16     1.7e-15\n",
      "company_Mepris Films                                                       -2.2154      1.076     -2.060      0.040      -4.325      -0.106\n",
      "company_Merchant Ivory Productions                                         -0.6096      1.072     -0.568      0.570      -2.713       1.493\n",
      "company_Metro-Goldwyn-Mayer (MGM)                                           0.4405      0.135      3.274      0.001       0.177       0.704\n",
      "company_Metropolitan Filmexport                                             0.9254      1.065      0.869      0.385      -1.162       3.013\n",
      "company_Midwinter Productions Inc.                                          1.3289      1.060      1.253      0.210      -0.750       3.408\n",
      "company_Milk & Media                                                    -5.598e-16   4.33e-16     -1.293      0.196   -1.41e-15    2.89e-16\n",
      "company_Milkshake Films                                                  2.323e-15   9.36e-16      2.482      0.013    4.88e-16    4.16e-15\n",
      "company_Millenium                                                       -2.934e-15   1.15e-15     -2.541      0.011    -5.2e-15    -6.7e-16\n",
      "company_Millennium Films                                                    0.0700      0.358      0.195      0.845      -0.632       0.772\n",
      "company_Millennium Media                                                 1.551e-15   7.21e-16      2.151      0.032    1.37e-16    2.97e-15\n",
      "company_Mimran Schur Pictures                                           -6.245e-16   6.05e-16     -1.033      0.302   -1.81e-15    5.61e-16\n",
      "company_Mirage Enterprises                                                  0.3526      0.755      0.467      0.641      -1.128       1.834\n",
      "company_Miramax                                                             0.4995      0.174      2.868      0.004       0.158       0.841\n",
      "company_Mod Producciones                                                   -0.4175      1.065     -0.392      0.695      -2.506       1.671\n",
      "company_Monarch Pictures                                                 9.085e-16   4.11e-16      2.210      0.027    1.02e-16    1.71e-15\n",
      "company_Monkeypaw Productions                                           -6.377e-16   4.96e-16     -1.287      0.198   -1.61e-15    3.34e-16\n",
      "company_Monsterfoot Productions                                             0.7791      1.071      0.727      0.467      -1.322       2.880\n",
      "company_Mooz Films                                                       3.021e-15   9.76e-16      3.096      0.002    1.11e-15    4.93e-15\n",
      "company_Morgan Creek Entertainment                                          0.2730      0.226      1.206      0.228      -0.171       0.717\n",
      "company_Morra, Brezner, Steinberg and Tenenbaum Entertainment (MBST)        0.2207      1.061      0.208      0.835      -1.861       2.302\n",
      "company_Mosaic                                                              0.9769      1.064      0.918      0.359      -1.110       3.064\n",
      "company_Motion Picture Corporation of America (MPCA)                       -0.3873      1.069     -0.362      0.717      -2.484       1.709\n",
      "company_Motlys                                                           9.028e-16    9.1e-16      0.992      0.321   -8.81e-16    2.69e-15\n",
      "company_Movision                                                        -1.342e-15   5.63e-16     -2.383      0.017   -2.45e-15   -2.38e-16\n",
      "company_Mulberry Square Productions                                     -2.507e-16   4.81e-16     -0.521      0.603   -1.19e-15    6.93e-16\n",
      "company_Mulholland Productions                                             -0.2364      0.758     -0.312      0.755      -1.723       1.250\n",
      "company_Mundy Lane Entertainment                                        -1.433e-16   4.17e-16     -0.344      0.731    -9.6e-16    6.74e-16\n",
      "company_Muse Productions                                                   -2.1981      1.194     -1.841      0.066      -4.539       0.143\n",
      "company_Mutual Film Company                                                 0.1451      1.062      0.137      0.891      -1.937       2.227\n",
      "company_Myriad Pictures                                                   2.02e-15   9.28e-16      2.176      0.030       2e-16    3.84e-15\n",
      "company_Mystery Clock Cinema                                               -0.1484      1.069     -0.139      0.890      -2.244       1.947\n",
      "company_Myung Film Company Ltd.                                          1.647e-15   8.86e-16      1.860      0.063   -8.96e-17    3.38e-15\n",
      "company_NBC Productions                                                    -0.1914      1.063     -0.180      0.857      -2.277       1.894\n",
      "company_NDF International                                                2.224e-15   8.97e-16      2.481      0.013    4.66e-16    3.98e-15\n",
      "company_NFH Productions                                                  -8.16e-16   8.87e-16     -0.920      0.358   -2.55e-15    9.23e-16\n",
      "company_NPV Entertainment                                                -6.24e-17   4.34e-16     -0.144      0.886   -9.14e-16    7.89e-16\n",
      "company_NVSH Productions                                                   -3.0866      1.070     -2.886      0.004      -5.184      -0.989\n",
      "company_Natant                                                              0.4630      1.065      0.435      0.664      -1.625       2.551\n",
      "company_National Lampoon                                                    1.3277      1.063      1.249      0.212      -0.757       3.413\n",
      "company_Nelson Entertainment                                               -0.6896      0.753     -0.916      0.360      -2.166       0.787\n",
      "company_Nelvana                                                            -5.9496      1.070     -5.562      0.000      -8.047      -3.852\n",
      "company_Nest Family Entertainment                                          -1.2932      1.073     -1.205      0.228      -3.398       0.811\n",
      "company_New Amsterdam Entertainment                                      9.952e-17   4.72e-16      0.211      0.833   -8.26e-16    1.02e-15\n",
      "company_New Century Entertainment Corporation                            5.585e-16   3.31e-16      1.685      0.092   -9.15e-17    1.21e-15\n",
      "company_New Horizons Picture                                               -1.2450      1.066     -1.168      0.243      -3.335       0.845\n",
      "company_New Line Cinema                                                     0.7978      0.107      7.469      0.000       0.588       1.007\n",
      "company_New Oz Productions                                              -3.949e-15   1.32e-15     -2.998      0.003   -6.53e-15   -1.37e-15\n",
      "company_New Regency Productions                                             0.6150      0.207      2.977      0.003       0.210       1.020\n",
      "company_New Sky Communications Inc.                                        -2.1765      1.062     -2.050      0.041      -4.259      -0.094\n",
      "company_New Visions                                                        -0.3204      1.068     -0.300      0.764      -2.414       1.773\n",
      "company_New World Entertainment Films                                   -1.423e-15   8.48e-16     -1.678      0.094   -3.09e-15     2.4e-16\n",
      "company_New World Pictures                                                  0.1142      0.536      0.213      0.831      -0.938       1.166\n",
      "company_Newmarket Capital Group                                             0.8366      1.062      0.787      0.431      -1.247       2.920\n",
      "company_Next Entertainment                                                  1.5451      1.071      1.442      0.149      -0.555       3.646\n",
      "company_Next Wave Films                                                    -5.1511      1.074     -4.795      0.000      -7.258      -3.045\n",
      "company_Nicolas Entertainment                                              -0.1809      1.063     -0.170      0.865      -2.265       1.903\n",
      "company_Night Life Inc.                                                    -0.3671      0.617     -0.595      0.552      -1.577       0.843\n",
      "company_Night and Day Pictures                                              0.0181      1.063      0.017      0.986      -2.066       2.102\n",
      "company_Nimbus Film Productions                                         -3.123e-16   5.36e-16     -0.583      0.560   -1.36e-15    7.38e-16\n",
      "company_Nine Yards Two Productions                                          0.3626      1.064      0.341      0.733      -1.724       2.449\n",
      "company_No Frills Film Production                                           0.4328      1.066      0.406      0.685      -1.657       2.522\n",
      "company_No Matter Pictures                                                 -3.2802      1.064     -3.084      0.002      -5.366      -1.195\n",
      "company_No Trace Camping                                                -1.075e-15   3.28e-16     -3.272      0.001   -1.72e-15    -4.3e-16\n",
      "company_Norman Twain Productions                                            0.5876      1.064      0.552      0.581      -1.498       2.674\n",
      "company_Northern Lights Entertainment                                       0.9396      0.752      1.249      0.212      -0.536       2.415\n",
      "company_Northern Lights Films                                            8.409e-16   3.29e-16      2.554      0.011    1.95e-16    1.49e-15\n",
      "company_Nova International Films                                         3.064e-15   1.01e-15      3.049      0.002    1.09e-15    5.03e-15\n",
      "company_Number 9 Films                                                     -0.4575      1.065     -0.429      0.668      -2.547       1.632\n",
      "company_O Entertainment                                                     0.7646      0.751      1.018      0.309      -0.709       2.238\n",
      "company_OLC / Rights Entertainment                                         -0.1633      1.064     -0.153      0.878      -2.250       1.923\n",
      "company_Occupant Entertainment                                           5.622e-16   1.75e-15      0.321      0.748   -2.87e-15       4e-15\n",
      "company_October Films                                                      -0.6702      0.755     -0.888      0.375      -2.150       0.809\n",
      "company_Odeon Films                                                     -8.529e-16   5.17e-16     -1.650      0.099   -1.87e-15    1.61e-16\n",
      "company_Odyssey                                                         -9.617e-16   3.61e-16     -2.666      0.008   -1.67e-15   -2.54e-16\n",
      "company_Olympus Pictures                                                    0.4425      0.760      0.582      0.561      -1.048       1.933\n",
      "company_Omega Entertainment                                                -0.6637      1.063     -0.624      0.533      -2.749       1.422\n",
      "company_Omnilab Media                                                       0.1852      1.071      0.173      0.863      -1.915       2.285\n",
      "company_One Way Productions                                                 0.4167      1.072      0.389      0.698      -1.686       2.519\n",
      "company_Onyx Films                                                      -2.329e-16   1.58e-16     -1.470      0.142   -5.44e-16    7.77e-17\n",
      "company_Open City Films                                                     1.0046      1.064      0.945      0.345      -1.081       3.090\n",
      "company_Open Road Films                                                 -4.188e-16   2.35e-16     -1.780      0.075    -8.8e-16    4.25e-17\n",
      "company_Open Road Films (II)                                                1.6487      1.075      1.533      0.125      -0.460       3.758\n",
      "company_Oriental Light and Magic (OLM)                                   1.265e-17   3.45e-17      0.366      0.714   -5.51e-17    8.04e-17\n",
      "company_Origin Pictures                                                 -1.119e-16   1.33e-16     -0.839      0.401   -3.73e-16     1.5e-16\n",
      "company_Orion Pictures                                                      0.6454      0.210      3.076      0.002       0.234       1.057\n",
      "company_Oscilloscope                                                       -2.5550      1.069     -2.391      0.017      -4.651      -0.459\n",
      "company_Osterman Weekend Associates                                              0          0        nan        nan           0           0\n",
      "company_Out of the Blue... Entertainment                                   -0.3194      1.063     -0.300      0.764      -2.405       1.766\n",
      "company_Outlaw Productions (I)                                              2.2478      0.764      2.944      0.003       0.750       3.745\n",
      "company_Overbrook Entertainment                                             0.7616      1.066      0.714      0.475      -1.329       2.852\n",
      "company_Overnight Films                                                     0.8025      1.065      0.753      0.451      -1.287       2.892\n",
      "company_Overture Films                                                     -0.2160      0.476     -0.453      0.650      -1.150       0.718\n",
      "company_P2 Productions                                                     -1.0522      1.062     -0.991      0.322      -3.134       1.030\n",
      "company_PVM Entertainment                                                  -1.3536      1.063     -1.274      0.203      -3.437       0.730\n",
      "company_Pacific Western                                                    -1.0013      0.754     -1.328      0.184      -2.480       0.477\n",
      "company_Paisley Park Films                                                       0          0        nan        nan           0           0\n",
      "company_Palace Pictures                                                     0.3011      0.754      0.399      0.690      -1.178       1.780\n",
      "company_Palla                                                              -2.9825      1.063     -2.805      0.005      -5.068      -0.897\n",
      "company_PalmStar Media                                                           0          0        nan        nan           0           0\n",
      "company_Pan Arts                                                            0.5899      1.065      0.554      0.580      -1.498       2.678\n",
      "company_Pan Européenne                                                           0          0        nan        nan           0           0\n",
      "company_Pandora Cinema                                                     -1.3877      1.063     -1.306      0.192      -3.472       0.697\n",
      "company_Pandora Filmproduktion                                             -3.0747      1.066     -2.883      0.004      -5.166      -0.983\n",
      "company_Panorama Films                                                           0          0        nan        nan           0           0\n",
      "company_Pantelion Films                                                          0          0        nan        nan           0           0\n",
      "company_Papazian-Hirsch Entertainment International                              0          0        nan        nan           0           0\n",
      "company_Paragon Arts International                                               0          0        nan        nan           0           0\n",
      "company_Paramount Animation                                                      0          0        nan        nan           0           0\n",
      "company_Paramount Classics                                                 -0.0630      1.071     -0.059      0.953      -2.163       2.037\n",
      "company_Paramount Pictures                                                  0.9420      0.089     10.526      0.000       0.766       1.117\n",
      "company_Paramount Players                                                        0          0        nan        nan           0           0\n",
      "company_Paramount Vantage                                                   0.1027      0.405      0.253      0.800      -0.692       0.898\n",
      "company_Parkes/Lasker productions                                           1.2945      1.062      1.219      0.223      -0.788       3.377\n",
      "company_Parkway Productions                                                -0.1017      1.074     -0.095      0.925      -2.208       2.005\n",
      "company_Participant                                                              0          0        nan        nan           0           0\n",
      "company_Partisan Productions                                               -1.1390      1.098     -1.038      0.300      -3.292       1.014\n",
      "company_Parts and Labor                                                          0          0        nan        nan           0           0\n",
      "company_Party Productions                                                        0          0        nan        nan           0           0\n",
      "company_Pathé                                                                    0          0        nan        nan           0           0\n",
      "company_Pathé Entertainment                                                 0.6132      1.066      0.575      0.565      -1.478       2.705\n",
      "company_Pathé Pictures International                                       -2.7361      0.752     -3.639      0.000      -4.210      -1.262\n",
      "company_Pathé Renn Productions                                             -0.3208      1.070     -0.300      0.764      -2.419       1.778\n",
      "company_Paulilu Productions                                                      0          0        nan        nan           0           0\n",
      "company_Pelican Productions LLC (I)                                              0          0        nan        nan           0           0\n",
      "company_Penta Entertainment                                                      0          0        nan        nan           0           0\n",
      "company_Penta Films                                                         0.1326      1.065      0.125      0.901      -1.956       2.221\n",
      "company_Penta Pictures                                                     -0.8236      1.064     -0.774      0.439      -2.909       1.262\n",
      "company_Perfect World Pictures                                                   0          0        nan        nan           0           0\n",
      "company_Permut Presentations                                                0.6427      1.064      0.604      0.546      -1.443       2.728\n",
      "company_Peters Entertainment                                                0.1474      0.753      0.196      0.845      -1.330       1.624\n",
      "company_Phillips Whitehouse Productions                                          0          0        nan        nan           0           0\n",
      "company_Phoenix Pictures                                                    0.9728      0.477      2.037      0.042       0.036       1.909\n",
      "company_Picture Securities                                                       0          0        nan        nan           0           0\n",
      "company_Picturehouse                                                        1.0261      0.762      1.346      0.178      -0.469       2.521\n",
      "company_Pioneer LDC                                                              0          0        nan        nan           0           0\n",
      "company_Pixar Animation Studios                                             1.2949      0.426      3.039      0.002       0.459       2.130\n",
      "company_Plan B Entertainment                                                     0          0        nan        nan           0           0\n",
      "company_Planet Productions                                                 -1.0184      1.062     -0.959      0.337      -3.100       1.063\n",
      "company_Play It Inc.                                                       -0.6270      1.063     -0.590      0.555      -2.711       1.457\n",
      "company_Playhouse International Pictures                                         0          0        nan        nan           0           0\n",
      "company_Playtone                                                           -0.5281      1.062     -0.497      0.619      -2.611       1.554\n",
      "company_Plunge Pictures LLC                                                 2.3475      1.061      2.212      0.027       0.266       4.429\n",
      "company_Point Grey Pictures                                                      0          0        nan        nan           0           0\n",
      "company_Polar Entertainment                                                -1.1081      1.063     -1.042      0.297      -3.192       0.976\n",
      "company_PolyGram Filmed Entertainment                                       0.8328      0.437      1.907      0.057      -0.024       1.689\n",
      "company_PolyGram Pictures                                                        0          0        nan        nan           0           0\n",
      "company_Polyc International BV                                             -2.8026      1.069     -2.621      0.009      -4.900      -0.705\n",
      "company_Polygram Filmed Entertainment                                       0.5791      0.340      1.705      0.088      -0.087       1.245\n",
      "company_Polygram Pictures                                                   1.5675      1.066      1.470      0.142      -0.524       3.659\n",
      "company_Ponty Up Pictures                                                        0          0        nan        nan           0           0\n",
      "company_Pop Pop Productions                                                 1.9090      1.077      1.773      0.076      -0.203       4.021\n",
      "company_Pope Productions                                                         0          0        nan        nan           0           0\n",
      "company_Populist Pictures                                                  -3.0471      1.060     -2.873      0.004      -5.127      -0.968\n",
      "company_Porchlight Films                                                         0          0        nan        nan           0           0\n",
      "company_Portman Entertainment Group                                         2.1420      1.070      2.002      0.045       0.044       4.240\n",
      "company_Prana Studios                                                            0          0        nan        nan           0           0\n",
      "company_Preferred Content                                                  -4.7476      1.070     -4.437      0.000      -6.846      -2.649\n",
      "company_Pressman Film                                                            0          0        nan        nan           0           0\n",
      "company_Pressman Productions                                                     0          0        nan        nan           0           0\n",
      "company_Prettybird                                                               0          0        nan        nan           0           0\n",
      "company_Price Entertainment                                                 0.5695      1.070      0.532      0.595      -1.529       2.668\n",
      "company_Primate Pictures                                                         0          0        nan        nan           0           0\n",
      "company_Prime Film Productions LLC                                               0          0        nan        nan           0           0\n",
      "company_Producers Representative Organization                                    0          0        nan        nan           0           0\n",
      "company_Producers Sales Organization (PSO)                                       0          0        nan        nan           0           0\n",
      "company_Prominent Features                                                 -1.7835      1.062     -1.680      0.093      -3.865       0.298\n",
      "company_Propaganda Films                                                   -1.8395      1.067     -1.724      0.085      -3.932       0.253\n",
      "company_Prospero Pictures                                                        0          0        nan        nan           0           0\n",
      "company_Protagonist Pictures                                               -1.2640      1.065     -1.187      0.235      -3.353       0.825\n",
      "company_Prufrock Pictures                                                   1.6101      1.116      1.443      0.149      -0.578       3.798\n",
      "company_Pt. Merantau Films                                                       0          0        nan        nan           0           0\n",
      "company_Punch 21 Productions                                                     0          0        nan        nan           0           0\n",
      "company_Pure Flix Productions                                                    0          0        nan        nan           0           0\n",
      "company_Pyramania                                                                0          0        nan        nan           0           0\n",
      "company_Q Productions                                                       0.3937      1.064      0.370      0.712      -1.694       2.481\n",
      "company_Quad Productions                                                         0          0        nan        nan           0           0\n",
      "company_Quinta Communications                                              -0.0652      1.061     -0.061      0.951      -2.145       2.015\n",
      "company_R.P. Productions                                                   -0.2409      0.753     -0.320      0.749      -1.717       1.235\n",
      "company_RADiUS-TWC                                                               0          0        nan        nan           0           0\n",
      "company_RKO Pictures                                                        0.1716      0.753      0.228      0.820      -1.306       1.649\n",
      "company_Raffaella De Laurentiis Productions                                      0          0        nan        nan           0           0\n",
      "company_Raindog Films                                                            0          0        nan        nan           0           0\n",
      "company_Rainforest Films                                                    1.8004      1.065      1.691      0.091      -0.287       3.888\n",
      "company_Rankin/Bass Productions                                            -0.7498      1.072     -0.699      0.484      -2.853       1.353\n",
      "company_Rastar Films                                                        0.0684      1.065      0.064      0.949      -2.020       2.157\n",
      "company_Rastar Pictures                                                     2.1337      0.756      2.824      0.005       0.652       3.615\n",
      "company_Rastar Productions                                                       0          0        nan        nan           0           0\n",
      "company_RatPac-Dune Entertainment                                                0          0        nan        nan           0           0\n",
      "company_Realitism Films                                                    -5.0872      1.064     -4.783      0.000      -7.173      -3.001\n",
      "company_Recorded Picture Company (RPC)                                     -2.0668      0.715     -2.889      0.004      -3.470      -0.664\n",
      "company_Red Crown Productions                                                    0          0        nan        nan           0           0\n",
      "company_Red Granite Pictures                                                     0          0        nan        nan           0           0\n",
      "company_Red Hour Films                                                           0          0        nan        nan           0           0\n",
      "company_Redwave Films                                                            0          0        nan        nan           0           0\n",
      "company_Reel FX Creative Studios                                                 0          0        nan        nan           0           0\n",
      "company_Relativity Media                                                    0.4959      0.380      1.305      0.192      -0.249       1.241\n",
      "company_Religioso Primitiva                                                      0          0        nan        nan           0           0\n",
      "company_Renaissance Films                                                   0.3788      1.067      0.355      0.723      -1.713       2.471\n",
      "company_Renaissance Pictures                                                0.4691      0.642      0.731      0.465      -0.789       1.727\n",
      "company_Renn Productions                                                         0          0        nan        nan           0           0\n",
      "company_Rent Productions LLC                                               -0.5085      1.064     -0.478      0.633      -2.594       1.577\n",
      "company_Reprisal Films                                                     -0.3707      1.067     -0.348      0.728      -2.463       1.721\n",
      "company_Reteitalia                                                         -1.4069      1.062     -1.325      0.185      -3.489       0.675\n",
      "company_Revelations Entertainment                                          -4.2563      1.063     -4.005      0.000      -6.341      -2.172\n",
      "company_Revolution Studios                                                  0.8127      0.214      3.797      0.000       0.393       1.232\n",
      "company_Rhombus Media                                                      -0.0721      0.753     -0.096      0.924      -1.548       1.404\n",
      "company_Richard Williams Productions                                       -3.9473      1.073     -3.678      0.000      -6.052      -1.842\n",
      "company_Richmond Light Horse Productions                                         0          0        nan        nan           0           0\n",
      "company_Riddick Canada Productions                                               0          0        nan        nan           0           0\n",
      "company_Rifkin-Eberts                                                      -0.2685      1.065     -0.252      0.801      -2.357       1.820\n",
      "company_Rimfire Films                                                       3.3222      1.063      3.124      0.002       1.237       5.407\n",
      "company_River Road Entertainment                                           -0.6470      0.615     -1.052      0.293      -1.854       0.560\n",
      "company_River Road Productions                                             -0.6748      1.063     -0.635      0.525      -2.759       1.409\n",
      "company_Road Movies Filmproduktion                                               0          0        nan        nan           0           0\n",
      "company_Roadside Attractions                                                     0          0        nan        nan           0           0\n",
      "company_Robert Simonds Productions                                          1.3063      0.752      1.736      0.083      -0.169       2.782\n",
      "company_Rogue                                                              -0.3382      0.615     -0.550      0.583      -1.545       0.868\n",
      "company_Rogue Pictures                                                      0.6035      0.323      1.866      0.062      -0.031       1.238\n",
      "company_Rook Films                                                               0          0        nan        nan           0           0\n",
      "company_Room 9 Entertainment                                                1.1325      1.061      1.067      0.286      -0.948       3.213\n",
      "company_Roth Films                                                          0.6408      1.070      0.599      0.549      -1.457       2.739\n",
      "company_Route One Entertainment                                                  0          0        nan        nan           0           0\n",
      "company_Ruby Films                                                               0          0        nan        nan           0           0\n",
      "company_Rumbalara Films                                                          0          0        nan        nan           0           0\n",
      "company_Rysher Entertainment                                               -0.1887      0.614     -0.307      0.759      -1.393       1.016\n",
      "company_SBS Productions                                                     1.0396      1.067      0.975      0.330      -1.052       3.132\n",
      "company_SLM Production Group                                                1.3589      0.535      2.539      0.011       0.309       2.409\n",
      "company_SModcast Pictures                                                        0          0        nan        nan           0           0\n",
      "company_STX Entertainment                                                        0          0        nan        nan           0           0\n",
      "company_STX Films                                                                0          0        nan        nan           0           0\n",
      "company_Saban Entertainment                                                -0.0461      1.062     -0.043      0.965      -2.129       2.036\n",
      "company_Sailor Bear                                                              0          0        nan        nan           0           0\n",
      "company_Salon Pictures                                                           0          0        nan        nan           0           0\n",
      "company_Samson Productions Pty. Ltd.                                             0          0        nan        nan           0           0\n",
      "company_Samuel Goldwyn Films                                                     0          0        nan        nan           0           0\n",
      "company_Samuels Media                                                       1.1413      1.061      1.075      0.282      -0.940       3.223\n",
      "company_Samuelson Productions                                                    0          0        nan        nan           0           0\n",
      "company_Sandcastle 5 Productions                                                 0          0        nan        nan           0           0\n",
      "company_Sandollar Productions                                                    0          0        nan        nan           0           0\n",
      "company_Saturn Films                                                        0.8342      1.070      0.779      0.436      -1.265       2.933\n",
      "company_Savoy Pictures                                                      0.1329      0.754      0.176      0.860      -1.346       1.612\n",
      "company_Sciarlò                                                                  0          0        nan        nan           0           0\n",
      "company_Scion Films                                                              0          0        nan        nan           0           0\n",
      "company_Scott Free Productions                                                   0          0        nan        nan           0           0\n",
      "company_Scott Rudin Productions                                             0.7113      0.752      0.946      0.344      -0.763       2.185\n",
      "company_Screen Australia                                                         0          0        nan        nan           0           0\n",
      "company_Screen Gems                                                         1.0781      0.177      6.081      0.000       0.730       1.426\n",
      "company_Seagal/Nasso Productions                                            0.9800      1.066      0.919      0.358      -1.111       3.071\n",
      "company_Seagoat Films                                                      -1.3833      1.062     -1.302      0.193      -3.467       0.700\n",
      "company_Sean S. Cunningham Films                                                 0          0        nan        nan           0           0\n",
      "company_Sedic International                                                -0.4002      1.063     -0.377      0.707      -2.484       1.684\n",
      "company_See-Saw Films                                                            0          0        nan        nan           0           0\n",
      "company_Semtex Films                                                             0          0        nan        nan           0           0\n",
      "company_SenArt Films                                                        0.1515      1.064      0.142      0.887      -1.935       2.238\n",
      "company_Senator Entertainment Co                                                 0          0        nan        nan           0           0\n",
      "company_Seraphim Films                                                     -0.1787      1.065     -0.168      0.867      -2.268       1.910\n",
      "company_Serendipity Point Films                                            -0.3656      0.802     -0.456      0.648      -1.938       1.207\n",
      "company_Seven Arts Pictures                                                      0          0        nan        nan           0           0\n",
      "company_Seventh Avenue Films                                                     0          0        nan        nan           0           0\n",
      "company_ShadowCatcher Entertainment                                              0          0        nan        nan           0           0\n",
      "company_Shangri-La Entertainment                                           -0.6886      1.068     -0.645      0.519      -2.783       1.406\n",
      "company_Shapiro-Glickenhaus Entertainment                                  -1.9868      1.073     -1.851      0.064      -4.091       0.118\n",
      "company_SharpSword Films                                                         0          0        nan        nan           0           0\n",
      "company_Sheinberg Productions                                              -1.0005      1.071     -0.934      0.350      -3.101       1.100\n",
      "company_ShivHans Pictures                                                        0          0        nan        nan           0           0\n",
      "company_Shocking Bottle                                                    -0.2515      1.067     -0.236      0.814      -2.343       1.840\n",
      "company_Shooting Gallery                                                         0          0        nan        nan           0           0\n",
      "company_Show East                                                          -0.5172      1.070     -0.483      0.629      -2.616       1.582\n",
      "company_Sidney Kimmel Entertainment                                         0.1160      0.620      0.187      0.852      -1.101       1.333\n",
      "company_Sikhya Entertainment                                                     0          0        nan        nan           0           0\n",
      "company_Silver Pictures                                                     0.6480      1.068      0.607      0.544      -1.446       2.742\n",
      "company_Silver Reel                                                              0          0        nan        nan           0           0\n",
      "company_Silver Screen Partners III                                         -0.4779      1.063     -0.449      0.653      -2.563       1.607\n",
      "company_Silver Screen Partners IV                                           0.5469      1.072      0.510      0.610      -1.554       2.648\n",
      "company_Silver Sphere Corporation                                                0          0        nan        nan           0           0\n",
      "company_Siriol Productions                                                       0          0        nan        nan           0           0\n",
      "company_Skydance Media                                                           0          0        nan        nan           0           0\n",
      "company_Skyewiay                                                           -0.4123      1.127     -0.366      0.714      -2.622       1.797\n",
      "company_Skyscraper Films                                                         0          0        nan        nan           0           0\n",
      "company_Slough Pond                                                              0          0        nan        nan           0           0\n",
      "company_Snoot Entertainment                                                      0          0        nan        nan           0           0\n",
      "company_SnowPiercer                                                              0          0        nan        nan           0           0\n",
      "company_Solana Films                                                        3.3676      1.064      3.164      0.002       1.281       5.455\n",
      "company_Sony Pictures Animation                                                  0          0        nan        nan           0           0\n",
      "company_Sony Pictures Classics                                             -0.8539      0.615     -1.388      0.165      -2.060       0.352\n",
      "company_Sony Pictures Entertainment (SPE)                                        0          0        nan        nan           0           0\n",
      "company_South Pacific Pictures                                              1.1308      1.065      1.062      0.288      -0.957       3.219\n",
      "company_Space Rocket Nation                                                      0          0        nan        nan           0           0\n",
      "company_Spacegate Productions                                                    0          0        nan        nan           0           0\n",
      "company_Sparkle Roll Media                                                       0          0        nan        nan           0           0\n",
      "company_Spectacle Entertainment Group                                       0.1029      1.061      0.097      0.923      -1.978       2.184\n",
      "company_SpectreVision                                                            0          0        nan        nan           0           0\n",
      "company_Spinal Tap Prod.                                                   -0.5195      1.062     -0.489      0.625      -2.603       1.564\n",
      "company_Spyglass Entertainment                                              0.7984      0.615      1.297      0.195      -0.408       2.005\n",
      "company_Stacey Testro International                                              0          0        nan        nan           0           0\n",
      "company_Stage 6 Films                                                            0          0        nan        nan           0           0\n",
      "company_Star Overseas                                                            0          0        nan        nan           0           0\n",
      "company_Steel Mill Pictures                                                      0          0        nan        nan           0           0\n",
      "company_Steve White Productions                                             0.3467      1.063      0.326      0.744      -1.738       2.431\n",
      "company_Stone Group Pictures                                                1.8603      1.063      1.750      0.080      -0.224       3.944\n",
      "company_Stoney Lake Entertainment                                                0          0        nan        nan           0           0\n",
      "company_Stratus Film Co.                                                    0.2312      1.063      0.218      0.828      -1.853       2.316\n",
      "company_Strike Entertainment                                                1.3359      1.062      1.258      0.209      -0.747       3.419\n",
      "company_Strong Heart/Demme Production                                       2.2383      1.064      2.104      0.035       0.152       4.324\n",
      "company_Studio 37                                                           1.0734      1.071      1.003      0.316      -1.026       3.173\n",
      "company_Studio 8                                                                 0          0        nan        nan           0           0\n",
      "company_Studio Ghibli                                                       0.8876      1.073      0.827      0.408      -1.216       2.991\n",
      "company_Studio Trite                                                             0          0        nan        nan           0           0\n",
      "company_StudioCanal                                                         1.3772      0.754      1.826      0.068      -0.101       2.856\n",
      "company_Suburban Pictures                                                  -0.2429      1.062     -0.229      0.819      -2.326       1.840\n",
      "company_Summit Entertainment                                                0.7044      0.215      3.283      0.001       0.284       1.125\n",
      "company_Summit Premiere                                                          0          0        nan        nan           0           0\n",
      "company_Sunbow Productions                                                       0          0        nan        nan           0           0\n",
      "company_Sunn Classic Pictures                                               0.9608      1.063      0.904      0.366      -1.124       3.046\n",
      "company_Sweet Tea Pictures LLC                                              0.4685      1.063      0.441      0.659      -1.616       2.553\n",
      "company_Sweetland Films                                                    -0.9367      0.615     -1.523      0.128      -2.142       0.269\n",
      "company_Sycamore Pictures                                                        0          0        nan        nan           0           0\n",
      "company_Syncopy                                                                  0          0        nan        nan           0           0\n",
      "company_TAFT Entertainment Pictures                                        -0.3505      0.752     -0.466      0.641      -1.825       1.124\n",
      "company_THINKFilm                                                           1.1247      1.170      0.962      0.336      -1.169       3.419\n",
      "company_TMS Entertainment                                                  -1.2496      1.074     -1.164      0.245      -3.356       0.856\n",
      "company_TSG Entertainment                                                        0          0        nan        nan           0           0\n",
      "company_Tag Entertainment                                                        0          0        nan        nan           0           0\n",
      "company_TaliaFilm II Productions                                                 0          0        nan        nan           0           0\n",
      "company_Tapestry Films                                                      0.3744      1.065      0.351      0.725      -1.715       2.464\n",
      "company_Tartan Productions                                                       0          0        nan        nan           0           0\n",
      "company_Temple Hill Entertainment                                          -1.2614      1.062     -1.188      0.235      -3.343       0.820\n",
      "company_Ternion Pictures                                                    0.1908      1.064      0.179      0.858      -1.895       2.276\n",
      "company_The American Film Company                                          -0.6384      1.062     -0.601      0.548      -2.722       1.445\n",
      "company_The Cannon Group                                                    0.6856      0.539      1.273      0.203      -0.371       1.742\n",
      "company_The Family Stone                                                    1.0165      1.060      0.959      0.338      -1.063       3.096\n",
      "company_The Geffen Company                                                  1.0741      0.615      1.747      0.081      -0.132       2.280\n",
      "company_The Guber-Peters Company                                            0.4863      1.064      0.457      0.648      -1.600       2.573\n",
      "company_The Halcyon Company                                                 0.1130      1.068      0.106      0.916      -1.981       2.207\n",
      "company_The Ink Factory                                                          0          0        nan        nan           0           0\n",
      "company_The Kushner-Locke Company                                                0          0        nan        nan           0           0\n",
      "company_The Lab of Madness                                                       0          0        nan        nan           0           0\n",
      "company_The Ladd Company                                                    0.3793      0.507      0.748      0.455      -0.615       1.374\n",
      "company_The Last Picture Company                                           -2.7106      1.067     -2.539      0.011      -4.804      -0.617\n",
      "company_The Malpaso Company                                                      0          0        nan        nan           0           0\n",
      "company_The Mark Gordon Company                                             1.8496      1.066      1.735      0.083      -0.241       3.940\n",
      "company_The Mount Company                                                   0.7315      1.063      0.688      0.492      -1.354       2.817\n",
      "company_The Movie Group                                                          0          0        nan        nan           0           0\n",
      "company_The Rank Organisation                                              -0.9011      1.063     -0.848      0.397      -2.985       1.183\n",
      "company_The Safran Company                                                       0          0        nan        nan           0           0\n",
      "company_The Samuel Goldwyn Company                                               0          0        nan        nan           0           0\n",
      "company_The Saul Zaentz Company                                            -1.8757      0.766     -2.448      0.014      -3.378      -0.373\n",
      "company_The Tyler Perry Company                                                  0          0        nan        nan           0           0\n",
      "company_The Weinstein Company                                              -0.1384      0.272     -0.510      0.610      -0.671       0.394\n",
      "company_The Zanuck Company                                                  0.5020      0.775      0.648      0.517      -1.017       2.021\n",
      "company_This Is That Productions                                           -0.4240      0.615     -0.690      0.491      -1.630       0.782\n",
      "company_Thorn EMI Screen Entertainment                                           0          0        nan        nan           0           0\n",
      "company_Three Rivers Production                                                  0          0        nan        nan           0           0\n",
      "company_Tiberius Film Productions                                                0          0        nan        nan           0           0\n",
      "company_Tig Productions                                                     0.8893      0.765      1.162      0.245      -0.612       2.390\n",
      "company_Tim Burton Productions                                              0.6290      1.062      0.592      0.554      -1.454       2.712\n",
      "company_Toei Company                                                             0          0        nan        nan           0           0\n",
      "company_Toho Company                                                        1.3025      1.118      1.165      0.244      -0.890       3.495\n",
      "company_Toho Pictures                                                            0          0        nan        nan           0           0\n",
      "company_Tokuma Japan Communications                                              0          0        nan        nan           0           0\n",
      "company_Tokuma Shoten                                                            0          0        nan        nan           0           0\n",
      "company_Tomboy Films                                                             0          0        nan        nan           0           0\n",
      "company_Tomson Films                                                             0          0        nan        nan           0           0\n",
      "company_Tonic Films                                                         1.1419      1.064      1.074      0.283      -0.944       3.228\n",
      "company_Tonik Productions                                                        0          0        nan        nan           0           0\n",
      "company_Too Askew Prod. Inc.                                                0.4864      1.064      0.457      0.648      -1.600       2.573\n",
      "company_Tornasol Films                                                      0.3269      1.071      0.305      0.760      -1.773       2.427\n",
      "company_Total Recall                                                        0.7304      0.757      0.965      0.335      -0.754       2.215\n",
      "company_Touchstone Pictures                                                 0.7034      0.129      5.456      0.000       0.451       0.956\n",
      "company_Touchwood Pacific Partners 1                                       -0.1169      0.755     -0.155      0.877      -1.598       1.364\n",
      "company_Toy Fight Productions                                                    0          0        nan        nan           0           0\n",
      "company_Trancas International Films                                         1.5869      1.063      1.493      0.136      -0.498       3.672\n",
      "company_Translux                                                                 0          0        nan        nan           0           0\n",
      "company_Treehouse Pictures                                                       0          0        nan        nan           0           0\n",
      "company_TriStar Pictures                                                    0.5675      0.151      3.746      0.000       0.270       0.865\n",
      "company_TriStar Television                                                       0          0        nan        nan           0           0\n",
      "company_Tribeca Productions                                                -0.0860      0.757     -0.114      0.910      -1.570       1.398\n",
      "company_Trimark Pictures                                                    1.0411      0.752      1.384      0.166      -0.434       2.516\n",
      "company_Triumph Films                                                      -0.8871      1.065     -0.833      0.405      -2.976       1.201\n",
      "company_True West Films                                                    -1.9568      1.063     -1.840      0.066      -4.042       0.128\n",
      "company_Truth Entertainment (II)                                                 0          0        nan        nan           0           0\n",
      "company_Trésor Films                                                             0          0        nan        nan           0           0\n",
      "company_Turner Pictures (I)                                                -1.0027      0.624     -1.607      0.108      -2.226       0.221\n",
      "company_Twentieth Century Fox                                               0.8779      0.101      8.652      0.000       0.679       1.077\n",
      "company_Twentieth Century Fox Animation                                     1.8572      0.756      2.457      0.014       0.375       3.339\n",
      "company_Twisted Pictures                                                    1.9072      0.486      3.924      0.000       0.954       2.860\n",
      "company_Two Prong Lesson                                                         0          0        nan        nan           0           0\n",
      "company_Two Ton Films                                                            0          0        nan        nan           0           0\n",
      "company_UK Film Council                                                          0          0        nan        nan           0           0\n",
      "company_USA Films                                                                0          0        nan        nan           0           0\n",
      "company_Ultra Muchos Productions                                           -3.0130      1.064     -2.832      0.005      -5.099      -0.927\n",
      "company_Unison Films                                                             0          0        nan        nan           0           0\n",
      "company_United Artists                                                      0.8813      0.216      4.071      0.000       0.457       1.306\n",
      "company_United Artists Film Corporation                                    -1.7279      1.066     -1.621      0.105      -3.818       0.363\n",
      "company_United Artists Pictures                                            -1.1866      1.070     -1.109      0.268      -3.285       0.912\n",
      "company_United Film Distribution Company (UFDC)                                  0          0        nan        nan           0           0\n",
      "company_Unity Productions                                                        0          0        nan        nan           0           0\n",
      "company_Universal City Studios                                             -0.5403      1.064     -0.508      0.612      -2.627       1.546\n",
      "company_Universal Pictures                                                  0.7287      0.082      8.858      0.000       0.567       0.890\n",
      "company_Universal Pictures International (UPI)                             -0.1747      1.071     -0.163      0.870      -2.274       1.925\n",
      "company_Unplanned Movie                                                          0          0        nan        nan           0           0\n",
      "company_Upside Down Films                                                        0          0        nan        nan           0           0\n",
      "company_VAE Productions                                                          0          0        nan        nan           0           0\n",
      "company_Vanguard Films and Animation                                        0.9426      1.075      0.877      0.381      -1.165       3.051\n",
      "company_Vegahom Europe                                                      2.1927      0.763      2.873      0.004       0.696       3.690\n",
      "company_Vendian Entertainment                                                    0          0        nan        nan           0           0\n",
      "company_Verdi Productions                                                        0          0        nan        nan           0           0\n",
      "company_Verisimilitude                                                           0          0        nan        nan           0           0\n",
      "company_Vertigo Films                                                            0          0        nan        nan           0           0\n",
      "company_Vestron Pictures                                                         0          0        nan        nan           0           0\n",
      "company_Victoires International                                                  0          0        nan        nan           0           0\n",
      "company_Victor & Grais                                                           0          0        nan        nan           0           0\n",
      "company_Victor Company of Japan (JVC)                                      -1.3539      1.066     -1.270      0.204      -3.445       0.737\n",
      "company_View Askew Productions                                              0.2468      1.065      0.232      0.817      -1.842       2.336\n",
      "company_Village Roadshow Pictures                                                0          0        nan        nan           0           0\n",
      "company_Vision PDG                                                         -0.5219      1.065     -0.490      0.624      -2.611       1.567\n",
      "company_Visiona Romantica                                                        0          0        nan        nan           0           0\n",
      "company_Vista Organization                                                       0          0        nan        nan           0           0\n",
      "company_Vivendi Entertainment                                                    0          0        nan        nan           0           0\n",
      "company_Voltage Pictures                                                   -0.4678      0.802     -0.583      0.560      -2.041       1.105\n",
      "company_Votiv Films                                                              0          0        nan        nan           0           0\n",
      "company_WIP                                                                -0.4397      1.063     -0.414      0.679      -2.525       1.645\n",
      "company_Walden Media                                                        1.2800      0.755      1.696      0.090      -0.200       2.760\n",
      "company_Walt Disney Animation Studios                                       0.1363      0.322      0.424      0.672      -0.495       0.767\n",
      "company_Walt Disney Pictures                                                0.8131      0.150      5.431      0.000       0.520       1.107\n",
      "company_Walt Disney Productions                                             0.2155      0.620      0.348      0.728      -1.000       1.431\n",
      "company_Warner Animation Group                                                   0          0        nan        nan           0           0\n",
      "company_Warner Bros.                                                        0.6233      0.084      7.407      0.000       0.458       0.788\n",
      "company_Warner Bros. Animation                                             -2.0227      1.065     -1.900      0.058      -4.110       0.065\n",
      "company_Warner Bros. Digital Distribution                                        0          0        nan        nan           0           0\n",
      "company_Warner Bros. Family Entertainment                                   2.1088      1.063      1.983      0.047       0.024       4.194\n",
      "company_Warner Bros. Pictures                                               3.2514      1.123      2.896      0.004       1.049       5.453\n",
      "company_Warner Independent Pictures (WIP)                                  -0.8248      0.534     -1.546      0.122      -1.871       0.221\n",
      "company_Waverly Films                                                            0          0        nan        nan           0           0\n",
      "company_Wayfare Entertainment                                                    0          0        nan        nan           0           0\n",
      "company_Weintraub Entertainment Group                                      -0.1466      0.758     -0.193      0.847      -1.633       1.340\n",
      "company_Westerly Films                                                           0          0        nan        nan           0           0\n",
      "company_White Eagle                                                         0.5404      1.060      0.510      0.610      -1.538       2.619\n",
      "company_White Lair                                                               0          0        nan        nan           0           0\n",
      "company_WhiteFlame Productions                                                   0          0        nan        nan           0           0\n",
      "company_Whitewater Films                                                   -2.2144      1.066     -2.077      0.038      -4.305      -0.124\n",
      "company_Why Not Productions                                                      0          0        nan        nan           0           0\n",
      "company_Wiedemann & Berg Filmproduktion                                    -0.7304      1.065     -0.686      0.493      -2.820       1.359\n",
      "company_Wild Bunch                                                          0.5745      1.065      0.539      0.590      -1.515       2.664\n",
      "company_Wildgaze Films                                                           0          0        nan        nan           0           0\n",
      "company_Wildwood Enterprises                                               -1.5660      1.075     -1.457      0.145      -3.674       0.542\n",
      "company_WingNut Films                                                      -2.2797      1.061     -2.148      0.032      -4.361      -0.198\n",
      "company_Winkler Films                                                      -0.2589      1.063     -0.244      0.808      -2.343       1.825\n",
      "company_Winwood Productions                                                      0          0        nan        nan           0           0\n",
      "company_Wiseau-Films                                                             0          0        nan        nan           0           0\n",
      "company_Working Title Films                                                      0          0        nan        nan           0           0\n",
      "company_World Film Services                                                      0          0        nan        nan           0           0\n",
      "company_World Wrestling Entertainment (WWE)                                -0.0230      1.066     -0.022      0.983      -2.114       2.068\n",
      "company_World of Wonder Productions                                        -1.3960      1.068     -1.307      0.191      -3.491       0.699\n",
      "company_Worldview Entertainment                                                  0          0        nan        nan           0           0\n",
      "company_X-Filme Creative Pool                                                    0          0        nan        nan           0           0\n",
      "company_Yari Film Group (YFG)                                                    0          0        nan        nan           0           0\n",
      "company_Yari Film Group Releasing                                          -2.2260      1.063     -2.095      0.036      -4.310      -0.142\n",
      "company_Yash Raj Films                                                           0          0        nan        nan           0           0\n",
      "company_Yellow Bird                                                         1.5449      0.762      2.028      0.043       0.051       3.038\n",
      "company_Young Hannibal Productions                                          1.0801      1.065      1.014      0.311      -1.008       3.168\n",
      "company_Young Sung Production Co.                                                0          0        nan        nan           0           0\n",
      "company_Zacharias-Buhai Productions                                              0          0        nan        nan           0           0\n",
      "company_Zanuck/Brown Productions                                                 0          0        nan        nan           0           0\n",
      "company_Zazen Produções                                                          0          0        nan        nan           0           0\n",
      "company_Zenith Entertainment                                               -2.8858      1.063     -2.715      0.007      -4.970      -0.802\n",
      "company_Zentropa Entertainments                                             0.1947      0.596      0.327      0.744      -0.974       1.363\n",
      "company_Zeta Entertainment                                                       0          0        nan        nan           0           0\n",
      "company_Zoetrope Studios                                                   -0.0837      0.616     -0.136      0.892      -1.291       1.124\n",
      "company_Zucker Brothers Productions                                        -1.1635      1.061     -1.097      0.273      -3.244       0.917\n",
      "company_double A Films                                                           0          0        nan        nan           0           0\n",
      "company_erbp                                                                     0          0        nan        nan           0           0\n",
      "company_i am OTHER                                                               0          0        nan        nan           0           0\n",
      "company_i5 Films                                                           -0.1462      1.061     -0.138      0.890      -2.226       1.934\n",
      "company_micro_scope                                                              0          0        nan        nan           0           0\n",
      "company_thefyzz                                                                  0          0        nan        nan           0           0\n",
      "rating_Approved                                                             1.7991      1.000      1.800      0.072      -0.161       3.759\n",
      "rating_G                                                                    1.0753      0.230      4.674      0.000       0.624       1.526\n",
      "rating_NC-17                                                                2.2162      0.521      4.256      0.000       1.195       3.237\n",
      "rating_Not Rated                                                           -0.7964      0.472     -1.688      0.092      -1.722       0.129\n",
      "rating_PG                                                                   1.0466      0.184      5.692      0.000       0.686       1.407\n",
      "rating_PG-13                                                                1.0148      0.180      5.650      0.000       0.663       1.367\n",
      "rating_R                                                                    0.8094      0.178      4.543      0.000       0.460       1.159\n",
      "rating_TV-MA                                                                     0          0        nan        nan           0           0\n",
      "rating_Unrated                                                              0.0978      0.516      0.190      0.850      -0.914       1.109\n",
      "rating_X                                                                    0.3974      0.509      0.781      0.435      -0.600       1.395\n",
      "Month_1.0                                                                   0.4477      0.091      4.936      0.000       0.270       0.626\n",
      "Month_2.0                                                                   0.5229      0.080      6.540      0.000       0.366       0.680\n",
      "Month_3.0                                                                   0.5440      0.076      7.178      0.000       0.395       0.693\n",
      "Month_4.0                                                                   0.4948      0.078      6.310      0.000       0.341       0.649\n",
      "Month_5.0                                                                   0.8044      0.082      9.823      0.000       0.644       0.965\n",
      "Month_6.0                                                                   1.0746      0.075     14.399      0.000       0.928       1.221\n",
      "Month_7.0                                                                   0.8646      0.074     11.757      0.000       0.720       1.009\n",
      "Month_8.0                                                                   0.5963      0.075      7.958      0.000       0.449       0.743\n",
      "Month_9.0                                                                   0.3369      0.068      4.942      0.000       0.203       0.471\n",
      "Month_10.0                                                                  0.4061      0.077      5.256      0.000       0.255       0.558\n",
      "Month_11.0                                                                  0.7071      0.077      9.218      0.000       0.557       0.858\n",
      "Month_12.0                                                                  0.8606      0.069     12.447      0.000       0.725       0.996\n",
      "pos_Interval_0-2                                                            1.6127      0.079     20.472      0.000       1.458       1.767\n",
      "pos_Interval_2-4                                                            1.6175      0.062     25.924      0.000       1.495       1.740\n",
      "pos_Interval_4-6                                                            1.4845      0.068     21.888      0.000       1.352       1.618\n",
      "pos_Interval_6-8                                                            1.5220      0.067     22.687      0.000       1.390       1.654\n",
      "pos_Interval_8-10                                                           1.4235      0.118     12.109      0.000       1.193       1.654\n",
      "neg_Interval_0-2                                                            1.7953      0.089     20.115      0.000       1.620       1.970\n",
      "neg_Interval_2-4                                                            1.7544      0.083     21.199      0.000       1.592       1.917\n",
      "neg_Interval_4-6                                                            1.7135      0.091     18.755      0.000       1.534       1.893\n",
      "neg_Interval_6-8                                                            1.5984      0.098     16.232      0.000       1.405       1.791\n",
      "neg_Interval_8-10                                                           0.7986      0.283      2.822      0.005       0.244       1.353\n",
      "runtime_Interval_0-60                                                       0.1939      0.892      0.217      0.828      -1.556       1.944\n",
      "runtime_Interval_120-180                                                    2.0494      0.251      8.180      0.000       1.558       2.541\n",
      "runtime_Interval_180-240                                                    2.2805      0.328      6.960      0.000       1.638       2.923\n",
      "runtime_Interval_240-1000                                                   1.3740      0.682      2.014      0.044       0.036       2.712\n",
      "runtime_Interval_60-120                                                     1.7623      0.249      7.076      0.000       1.274       2.251\n",
      "==============================================================================\n",
      "Omnibus:                      560.059   Durbin-Watson:                   1.881\n",
      "Prob(Omnibus):                  0.000   Jarque-Bera (JB):             1850.019\n",
      "Skew:                          -0.872   Prob(JB):                         0.00\n",
      "Kurtosis:                       6.291   Cond. No.                     5.79e+17\n",
      "==============================================================================\n",
      "\n",
      "Notes:\n",
      "[1] Standard Errors assume that the covariance matrix of the errors is correctly specified.\n",
      "[2] The smallest eigenvalue is 5.17e-32. This might indicate that there are\n",
      "strong multicollinearity problems or that the design matrix is singular.\n"
     ]
    }
   ],
   "source": [
    "model = sm.OLS(Y,X).fit()\n",
    "\n",
    "from sklearn.metrics import mean_absolute_error, mean_squared_error\n",
    "\n",
    "# Get the predicted values\n",
    "y_pred = model.predict(X)\n",
    "\n",
    "# Calculate MAE\n",
    "mae = mean_absolute_error(Y, y_pred)\n",
    "\n",
    "# Calculate RMSE\n",
    "rmse = np.sqrt(mean_squared_error(Y, y_pred))\n",
    "\n",
    "# Print the results\n",
    "print(\"Mean Absolute Error (MAE):\", mae)\n",
    "print(\"Root Mean Squared Error (RMSE):\", rmse)\n",
    "\n",
    "print(model.summary())"
   ]
  },
  {
   "cell_type": "code",
   "execution_count": 13,
   "metadata": {},
   "outputs": [
    {
     "data": {
      "text/plain": [
       "(array([  1.,   0.,   0.,   0.,   0.,   1.,   0.,   2.,   3.,   5.,   5.,\n",
       "          2.,   3.,   5.,   5.,   7.,   7.,   5.,  12.,  14.,  29.,  20.,\n",
       "         41.,  55.,  68.,  83.,  90., 124., 170., 193., 216., 781., 217.,\n",
       "        207., 221., 174., 132.,  96.,  67.,  53.,  29.,  23.,  17.,   6.,\n",
       "          5.,   2.,   1.,   1.,   0.,   3.]),\n",
       " array([-5.76164619, -5.57742863, -5.39321108, -5.20899352, -5.02477597,\n",
       "        -4.84055842, -4.65634086, -4.47212331, -4.28790575, -4.1036882 ,\n",
       "        -3.91947064, -3.73525309, -3.55103553, -3.36681798, -3.18260042,\n",
       "        -2.99838287, -2.81416531, -2.62994776, -2.44573021, -2.26151265,\n",
       "        -2.0772951 , -1.89307754, -1.70885999, -1.52464243, -1.34042488,\n",
       "        -1.15620732, -0.97198977, -0.78777221, -0.60355466, -0.41933711,\n",
       "        -0.23511955, -0.050902  ,  0.13331556,  0.31753311,  0.50175067,\n",
       "         0.68596822,  0.87018578,  1.05440333,  1.23862089,  1.42283844,\n",
       "         1.607056  ,  1.79127355,  1.9754911 ,  2.15970866,  2.34392621,\n",
       "         2.52814377,  2.71236132,  2.89657888,  3.08079643,  3.26501399,\n",
       "         3.44923154]),\n",
       " <BarContainer object of 50 artists>)"
      ]
     },
     "execution_count": 13,
     "metadata": {},
     "output_type": "execute_result"
    },
    {
     "data": {
      "image/png": "[encoded data removed]",
      "text/plain": [
       "<Figure size 640x480 with 1 Axes>"
      ]
     },
     "metadata": {},
     "output_type": "display_data"
    }
   ],
   "source": [
    "plt.hist(Y- y_pred,bins=50)"
   ]
  },
  {
   "cell_type": "code",
   "execution_count": 14,
   "metadata": {},
   "outputs": [
    {
     "name": "stdout",
     "output_type": "stream",
     "text": [
      "Indices where abs_diff > 1.5: (116,)\n",
      "Indices where abs_diff < -1.5: (176,)\n"
     ]
    }
   ],
   "source": [
    "threshold = 1.5\n",
    "# Calculate the absolute difference\n",
    "abs_diff = Y - y_pred\n",
    "\n",
    "# Get the indices where abs_diff is larger than 2\n",
    "indices_below = np.where(abs_diff > threshold)\n",
    "indices_above = np.where(abs_diff < -threshold)\n",
    "# Print the indices\n",
    "print(f\"Indices where abs_diff > {threshold}:\", indices_below[0].shape)\n",
    "print(f\"Indices where abs_diff < -{threshold}:\", indices_above[0].shape)"
   ]
  },
  {
   "cell_type": "code",
   "execution_count": 15,
   "metadata": {},
   "outputs": [
    {
     "name": "stdout",
     "output_type": "stream",
     "text": [
      "above  runtime_Interval   ['60-120' '120-180']  \n",
      " ['60-120' '120-180' '180-240' '240-1000' '0-60']\n",
      "below  specific_actors_ratio   [0.36363636 0.21052632 0.375      0.2        0.33333333 0.28571429\n",
      " 0.14285714 0.06666667 0.         0.46153846 0.20512821 0.13333333\n",
      " 0.125      0.0952381  0.42857143 0.05263158 0.08695652 0.21428571\n",
      " 0.5        0.22222222 0.1        0.25       0.18181818 0.07142857\n",
      " 0.4        0.43589744 0.23076923 0.03030303 0.22580645 0.16666667\n",
      " 0.17647059 0.41666667 0.63636364 0.3125     0.15789474 0.11111111\n",
      " 0.6        0.05882353 0.26315789 0.15384615 0.66666667 0.23529412\n",
      " 0.08333333 0.4375     0.24       0.42105263 0.72727273 0.625\n",
      " 0.08823529 0.27272727 0.41176471 0.15       0.58333333 0.83333333\n",
      " 0.3       ]  \n",
      " [0.11764706 0.04347826 0.25       0.17647059 0.59090909 0.1875\n",
      " 0.07692308 0.21052632 0.18181818 0.16666667 0.11111111 0.22222222\n",
      " 0.33333333 0.28571429 0.2        0.66666667 0.36363636 0.09090909\n",
      " 0.38461538 0.         0.14285714 0.375      0.44444444 0.42105263\n",
      " 0.23529412 0.61538462 0.15789474 0.23809524 0.15       0.27272727\n",
      " 0.3125     0.20689655 0.5        0.4375     0.05555556 0.42857143\n",
      " 0.30769231 0.19230769 0.11428571 0.10526316 0.26666667 0.08333333\n",
      " 0.18421053 0.21428571 0.06666667 0.125      0.3        0.4\n",
      " 0.36842105 0.72727273 0.19047619 0.26315789 0.35714286 0.0625\n",
      " 0.6875     0.1025641  0.15384615 0.27777778 0.34375    0.04938272\n",
      " 0.29411765 0.41176471 0.46666667 0.31034483 0.13333333 0.54545455\n",
      " 0.1        0.55555556 0.25925926 0.23076923 0.41666667 0.6\n",
      " 0.07142857 0.31578947 0.40909091 0.63157895 0.22727273 0.35294118\n",
      " 0.47058824 0.45454545 0.13043478 0.15625    0.05882353 0.45\n",
      " 0.57142857 0.16       0.02941176 0.04761905 0.0952381  0.75\n",
      " 0.05263158 0.46153846 0.20512821 0.08       0.32       0.18918919\n",
      " 0.13846154 0.03448276 0.2173913  0.35       0.52941176 0.31818182\n",
      " 0.38888889 0.04166667 0.08695652 0.36       0.58823529 0.63636364\n",
      " 0.34615385 0.13636364 0.04545455 0.26086957 0.32258065 0.08450704\n",
      " 0.625      0.13157895 0.28       0.3030303  0.17777778 0.05405405\n",
      " 0.10714286 0.52631579 0.41025641 0.11538462 0.17391304 0.53333333\n",
      " 0.85714286 0.58333333 0.15151515 0.64705882 0.7        0.41935484\n",
      " 0.47368421 0.24       0.05       0.04       0.17241379 0.03571429\n",
      " 0.84615385 0.43589744 0.78571429 0.5625     0.57894737 0.38095238\n",
      " 0.16129032 0.24137931 0.48148148 0.67857143 0.52380952 0.25806452\n",
      " 0.03030303 1.         0.39285714 0.22580645 0.12       0.35483871\n",
      " 0.06060606 0.02222222 0.12121212 0.47826087 0.19354839 0.71428571\n",
      " 0.29166667 0.53846154 0.69230769 0.64285714 0.21875    0.8\n",
      " 0.83333333 0.56521739 0.12903226 0.34782609 0.27027027 0.21276596\n",
      " 0.30434783 0.07407407 0.77777778 0.08823529 0.06896552 0.03846154\n",
      " 0.18518519 0.03703704 0.14814815 0.40740741 0.23255814 0.52173913\n",
      " 0.09677419 0.28125    0.10344828 0.44       0.13793103 0.875\n",
      " 0.36666667 0.68       0.05714286 0.38709677]\n",
      "above  specific_actors_ratio   [0.16666667 0.38461538 0.5        0.4        0.30769231 0.21428571\n",
      " 0.72727273 0.33333333 0.45454545 0.06666667 0.         0.35714286\n",
      " 0.25       0.13333333 0.18181818 0.4375     0.2        0.14285714\n",
      " 0.11764706 0.29411765 0.22727273 0.10526316 0.0952381  0.23076923\n",
      " 0.35294118 0.1        0.35       0.05263158 0.27272727 0.36363636\n",
      " 0.3        0.42857143 0.1875     0.41666667 0.19230769 0.6\n",
      " 0.375      0.11111111 0.17647059 0.19354839 0.71428571 0.22222222\n",
      " 0.38888889 0.09090909 0.55555556 0.58333333 0.07692308 0.13043478\n",
      " 0.31578947 0.64285714 0.08333333 0.15384615 0.28571429 0.26315789\n",
      " 0.5625     0.41176471 0.125      0.21052632 0.04347826 0.3125\n",
      " 0.23529412 0.05555556 0.53333333 0.66666667 0.46153846]  \n",
      " [0.11764706 0.04347826 0.25       0.17647059 0.59090909 0.1875\n",
      " 0.07692308 0.21052632 0.18181818 0.16666667 0.11111111 0.22222222\n",
      " 0.33333333 0.28571429 0.2        0.66666667 0.36363636 0.09090909\n",
      " 0.38461538 0.         0.14285714 0.375      0.44444444 0.42105263\n",
      " 0.23529412 0.61538462 0.15789474 0.23809524 0.15       0.27272727\n",
      " 0.3125     0.20689655 0.5        0.4375     0.05555556 0.42857143\n",
      " 0.30769231 0.19230769 0.11428571 0.10526316 0.26666667 0.08333333\n",
      " 0.18421053 0.21428571 0.06666667 0.125      0.3        0.4\n",
      " 0.36842105 0.72727273 0.19047619 0.26315789 0.35714286 0.0625\n",
      " 0.6875     0.1025641  0.15384615 0.27777778 0.34375    0.04938272\n",
      " 0.29411765 0.41176471 0.46666667 0.31034483 0.13333333 0.54545455\n",
      " 0.1        0.55555556 0.25925926 0.23076923 0.41666667 0.6\n",
      " 0.07142857 0.31578947 0.40909091 0.63157895 0.22727273 0.35294118\n",
      " 0.47058824 0.45454545 0.13043478 0.15625    0.05882353 0.45\n",
      " 0.57142857 0.16       0.02941176 0.04761905 0.0952381  0.75\n",
      " 0.05263158 0.46153846 0.20512821 0.08       0.32       0.18918919\n",
      " 0.13846154 0.03448276 0.2173913  0.35       0.52941176 0.31818182\n",
      " 0.38888889 0.04166667 0.08695652 0.36       0.58823529 0.63636364\n",
      " 0.34615385 0.13636364 0.04545455 0.26086957 0.32258065 0.08450704\n",
      " 0.625      0.13157895 0.28       0.3030303  0.17777778 0.05405405\n",
      " 0.10714286 0.52631579 0.41025641 0.11538462 0.17391304 0.53333333\n",
      " 0.85714286 0.58333333 0.15151515 0.64705882 0.7        0.41935484\n",
      " 0.47368421 0.24       0.05       0.04       0.17241379 0.03571429\n",
      " 0.84615385 0.43589744 0.78571429 0.5625     0.57894737 0.38095238\n",
      " 0.16129032 0.24137931 0.48148148 0.67857143 0.52380952 0.25806452\n",
      " 0.03030303 1.         0.39285714 0.22580645 0.12       0.35483871\n",
      " 0.06060606 0.02222222 0.12121212 0.47826087 0.19354839 0.71428571\n",
      " 0.29166667 0.53846154 0.69230769 0.64285714 0.21875    0.8\n",
      " 0.83333333 0.56521739 0.12903226 0.34782609 0.27027027 0.21276596\n",
      " 0.30434783 0.07407407 0.77777778 0.08823529 0.06896552 0.03846154\n",
      " 0.18518519 0.03703704 0.14814815 0.40740741 0.23255814 0.52173913\n",
      " 0.09677419 0.28125    0.10344828 0.44       0.13793103 0.875\n",
      " 0.36666667 0.68       0.05714286 0.38709677]\n",
      "below  specific_countries_ratio   [1.         0.66666667 0.5        0.33333333]  \n",
      " [1.         0.5        0.75       0.66666667 0.         0.8\n",
      " 0.6        0.45454545 0.25       0.28571429 0.33333333 0.85714286\n",
      " 0.83333333 0.46153846]\n",
      "above  specific_countries_ratio   [1.         0.         0.28571429 0.5       ]  \n",
      " [1.         0.5        0.75       0.66666667 0.         0.8\n",
      " 0.6        0.45454545 0.25       0.28571429 0.33333333 0.85714286\n",
      " 0.83333333 0.46153846]\n",
      "below  specific_languages_ratio   [1.         0.5        0.8        0.         0.33333333]  \n",
      " [1.         0.8        0.         0.5        0.33333333 0.75\n",
      " 0.66666667 0.6        0.25       0.2        0.83333333 0.55555556\n",
      " 0.16666667 0.4        0.42857143 0.85714286]\n",
      "above  specific_languages_ratio   [1.         0.         0.25       0.66666667 0.8        0.6\n",
      " 0.5       ]  \n",
      " [1.         0.8        0.         0.5        0.33333333 0.75\n",
      " 0.66666667 0.6        0.25       0.2        0.83333333 0.55555556\n",
      " 0.16666667 0.4        0.42857143 0.85714286]\n",
      "below  budget   [1.70e+06 2.50e+07 1.90e+07 4.00e+06 7.50e+06 4.00e+07 1.50e+07 9.00e+06\n",
      " 1.00e+07 3.00e+07 1.10e+07 2.00e+07 3.70e+07 1.65e+07 7.00e+06 2.30e+07\n",
      " 4.50e+06 1.40e+07 6.00e+07 1.20e+07 4.80e+07 3.80e+07 6.20e+07 4.50e+07\n",
      " 2.40e+07 2.70e+07 4.90e+07 3.50e+07 1.44e+07 1.70e+07 4.10e+07 5.00e+06\n",
      " 1.05e+07 1.75e+08 4.40e+06 4.60e+07 2.80e+07 8.00e+07 1.30e+07 6.50e+07\n",
      " 6.50e+06 4.13e+07 1.10e+08 6.00e+06 8.00e+06 3.00e+06 2.05e+07 2.20e+07]  \n",
      " [2.8000000e+07 1.6000000e+07 4.9000000e+07 4.0000000e+07 3.5000000e+07\n",
      " 4.2000000e+07 4.5000000e+07 2.7000000e+07 3.0000000e+07 1.7000000e+07\n",
      " 6.8000000e+07 2.5000000e+05 5.0000000e+07 6.0000000e+07 1.7000000e+06\n",
      " 1.1500000e+08 1.1000000e+07 1.0000000e+07 5.0000000e+06 2.9000000e+07\n",
      " 2.0000000e+07 8.5000000e+07 5.3000000e+07 2.2000000e+07 7.0000000e+06\n",
      " 1.4000000e+08 1.8000000e+07 1.5000000e+07 9.8000000e+07 3.1000000e+07\n",
      " 2.5000000e+07 3.9000000e+07 9.2000000e+07 1.0700000e+08 1.4000000e+07\n",
      " 3.8000000e+07 7.5000000e+07 8.7000000e+07 2.1000000e+07 2.3000000e+07\n",
      " 6.0000000e+06 4.8000000e+07 1.3000000e+07 6.5000000e+07 4.5000000e+06\n",
      " 1.7700000e+07 3.3000000e+07 9.3000000e+07 5.5000000e+06 1.2000000e+08\n",
      " 9.0000000e+07 1.3700000e+08 2.1150000e+07 5.7000000e+07 7.0000000e+07\n",
      " 3.0000000e+06 8.0000000e+07 1.5000000e+06 1.0000000e+08 9.4000000e+07\n",
      " 4.0000000e+06 7.2000000e+07 5.8000000e+07 7.0000000e+05 1.9000000e+07\n",
      " 1.1500000e+07 2.7800000e+07 1.3800000e+07 3.7000000e+07 2.4000000e+07\n",
      " 1.2000000e+07 7.5000000e+06 2.6000000e+07 1.2000000e+06 3.5000000e+06\n",
      " 1.6400000e+07 8.0000000e+06 5.0000000e+05 3.4000000e+07 2.2500000e+07\n",
      " 7.3000000e+07 1.3000000e+08 9.5000000e+07 2.5000000e+06 1.7000000e+08\n",
      " 3.6000000e+07 8.5000000e+06 1.3300000e+08 1.2500000e+08 6.0000000e+03\n",
      " 6.3000000e+07 6.0000000e+04 6.4000000e+07 1.6000000e+08 1.3500000e+08\n",
      " 9.0000000e+06 2.0000000e+06 4.5000000e+05 8.2000000e+07 1.0500000e+07\n",
      " 5.1000000e+07 2.9750000e+07 3.4200000e+07 5.5000000e+07 6.6000000e+07\n",
      " 4.4000000e+07 1.2600000e+08 6.5000000e+06 5.5000000e+05 1.5000000e+08\n",
      " 1.0800000e+07 1.0000000e+06 3.2000000e+07 5.2000000e+07 2.0000000e+08\n",
      " 2.5100000e+07 1.0500000e+08 1.1000000e+08 1.8500000e+08 2.0000000e+05\n",
      " 1.5500000e+07 1.4900000e+08 7.6000000e+07 2.0500000e+07 5.4000000e+07\n",
      " 2.7000000e+08 4.7500000e+05 1.7500000e+07 8.6000000e+07 9.6000000e+06\n",
      " 8.2500000e+07 1.7300000e+07 3.0000000e+05 1.6500000e+07 1.9400000e+07\n",
      " 1.5000000e+05 8.7000000e+06 3.2000000e+06 4.2000000e+06 6.8000000e+06\n",
      " 1.4200000e+07 1.3200000e+08 1.9300000e+07 1.6900000e+05 8.8000000e+07\n",
      " 4.3000000e+07 5.6000000e+07 4.8000000e+06 6.2000000e+07 1.2500000e+07\n",
      " 2.0700000e+08 8.4000000e+07 7.3000000e+06 2.5000000e+08 9.0000000e+05\n",
      " 2.3700000e+08 2.3600000e+07 3.9000000e+06 1.7500000e+08 1.5000000e+04\n",
      " 1.8500000e+07 9.5000000e+06 4.6000000e+07 3.0250000e+07 8.0000000e+05\n",
      " 3.6000000e+06 1.2500000e+06 6.4000000e+06 1.8000000e+06 7.2000000e+06\n",
      " 1.0650000e+06 6.3000000e+06 8.2000000e+06 1.4400000e+08 2.2000000e+08\n",
      " 6.1000000e+07 2.2000000e+06 1.0900000e+08 1.2600000e+07 8.1000000e+07\n",
      " 3.5200000e+07 7.9000000e+07 7.8000000e+07 8.5000000e+05 4.1000000e+07\n",
      " 1.2800000e+08 2.5800000e+08 2.7500000e+07 6.0795000e+07 3.7500000e+06\n",
      " 8.6000000e+06 1.8000000e+08 4.7000000e+07 2.6000000e+06 1.3500000e+07\n",
      " 1.4600000e+07 6.9000000e+06 1.3000000e+06 3.1190000e+07 2.5000000e+04\n",
      " 4.0600000e+07 3.3000000e+06 2.7000000e+06 1.0200000e+08 1.8300000e+08\n",
      " 3.3300000e+06 1.4400000e+07 7.0000000e+03 1.0300000e+08 1.3900000e+08\n",
      " 1.0600000e+07 1.4200000e+08 5.9000000e+07 1.1800000e+07 1.0700000e+07\n",
      " 1.1200000e+07 1.3200000e+07 2.4500000e+07 1.9200000e+07 7.8500000e+06\n",
      " 6.2000000e+06 1.7080000e+07 2.6000000e+08 6.0000000e+05 1.6200000e+07\n",
      " 4.4000000e+06 1.2800000e+07 1.4500000e+07 1.0000000e+05 2.2700000e+07\n",
      " 1.9897678e+07 1.1200000e+08 1.6500000e+08 6.9000000e+07 1.1700000e+08\n",
      " 6.5000000e+05 2.1500000e+07 3.8000000e+06 2.5530000e+07 6.7000000e+07\n",
      " 1.2750000e+08 4.1300000e+07 8.3000000e+07 5.6600000e+07 7.0000000e+04\n",
      " 4.0000000e+05 1.9250000e+07 1.5500000e+08 4.9900000e+07 1.9500000e+08\n",
      " 7.4000000e+06 1.6300000e+08 3.2500000e+07 1.9100000e+07 7.9800000e+06\n",
      " 3.7000000e+06 1.1000000e+06 4.7000000e+06 4.6630000e+07 1.7900000e+07\n",
      " 7.6000000e+06 2.0900000e+08 1.4500000e+08 2.2500000e+08 7.5000000e+05\n",
      " 4.4500000e+07 2.3000000e+08 5.9520000e+06 5.6000000e+06 1.0100000e+07\n",
      " 9.7000000e+06 3.5000000e+05 8.8000000e+06 5.3000000e+06]\n",
      "above  budget   [3.00e+07 1.00e+07 5.00e+06 7.50e+07 7.00e+07 7.00e+06 3.80e+07 1.60e+08\n",
      " 4.50e+05 1.50e+07 2.50e+07 2.00e+07 6.00e+06 2.80e+07 1.10e+08 5.00e+07\n",
      " 6.00e+07 8.00e+07 2.60e+07 1.70e+07 2.70e+08 8.60e+07 1.80e+07 1.65e+07\n",
      " 3.20e+06 5.50e+07 4.50e+07 1.49e+08 3.90e+06 1.40e+07 8.00e+06 9.00e+06\n",
      " 2.00e+06 4.00e+06 1.90e+07 6.10e+07 1.30e+07 3.00e+05 1.60e+07 1.10e+07\n",
      " 1.20e+07 1.30e+06 6.20e+07 2.00e+08 3.50e+07 3.00e+06 4.06e+07 3.60e+07\n",
      " 6.50e+06 4.00e+07 1.00e+08 1.92e+07 6.20e+06 2.70e+07 1.75e+08 4.80e+07\n",
      " 2.90e+07 2.50e+06 4.70e+07 1.50e+08 2.50e+05 2.40e+07 8.50e+06 1.00e+06\n",
      " 2.30e+07 4.10e+07 2.10e+07 3.70e+06 7.50e+05 1.70e+08]  \n",
      " [2.8000000e+07 1.6000000e+07 4.9000000e+07 4.0000000e+07 3.5000000e+07\n",
      " 4.2000000e+07 4.5000000e+07 2.7000000e+07 3.0000000e+07 1.7000000e+07\n",
      " 6.8000000e+07 2.5000000e+05 5.0000000e+07 6.0000000e+07 1.7000000e+06\n",
      " 1.1500000e+08 1.1000000e+07 1.0000000e+07 5.0000000e+06 2.9000000e+07\n",
      " 2.0000000e+07 8.5000000e+07 5.3000000e+07 2.2000000e+07 7.0000000e+06\n",
      " 1.4000000e+08 1.8000000e+07 1.5000000e+07 9.8000000e+07 3.1000000e+07\n",
      " 2.5000000e+07 3.9000000e+07 9.2000000e+07 1.0700000e+08 1.4000000e+07\n",
      " 3.8000000e+07 7.5000000e+07 8.7000000e+07 2.1000000e+07 2.3000000e+07\n",
      " 6.0000000e+06 4.8000000e+07 1.3000000e+07 6.5000000e+07 4.5000000e+06\n",
      " 1.7700000e+07 3.3000000e+07 9.3000000e+07 5.5000000e+06 1.2000000e+08\n",
      " 9.0000000e+07 1.3700000e+08 2.1150000e+07 5.7000000e+07 7.0000000e+07\n",
      " 3.0000000e+06 8.0000000e+07 1.5000000e+06 1.0000000e+08 9.4000000e+07\n",
      " 4.0000000e+06 7.2000000e+07 5.8000000e+07 7.0000000e+05 1.9000000e+07\n",
      " 1.1500000e+07 2.7800000e+07 1.3800000e+07 3.7000000e+07 2.4000000e+07\n",
      " 1.2000000e+07 7.5000000e+06 2.6000000e+07 1.2000000e+06 3.5000000e+06\n",
      " 1.6400000e+07 8.0000000e+06 5.0000000e+05 3.4000000e+07 2.2500000e+07\n",
      " 7.3000000e+07 1.3000000e+08 9.5000000e+07 2.5000000e+06 1.7000000e+08\n",
      " 3.6000000e+07 8.5000000e+06 1.3300000e+08 1.2500000e+08 6.0000000e+03\n",
      " 6.3000000e+07 6.0000000e+04 6.4000000e+07 1.6000000e+08 1.3500000e+08\n",
      " 9.0000000e+06 2.0000000e+06 4.5000000e+05 8.2000000e+07 1.0500000e+07\n",
      " 5.1000000e+07 2.9750000e+07 3.4200000e+07 5.5000000e+07 6.6000000e+07\n",
      " 4.4000000e+07 1.2600000e+08 6.5000000e+06 5.5000000e+05 1.5000000e+08\n",
      " 1.0800000e+07 1.0000000e+06 3.2000000e+07 5.2000000e+07 2.0000000e+08\n",
      " 2.5100000e+07 1.0500000e+08 1.1000000e+08 1.8500000e+08 2.0000000e+05\n",
      " 1.5500000e+07 1.4900000e+08 7.6000000e+07 2.0500000e+07 5.4000000e+07\n",
      " 2.7000000e+08 4.7500000e+05 1.7500000e+07 8.6000000e+07 9.6000000e+06\n",
      " 8.2500000e+07 1.7300000e+07 3.0000000e+05 1.6500000e+07 1.9400000e+07\n",
      " 1.5000000e+05 8.7000000e+06 3.2000000e+06 4.2000000e+06 6.8000000e+06\n",
      " 1.4200000e+07 1.3200000e+08 1.9300000e+07 1.6900000e+05 8.8000000e+07\n",
      " 4.3000000e+07 5.6000000e+07 4.8000000e+06 6.2000000e+07 1.2500000e+07\n",
      " 2.0700000e+08 8.4000000e+07 7.3000000e+06 2.5000000e+08 9.0000000e+05\n",
      " 2.3700000e+08 2.3600000e+07 3.9000000e+06 1.7500000e+08 1.5000000e+04\n",
      " 1.8500000e+07 9.5000000e+06 4.6000000e+07 3.0250000e+07 8.0000000e+05\n",
      " 3.6000000e+06 1.2500000e+06 6.4000000e+06 1.8000000e+06 7.2000000e+06\n",
      " 1.0650000e+06 6.3000000e+06 8.2000000e+06 1.4400000e+08 2.2000000e+08\n",
      " 6.1000000e+07 2.2000000e+06 1.0900000e+08 1.2600000e+07 8.1000000e+07\n",
      " 3.5200000e+07 7.9000000e+07 7.8000000e+07 8.5000000e+05 4.1000000e+07\n",
      " 1.2800000e+08 2.5800000e+08 2.7500000e+07 6.0795000e+07 3.7500000e+06\n",
      " 8.6000000e+06 1.8000000e+08 4.7000000e+07 2.6000000e+06 1.3500000e+07\n",
      " 1.4600000e+07 6.9000000e+06 1.3000000e+06 3.1190000e+07 2.5000000e+04\n",
      " 4.0600000e+07 3.3000000e+06 2.7000000e+06 1.0200000e+08 1.8300000e+08\n",
      " 3.3300000e+06 1.4400000e+07 7.0000000e+03 1.0300000e+08 1.3900000e+08\n",
      " 1.0600000e+07 1.4200000e+08 5.9000000e+07 1.1800000e+07 1.0700000e+07\n",
      " 1.1200000e+07 1.3200000e+07 2.4500000e+07 1.9200000e+07 7.8500000e+06\n",
      " 6.2000000e+06 1.7080000e+07 2.6000000e+08 6.0000000e+05 1.6200000e+07\n",
      " 4.4000000e+06 1.2800000e+07 1.4500000e+07 1.0000000e+05 2.2700000e+07\n",
      " 1.9897678e+07 1.1200000e+08 1.6500000e+08 6.9000000e+07 1.1700000e+08\n",
      " 6.5000000e+05 2.1500000e+07 3.8000000e+06 2.5530000e+07 6.7000000e+07\n",
      " 1.2750000e+08 4.1300000e+07 8.3000000e+07 5.6600000e+07 7.0000000e+04\n",
      " 4.0000000e+05 1.9250000e+07 1.5500000e+08 4.9900000e+07 1.9500000e+08\n",
      " 7.4000000e+06 1.6300000e+08 3.2500000e+07 1.9100000e+07 7.9800000e+06\n",
      " 3.7000000e+06 1.1000000e+06 4.7000000e+06 4.6630000e+07 1.7900000e+07\n",
      " 7.6000000e+06 2.0900000e+08 1.4500000e+08 2.2500000e+08 7.5000000e+05\n",
      " 4.4500000e+07 2.3000000e+08 5.9520000e+06 5.6000000e+06 1.0100000e+07\n",
      " 9.7000000e+06 3.5000000e+05 8.8000000e+06 5.3000000e+06]\n",
      "below  company   ['Good Machine' 'Miramax' 'Universal Pictures' 'Cinetel Films'\n",
      " 'TriStar Pictures' 'The Zanuck Company' 'Hollywood Pictures'\n",
      " 'Dreamworks Pictures' '40 Acres & A Mule Filmworks' 'Warner Bros.'\n",
      " 'New Regency Productions' 'Walt Disney Pictures' 'Mandeville Films'\n",
      " 'Summit Entertainment' 'Paramount Pictures' \"Bull's Eye Entertainment\"\n",
      " 'The Weinstein Company' 'Metro-Goldwyn-Mayer (MGM)'\n",
      " 'Warner Independent Pictures (WIP)' 'Sony Pictures Classics' 'BBC Films'\n",
      " 'Morgan Creek Entertainment' 'Dimension Films' 'Blumhouse Productions'\n",
      " 'The Ladd Company' 'Twentieth Century Fox'\n",
      " 'Boll Kino Beteiligungs GmbH & Co. KG' 'Castle Rock Entertainment'\n",
      " 'Touchstone Pictures' 'Fox Searchlight Pictures' 'Fox 2000 Pictures'\n",
      " 'Fox Atomic' 'Paramount Vantage' 'CiBy 2000' 'Guild' 'Carolco Pictures'\n",
      " 'Columbia Pictures' 'Imagine Entertainment' 'Gold Circle Films'\n",
      " 'Dino De Laurentiis Company' 'Vegahom Europe' 'Fairview Entertainment'\n",
      " 'PolyGram Filmed Entertainment' 'Largo Entertainment'\n",
      " 'Pathé Pictures International' 'Overture Films' 'Millennium Films'\n",
      " 'Alliance Communications Corporation' 'Bob Yari Productions'\n",
      " 'Brillstein-Grey Entertainment' 'Gramercy Pictures (I)'\n",
      " 'Franchise Pictures' 'Artisan Entertainment' 'Fine Line Features'\n",
      " 'Icon Productions' 'DreamWorks' 'United Artists' 'Orion Pictures'\n",
      " 'Goldcrest Films International' 'Zoetrope Studios' 'Hemdale'\n",
      " 'Tig Productions' 'HandMade Films']  \n",
      " ['Screen Gems' 'Columbia Pictures' '3 Arts Entertainment'\n",
      " 'Twentieth Century Fox' 'Davis Entertainment' 'Metro-Goldwyn-Mayer (MGM)'\n",
      " 'New Line Cinema' 'Dimension Films' 'Cruise/Wagner Productions'\n",
      " 'IMF Internationale Medien und Film GmbH & Co. 2. Produktions KG'\n",
      " 'Miramax' 'Blow Up Pictures' 'New Regency Productions' 'Warner Bros.'\n",
      " 'Good Machine' 'Paramount Pictures' 'Revolution Studios'\n",
      " 'Lakeshore Entertainment' 'Blumhouse Productions'\n",
      " 'Metropolitan Filmexport' 'Artisan Entertainment' 'Eureka Pictures'\n",
      " 'Franchise Pictures' 'Lions Gate Films' 'Touchstone Pictures'\n",
      " 'Bandai Visual Company' 'Universal Pictures' 'Castle Rock Entertainment'\n",
      " 'David Kirschner Productions' 'Alcon Entertainment' 'Jersey Films'\n",
      " 'Pixar Animation Studios' 'LivePlanet' 'Disney Television Animation'\n",
      " 'Pandora Cinema' 'Chickie the Cop' 'Compulsion Inc.' 'October Films'\n",
      " 'Cort/Madden Productions' 'United Artists' 'El Deseo' 'Killer Films'\n",
      " 'Winkler Films' 'Dreamworks Pictures' 'Konrad Pictures'\n",
      " 'Claudie Ossard Productions' 'Morgan Creek Entertainment'\n",
      " 'British Broadcasting Corporation (BBC)' 'Walt Disney Animation Studios'\n",
      " 'Bandeira Entertainment' 'DreamWorks Animation' 'Ecosse Films'\n",
      " 'Walt Disney Pictures' 'Chris Lee Productions' 'Bungalow Productions'\n",
      " 'i5 Films' 'Centurion' 'Fuller Films' 'Cloud Ten Pictures' 'Apostle'\n",
      " 'Alter Ego Entertainment' 'TriStar Pictures' 'Mirage Enterprises'\n",
      " 'Eddie Murphy Productions' 'Magnum Pictures Inc.' 'Cinetel Films'\n",
      " 'Filmauro' 'Goldcrest Films International' 'White Eagle'\n",
      " 'Weintraub Entertainment Group' 'Gordon Company'\n",
      " 'Lorimar Film Entertainment' 'Amblin Entertainment'\n",
      " 'Gladden Entertainment' 'TMS Entertainment' 'Silver Pictures'\n",
      " 'Outlaw Productions (I)' 'Cinecorp SAC' 'Abramoff Production'\n",
      " 'De Laurentiis Entertainment Group (DEG)' 'Imagine Entertainment'\n",
      " 'Norman Twain Productions' 'The Zanuck Company' 'Cannon Entertainment'\n",
      " 'Alive Films' 'Lightyear Entertainment' 'Palace Pictures'\n",
      " 'Art Linson Productions' 'Carolco Pictures' 'Asymmetrical Productions'\n",
      " 'Mandeville Films' 'Marked Entertainment' 'Baldwin/Cohen Productions'\n",
      " 'Ghoulardi Film Company' 'Fox 2000 Pictures'\n",
      " 'Icon Entertainment International' 'Peters Entertainment'\n",
      " 'Flying Heart Films' 'Cradle Productions Inc.'\n",
      " 'Polygram Filmed Entertainment' 'ETIC Films' 'Crystal Sky Worldwide'\n",
      " 'Happy Madison Productions' 'Play It Inc.' 'MTV Films' '1492 Pictures'\n",
      " 'Bona Fide Productions' 'Hollywood Pictures' 'Next Wave Films'\n",
      " 'Baumgarten-Prophet Entertainment' 'Haxan Films' 'FilmColony'\n",
      " 'Beacon Communications' 'Danjaq' 'American Zoetrope'\n",
      " 'Fox Searchlight Pictures' 'David Brown Productions' 'Astralwerks'\n",
      " 'Dark Castle Entertainment' 'Blue Streak Films' 'Spyglass Entertainment'\n",
      " 'Scott Rudin Productions' 'Sweetland Films' 'Cheerleader LLC'\n",
      " 'Jim Henson Pictures' 'Jack Giarraputo Productions'\n",
      " '3 Miles Apart Productions Ltd.' '7 Arts International'\n",
      " '40 Acres & A Mule Filmworks' 'Broadway Pictures' 'Tribeca Productions'\n",
      " 'Azoff Entertainment' 'View Askew Productions'\n",
      " 'American Cinema Productions' 'Bryna Productions' 'Orion Pictures'\n",
      " 'Partisan Productions' 'Melvin Simon Productions' 'Filmways Pictures'\n",
      " 'Camp Hill' 'Chartoff-Winkler Productions' 'Walt Disney Productions'\n",
      " 'Casey Silver Productions' 'Initial Entertainment Group (IEG)'\n",
      " 'Endgame Entertainment' 'Breathless Associates' 'Lionsgate'\n",
      " 'Lucasfilm Animation' 'Wild Bunch' 'Focus Features'\n",
      " 'Bridgit Folman Film Gang' 'Twisted Pictures' 'Cohen Media Group'\n",
      " 'Number 9 Films' 'The Weinstein Company' 'Mosaic' 'Big City Pictures'\n",
      " 'Babylon' 'Celador Films' 'Fox Atomic' 'Shocking Bottle'\n",
      " 'Sidney Kimmel Entertainment' 'Blue Sky Studios' 'DreamWorks'\n",
      " 'Rogue Pictures' 'Walden Media' 'Cinehaus' 'Summit Entertainment'\n",
      " 'Goodspeed Productions' 'Filmax International' '2929 Productions'\n",
      " 'Field Guide Films' 'Abandon Entertainment' 'Blue Askew' 'Playtone'\n",
      " 'Millennium Films' 'Broadway Video' 'Rhombus Media' 'Overture Films'\n",
      " 'Sony Pictures Classics' 'Matten Productions' 'Picturehouse' 'EFTI'\n",
      " 'Voltage Pictures' 'Rifkin-Eberts' 'Paramount Vantage' 'Studio Ghibli'\n",
      " 'Hoot Productions LLC' 'O Entertainment' 'Everyman Pictures'\n",
      " 'Wiedemann & Berg Filmproduktion' 'Yari Film Group Releasing'\n",
      " 'Aardman Animations' 'DEJ Productions' 'Estudios Picasso' 'THINKFilm'\n",
      " 'Film Partner International' 'Aspen Film Society'\n",
      " 'Allan Zeman Productions' 'Electric Entertainment' 'No Matter Pictures'\n",
      " 'Out of the Blue... Entertainment' 'Escalante Productions'\n",
      " 'Paramount Classics' 'Gold Circle Films' 'Fu Works'\n",
      " 'Craven-Maddalena Films' 'Phoenix Pictures' 'Bergman Lustig Productions'\n",
      " 'Hunting Lane Films' 'World Wrestling Entertainment (WWE)'\n",
      " 'Arc Productions' 'EuropaCorp' 'Crescent Drive Pictures'\n",
      " 'Icon Productions' 'BBC Films' 'Film Science'\n",
      " 'C.O.R.E. Feature Animation' 'Warner Independent Pictures (WIP)'\n",
      " 'Columbia Pictures Industries' 'Sweet Tea Pictures LLC'\n",
      " \"Bull's Eye Entertainment\" 'Chockstone Pictures'\n",
      " 'This Is That Productions' 'Googly Films' 'WIP'\n",
      " 'Bórd Scannán na hÉireann' '21st Century Film Corporation'\n",
      " 'Blue Budgie Films Limited' 'OLC / Rights Entertainment' 'Coach Carter'\n",
      " 'El Camino Pictures' 'The Family Stone' 'Zentropa Entertainments'\n",
      " 'Recorded Picture Company (RPC)' 'Di Bonaventura Pictures'\n",
      " 'Fairway Films' 'John Wells Productions' 'Junebug Movie'\n",
      " 'Room 9 Entertainment' 'Mandalay Pictures' 'True West Films'\n",
      " 'Eden Rock Media' 'Bob Yari Productions' 'Belladonna Productions'\n",
      " 'Next Entertainment' 'Rent Productions LLC'\n",
      " 'Australian Film Finance Corporation (AFFC)'\n",
      " 'Vanguard Films and Animation' 'Avi Arad Productions' 'Cabal Film'\n",
      " 'AVCO Embassy Pictures' 'Stratus Film Co.' 'BET Pictures'\n",
      " 'Cent Productions Inc.' 'Serendipity Point Films'\n",
      " 'Boll Kino Beteiligungs GmbH & Co. KG' 'Fade to Black Productions'\n",
      " 'Marv Films' 'Yellow Bird' 'Rogue' 'Pathé Renn Productions'\n",
      " 'Ternion Pictures' 'Mod Producciones' 'Magnolia Pictures'\n",
      " 'Hyde Park Entertainment' 'LD Entertainment' 'MPI Media Group'\n",
      " 'Les Armateurs' 'Autonomous Films' 'Echo Lake Entertainment'\n",
      " 'Oscilloscope' 'Constantin Film' 'Twentieth Century Fox Animation'\n",
      " 'House Row Productions' 'CJ Entertainment' 'Curmudgeon Films'\n",
      " 'StudioCanal' 'Imagi Animation Studios' 'Jerry Bruckheimer Films'\n",
      " 'The Halcyon Company' 'Canal+' 'Solana Films' 'CineSon Entertainment'\n",
      " 'Lleju Productions' 'De Line Pictures' \"It's a Laugh Productions\"\n",
      " 'Tornasol Films' 'Fidélité Films'\n",
      " 'Universal Pictures International (UPI)' 'GK Films' 'G-BASE'\n",
      " 'Constellation Entertainment' 'Warner Bros. Pictures' 'Amercent Films'\n",
      " 'Image Comics' 'CiBy 2000' 'Richard Williams Productions' 'A Band Apart'\n",
      " 'Populist Pictures' 'PolyGram Filmed Entertainment'\n",
      " 'Rysher Entertainment' 'Gaumont' 'Avenue Pictures'\n",
      " 'Beckner/Gorman Productions' 'Gramercy Pictures (I)' 'Caravan Pictures'\n",
      " 'Eon Productions' 'River Road Entertainment' 'Lightstorm Entertainment'\n",
      " 'Pandora Filmproduktion' 'Allied Stars Ltd.' 'Tapestry Films'\n",
      " 'Cinergi Pictures Entertainment' 'Seraphim Films' 'Suburban Pictures'\n",
      " 'The Rank Organisation' 'Don Simpson/Jerry Bruckheimer Films'\n",
      " 'Lumiere Pictures' 'Lancaster Gate' 'Havoc' 'Strike Entertainment'\n",
      " 'C.H.U.D. Productions' 'Bachelor Party Productions'\n",
      " 'River Road Productions' 'Dino De Laurentiis Company' 'Zoetrope Studios'\n",
      " \"Cinema '84\" 'A&M Films' 'The Ladd Company'\n",
      " 'Atlantic Entertainment Group' 'Hemdale' 'Colgems Productions Ltd.'\n",
      " 'Bavaria Film' 'Jaffe-Lansing' 'EMI Films' 'Hawn / Sylbert Movie Company'\n",
      " 'Incorporated Television Company (ITC)' 'Cinema Group Ventures'\n",
      " 'Filmline Productions' 'Arcafin B.V.' 'Spinal Tap Prod.' 'Skyewiay'\n",
      " 'Artistry Limited' 'AMLF' 'Adams Apple Film Company' 'FilmDistrict'\n",
      " 'Kingsmere Properties' 'Big Dog Films' 'JVC Entertainment Networks'\n",
      " 'Juno Pix' 'Turner Pictures (I)' 'Calimari Productions'\n",
      " 'FGM Entertainment' 'Robert Simonds Productions'\n",
      " 'Midwinter Productions Inc.' 'Enchanter Entertainment'\n",
      " 'Mystery Clock Cinema' 'Marvel Studios' 'Largo Entertainment'\n",
      " 'DiNovi Pictures' 'Fade In Films'\n",
      " 'British Broadcasting Corporation (BBC) Television'\n",
      " 'Zucker Brothers Productions' 'Centropolis Film Productions'\n",
      " 'Baltimore Pictures' 'Mandalay Entertainment' 'Fear and Loathing LLC'\n",
      " 'Kennedy Miller Productions' 'RKO Pictures' 'Atlas Entertainment'\n",
      " 'Award Entertainment' 'Chinese Bookie Pictures' 'Polar Entertainment'\n",
      " 'Amen Ra Films' 'DIC Entertainment' 'American Empirical Pictures'\n",
      " 'Media 8 Entertainment' 'Casual Friday Productions' 'SenArt Films'\n",
      " 'Muse Productions' '\"DIA\" Productions GmbH & Co. KG'\n",
      " 'Archer Street Productions' 'Spectacle Entertainment Group'\n",
      " 'Cherry Sky Films' '19 Entertainment' 'Plunge Pictures LLC' 'ContentFilm'\n",
      " 'Epsilon Motion Pictures' 'World of Wonder Productions'\n",
      " 'Lynda Obst Productions' 'Show East' 'Good Universe' 'HBO Films'\n",
      " 'Cobalt Media Group' 'Klasky-Csupo' 'Mepris Films' 'Marvel Enterprises'\n",
      " 'Funny Boy Films' 'Emperor Multimedia Group (EMG)' 'Angry Films'\n",
      " 'Jasmine Productions Inc.' 'Cheyenne Enterprises' 'C-2 Pictures'\n",
      " 'Eikon Film' 'HanWay Films' 'Légende Films' 'Capitol Films'\n",
      " '2.4.7. Films' 'Automatik Entertainment' 'Artfire Films'\n",
      " '4Kids Entertainment' 'Block 2 Pictures' '360 Pictures' 'Intermedia'\n",
      " 'Anonymous Content' 'ArieScope Pictures' 'Relativity Media'\n",
      " 'Night and Day Pictures' 'Rainforest Films' 'Deerjen Films'\n",
      " 'Captivity Productions' 'Harpo Films' 'P2 Productions' 'Haishang Films'\n",
      " 'Samuels Media' 'HBO Pictures' 'Young Hannibal Productions'\n",
      " 'Mandate Pictures' 'Capella Films' 'Renaissance Films' 'Propaganda Films'\n",
      " 'Steve White Productions' 'Parkway Productions' 'Golden Harvest Company'\n",
      " 'Night Life Inc.' 'Trimark Pictures' 'Hanna-Barbera Productions'\n",
      " 'Warner Bros. Family Entertainment' 'New Horizons Picture' 'Alcor Films'\n",
      " 'Warner Bros. Animation' 'Brooksfilms' 'Allied Filmmakers'\n",
      " 'Price Entertainment' 'WingNut Films' 'Film Andes S.A.'\n",
      " 'Northern Lights Entertainment' 'Wildwood Enterprises' 'Q Productions'\n",
      " 'Permut Presentations' 'Fine Line Features' 'Pacific Western'\n",
      " 'Brandywine Productions' 'Guild' 'De Fina-Cappa' 'Sheinberg Productions'\n",
      " 'Cecchi Gori Group Tiger Cinematografica' 'Tig Productions'\n",
      " 'Blue Tulip Productions' 'Too Askew Prod. Inc.'\n",
      " 'Alliance Atlantis Communications' 'Ivory Way Productions'\n",
      " 'Kuzui Enterprises' \"Butcher's Run Films\" 'Golar Productions'\n",
      " 'Capella International' 'Melampo Cinematografica' 'Agenda'\n",
      " 'McFarlane Films' 'DC Entertainment' 'Clinica Estetico'\n",
      " 'Channel Four Films' 'Cannon Films Inc.' 'Jackson/McHenry Company,The'\n",
      " 'Joseph S. Vecchio Entertainment' 'Krisjair' 'Davis-Panzer Productions'\n",
      " 'Fogwood Films' 'Exclusive Media Group' 'Strong Heart/Demme Production'\n",
      " 'Little Tokyo Productions' 'All Girl Productions'\n",
      " 'Arnold Kopelson Productions' 'Stone Group Pictures' 'Applied Action'\n",
      " 'Victor Company of Japan (JVC)' 'Nelson Entertainment'\n",
      " 'Cinecom Entertainment Group' 'Imagine Films Entertainment'\n",
      " 'Geffen Pictures' 'Bill Graham Films'\n",
      " 'Imperial Entertainment Corporation' 'Argos Films'\n",
      " 'The Saul Zaentz Company' 'Island World' 'Touchwood Pacific Partners 1'\n",
      " 'Bakshi Animation' 'DENTSU Music And Entertainment'\n",
      " 'Jack Rollins & Charles H. Joffe Productions' 'Penta Pictures'\n",
      " 'Largo International N.V.' 'Hivemind' 'Ascot Film' 'FAI Films'\n",
      " 'Parkes/Lasker productions' 'Bad Lt. Productions'\n",
      " 'British Screen Productions' 'Penta Films' 'Atchafalaya'\n",
      " 'Dino de Laurentiis Communications' 'Avnet/Kerner Productions'\n",
      " 'Fifth Avenue Entertainment' 'Allied Vision' 'Candyman Films'\n",
      " 'Kasdan Pictures' 'Mace Neufeld Productions' 'Image Organization'\n",
      " 'Edko Films' 'Live Entertainment' 'Challenge Film Corporation'\n",
      " 'Encino Man Productions' 'First Light Production' 'Avery Pix'\n",
      " 'First Look International' 'Material' 'R.P. Productions'\n",
      " 'FTM Productions' 'Handprint Entertainment' 'Fuzzy Bunny Films (I)'\n",
      " 'South Pacific Pictures' 'CineWild' 'Castelao Producciones'\n",
      " 'Malpaso Productions' 'Quinta Communications' 'FilmFour'\n",
      " 'Blockbuster Films' 'BRON Studios' 'United Artists Film Corporation'\n",
      " '25th Hour Productions' 'Tonic Films'\n",
      " 'Morra, Brezner, Steinberg and Tenenbaum Entertainment (MBST)'\n",
      " '98 MPH Productions' 'Alphaville Films' 'Flan de Coco Films'\n",
      " 'Kingsgate Films' 'Rankin/Bass Productions' 'C & C Brown Production'\n",
      " 'Anabasis N.V.' 'Major Studio Partners' 'Pan Arts'\n",
      " 'Golan-Globus Productions' 'Aurora' 'Marcy Media' 'Astral Bellevue Pathé'\n",
      " 'Almena Films' 'Cinematograph AB' 'International Film Investors'\n",
      " 'Egg Pictures' 'Greenleaf Productions' 'Planet Productions'\n",
      " 'Kouf/Bigelow Productions' 'Majestic Films International'\n",
      " 'Barcelona Films' 'Don Bluth' 'Vegahom Europe' 'Fairview Entertainment'\n",
      " 'The Mark Gordon Company' 'Nest Family Entertainment' 'Savoy Pictures'\n",
      " 'Donner/Shuler-Donner Productions' 'Crowvision Inc.'\n",
      " 'Ben-Ami/Leeds Productions' 'Davis-Films' 'Ultra Muchos Productions'\n",
      " 'Fallingcloud' 'Mulholland Productions' 'Channel Films' 'Bold Films'\n",
      " 'Seagal/Nasso Productions' 'Capcom Entertainment'\n",
      " 'Great American Films Limited Partnership' 'Emshell Producers'\n",
      " 'Heron Communications' 'Conquering Unicorn' 'The Cannon Group'\n",
      " 'Zenith Entertainment' 'Green Hat Films' 'TAFT Entertainment Pictures'\n",
      " 'New World Pictures' 'Lorimar Motion Pictures' 'Rastar Pictures'\n",
      " 'Circle Films' 'Carolco International N.V.' 'Renaissance Pictures'\n",
      " 'Aaron Spelling Productions' 'Natant' 'Act III Communications'\n",
      " 'Charles H. Schneer Productions' 'Company Films'\n",
      " 'Closest to the Hole Productions' 'Bad Robot'\n",
      " 'Pathé Pictures International' 'Mediapro' 'Color Force'\n",
      " 'Dune Entertainment III' 'Protagonist Pictures' 'Exclusive Films'\n",
      " 'Olympus Pictures' 'Hero Entertainment' 'The American Film Company'\n",
      " 'The Last Picture Company' 'DNA Films' 'Sedic International'\n",
      " 'Temple Hill Entertainment' 'Bronco Productions' 'Omega Entertainment'\n",
      " 'Incentive Filmed Entertainment' 'Overnight Films' 'Audiovisual Aval SGR'\n",
      " 'Josephson Entertainment' 'Glass Eye Pix' 'Realitism Films'\n",
      " 'Cappa Production' 'Clavius Base'\n",
      " 'Motion Picture Corporation of America (MPCA)'\n",
      " 'Independent Pictures (II)' 'United Artists Pictures' 'Bazmark Films'\n",
      " 'Kopelson Entertainment' 'Bruin Grip Services' 'Island Pictures'\n",
      " 'Tim Burton Productions' 'Interscope Communications'\n",
      " 'Alliance Communications Corporation' 'Bad Bird Productions'\n",
      " 'Green Parrot' 'Triumph Films' 'Digital Image Associates'\n",
      " 'Universal City Studios' 'Doug Liman Productions' 'Astoria Films'\n",
      " 'PVM Entertainment' 'Animal Productions LLC' 'Mutual Film Company'\n",
      " 'Saban Entertainment' 'Brillstein-Grey Entertainment' 'Clipsal Films'\n",
      " 'Bel Air Entertainment' 'Am Psycho Productions'\n",
      " 'Cinerenta Medienbeteiligungs KG' 'Branti Film Productions'\n",
      " 'MFF Feature Film Productions' 'Cruella Productions' 'Open City Films'\n",
      " 'Prufrock Pictures' 'FX Sound' 'Newmarket Capital Group'\n",
      " 'Carnival Film & Television' 'Revelations Entertainment' 'Saturn Films'\n",
      " 'Merchant Ivory Productions' 'Haft Entertainment' 'Code Entertainment'\n",
      " 'Hammerhead Productions' 'Hart Sharp Entertainment'\n",
      " 'Artic Productions LLC' 'Asia Union Film & Entertainment Ltd.'\n",
      " 'Portman Entertainment Group' 'Ambridge Film Partnership'\n",
      " 'Lewitt / Eberts Productions' '2003 Productions'\n",
      " 'Columbia Pictures Film Production Asia' 'Whitewater Films'\n",
      " 'Big Red Dog Productions' 'Nine Yards Two Productions'\n",
      " 'Deep River Productions' 'Shangri-La Entertainment' 'Filmax Group'\n",
      " 'Jet Tone Production' 'Les Films Alain Sarde' 'Evolution Entertainment'\n",
      " 'Grand Slam Productions' 'Camelot Pictures' 'Bazelevs Production'\n",
      " 'Canal+ España' 'Pop Pop Productions' 'ERBP' 'BenderSpink' 'DJ Films'\n",
      " 'Hydraulx' 'Mandalay Vision' 'Studio 37' 'Big Beach Films'\n",
      " 'Cliffjack Motion Pictures' 'CBS Films' 'Enticing Entertainment'\n",
      " 'Cottonwood Pictures' 'SBS Productions' 'Corsan' 'Elle Driver'\n",
      " 'Reprisal Films' 'Artists Public Domain' 'Omnilab Media'\n",
      " 'NVSH Productions' 'Atlas Productions' 'Before The Door Pictures'\n",
      " 'Preferred Content' 'Carousel Productions (II)'\n",
      " 'Allison Shearmur Productions' 'HandMade Films'\n",
      " 'Trancas International Films' 'Front Films' 'Lucasfilm'\n",
      " 'American Entertainment Partners II L.P.' 'Silver Screen Partners III'\n",
      " 'The Mount Company' 'Vision PDG' 'Esparza' 'No Frills Film Production'\n",
      " 'Cocktail Film' 'Palla' 'Cornelius Productions' 'Cannon International'\n",
      " 'New Sky Communications Inc.' 'The Guber-Peters Company'\n",
      " 'The Geffen Company' 'Prominent Features' 'New Visions'\n",
      " 'Blue Rider Pictures' 'Shapiro-Glickenhaus Entertainment'\n",
      " 'NBC Productions' 'Cave 76' 'Embassy Pictures' 'SLM Production Group'\n",
      " 'National Lampoon' 'Legend Production Company' 'Cross Creek Pictures'\n",
      " 'Delphi III Productions' 'David Foster Productions'\n",
      " 'Embassy International Pictures' 'Empire Pictures' 'GGG'\n",
      " 'Georgetown Productions Inc.' 'Monsterfoot Productions' 'Total Recall'\n",
      " 'Also Known As Pictures' 'Constantin Film International'\n",
      " 'Abraham Productions' 'Gary Sanchez Productions' 'Indian Paintbrush'\n",
      " 'Cloud Atlas Productions' 'Open Road Films (II)' 'Intrepid Pictures'\n",
      " 'Iron Horse Entertainment (II)' 'Alfama Films' 'Cinereach' 'Roth Films'\n",
      " 'Ixtlan' 'Overbrook Entertainment' '1818 Productions' 'Heat GBR'\n",
      " 'Rastar Films' 'Filmplan International' 'Polyc International BV'\n",
      " 'Ladbroke' 'Cannon Films' 'Lucille Ball Productions' 'Nelvana'\n",
      " 'Seagoat Films' 'Eagle Associates.' 'Sunn Classic Pictures'\n",
      " 'Eclectic Pictures' 'Carthago Films S.a.r.l.' 'Henson Associates (HA)'\n",
      " 'Toho Company' 'Lawrence Gordon Productions' 'Lorimar Productions'\n",
      " 'Kings Road Entertainment' 'Jay Weston Productions' 'Cannon Pictures'\n",
      " 'Delphi V Productions' 'Rimfire Films' 'Reteitalia'\n",
      " 'Nicolas Entertainment' 'Silver Screen Partners IV' 'Devoted Productions'\n",
      " 'Cinemarque Entertainment' 'Hughes Entertainment' 'ADC Films'\n",
      " 'Ironbark Films' 'Pathé Entertainment' '888 Productions'\n",
      " 'Polygram Pictures' 'Dovemead Films' 'Heron Productions'\n",
      " 'Artista Management' 'Mann/Caan Productions' 'IPC Films'\n",
      " 'Bluegrass Films' 'One Way Productions' 'DeHaven/Shapiro Productions'\n",
      " 'Little Stranger']\n",
      "above  company   ['Dimension Films' 'Lakeshore Entertainment' 'Blumhouse Productions'\n",
      " 'Alcon Entertainment' 'Twentieth Century Fox' 'Warner Bros.'\n",
      " 'Paramount Pictures' 'Universal Pictures' 'Touchstone Pictures'\n",
      " 'Good Machine' 'New Line Cinema' 'Columbia Pictures'\n",
      " 'Dreamworks Pictures' 'Franchise Pictures' 'TriStar Pictures'\n",
      " 'The Weinstein Company' 'Sony Pictures Classics' 'Gold Circle Films'\n",
      " 'EuropaCorp' 'Icon Productions' \"Bull's Eye Entertainment\" 'Lionsgate'\n",
      " 'Fox 2000 Pictures' 'New Regency Productions' 'CiBy 2000'\n",
      " 'Gramercy Pictures (I)' 'Miramax' 'BBC Films' 'Metro-Goldwyn-Mayer (MGM)'\n",
      " 'Don Simpson/Jerry Bruckheimer Films' 'The Zanuck Company'\n",
      " 'United Artists' 'Screen Gems' 'Focus Features'\n",
      " 'Boll Kino Beteiligungs GmbH & Co. KG' 'Castle Rock Entertainment'\n",
      " 'Walt Disney Pictures' 'Summit Entertainment' 'Fine Line Features'\n",
      " 'Guild' 'Tig Productions' 'Constantin Film' 'Hollywood Pictures'\n",
      " 'Orion Pictures' 'Icon Entertainment International' 'CJ Entertainment'\n",
      " 'Zoetrope Studios' 'Vegahom Europe' 'Fairview Entertainment'\n",
      " 'PolyGram Filmed Entertainment' 'De Laurentiis Entertainment Group (DEG)'\n",
      " 'This Is That Productions' 'Overture Films'\n",
      " 'Walt Disney Animation Studios' 'Cinetel Films'\n",
      " 'Alliance Communications Corporation' 'Bob Yari Productions'\n",
      " 'Morgan Creek Entertainment' 'Artisan Entertainment'\n",
      " 'Pathé Pictures International' 'Polygram Filmed Entertainment'\n",
      " 'Brillstein-Grey Entertainment' '40 Acres & A Mule Filmworks'\n",
      " 'Rogue Pictures' 'Paramount Vantage' 'Millennium Films'\n",
      " 'Relativity Media' 'HandMade Films' 'Hemdale' 'FilmDistrict']  \n",
      " ['Screen Gems' 'Columbia Pictures' '3 Arts Entertainment'\n",
      " 'Twentieth Century Fox' 'Davis Entertainment' 'Metro-Goldwyn-Mayer (MGM)'\n",
      " 'New Line Cinema' 'Dimension Films' 'Cruise/Wagner Productions'\n",
      " 'IMF Internationale Medien und Film GmbH & Co. 2. Produktions KG'\n",
      " 'Miramax' 'Blow Up Pictures' 'New Regency Productions' 'Warner Bros.'\n",
      " 'Good Machine' 'Paramount Pictures' 'Revolution Studios'\n",
      " 'Lakeshore Entertainment' 'Blumhouse Productions'\n",
      " 'Metropolitan Filmexport' 'Artisan Entertainment' 'Eureka Pictures'\n",
      " 'Franchise Pictures' 'Lions Gate Films' 'Touchstone Pictures'\n",
      " 'Bandai Visual Company' 'Universal Pictures' 'Castle Rock Entertainment'\n",
      " 'David Kirschner Productions' 'Alcon Entertainment' 'Jersey Films'\n",
      " 'Pixar Animation Studios' 'LivePlanet' 'Disney Television Animation'\n",
      " 'Pandora Cinema' 'Chickie the Cop' 'Compulsion Inc.' 'October Films'\n",
      " 'Cort/Madden Productions' 'United Artists' 'El Deseo' 'Killer Films'\n",
      " 'Winkler Films' 'Dreamworks Pictures' 'Konrad Pictures'\n",
      " 'Claudie Ossard Productions' 'Morgan Creek Entertainment'\n",
      " 'British Broadcasting Corporation (BBC)' 'Walt Disney Animation Studios'\n",
      " 'Bandeira Entertainment' 'DreamWorks Animation' 'Ecosse Films'\n",
      " 'Walt Disney Pictures' 'Chris Lee Productions' 'Bungalow Productions'\n",
      " 'i5 Films' 'Centurion' 'Fuller Films' 'Cloud Ten Pictures' 'Apostle'\n",
      " 'Alter Ego Entertainment' 'TriStar Pictures' 'Mirage Enterprises'\n",
      " 'Eddie Murphy Productions' 'Magnum Pictures Inc.' 'Cinetel Films'\n",
      " 'Filmauro' 'Goldcrest Films International' 'White Eagle'\n",
      " 'Weintraub Entertainment Group' 'Gordon Company'\n",
      " 'Lorimar Film Entertainment' 'Amblin Entertainment'\n",
      " 'Gladden Entertainment' 'TMS Entertainment' 'Silver Pictures'\n",
      " 'Outlaw Productions (I)' 'Cinecorp SAC' 'Abramoff Production'\n",
      " 'De Laurentiis Entertainment Group (DEG)' 'Imagine Entertainment'\n",
      " 'Norman Twain Productions' 'The Zanuck Company' 'Cannon Entertainment'\n",
      " 'Alive Films' 'Lightyear Entertainment' 'Palace Pictures'\n",
      " 'Art Linson Productions' 'Carolco Pictures' 'Asymmetrical Productions'\n",
      " 'Mandeville Films' 'Marked Entertainment' 'Baldwin/Cohen Productions'\n",
      " 'Ghoulardi Film Company' 'Fox 2000 Pictures'\n",
      " 'Icon Entertainment International' 'Peters Entertainment'\n",
      " 'Flying Heart Films' 'Cradle Productions Inc.'\n",
      " 'Polygram Filmed Entertainment' 'ETIC Films' 'Crystal Sky Worldwide'\n",
      " 'Happy Madison Productions' 'Play It Inc.' 'MTV Films' '1492 Pictures'\n",
      " 'Bona Fide Productions' 'Hollywood Pictures' 'Next Wave Films'\n",
      " 'Baumgarten-Prophet Entertainment' 'Haxan Films' 'FilmColony'\n",
      " 'Beacon Communications' 'Danjaq' 'American Zoetrope'\n",
      " 'Fox Searchlight Pictures' 'David Brown Productions' 'Astralwerks'\n",
      " 'Dark Castle Entertainment' 'Blue Streak Films' 'Spyglass Entertainment'\n",
      " 'Scott Rudin Productions' 'Sweetland Films' 'Cheerleader LLC'\n",
      " 'Jim Henson Pictures' 'Jack Giarraputo Productions'\n",
      " '3 Miles Apart Productions Ltd.' '7 Arts International'\n",
      " '40 Acres & A Mule Filmworks' 'Broadway Pictures' 'Tribeca Productions'\n",
      " 'Azoff Entertainment' 'View Askew Productions'\n",
      " 'American Cinema Productions' 'Bryna Productions' 'Orion Pictures'\n",
      " 'Partisan Productions' 'Melvin Simon Productions' 'Filmways Pictures'\n",
      " 'Camp Hill' 'Chartoff-Winkler Productions' 'Walt Disney Productions'\n",
      " 'Casey Silver Productions' 'Initial Entertainment Group (IEG)'\n",
      " 'Endgame Entertainment' 'Breathless Associates' 'Lionsgate'\n",
      " 'Lucasfilm Animation' 'Wild Bunch' 'Focus Features'\n",
      " 'Bridgit Folman Film Gang' 'Twisted Pictures' 'Cohen Media Group'\n",
      " 'Number 9 Films' 'The Weinstein Company' 'Mosaic' 'Big City Pictures'\n",
      " 'Babylon' 'Celador Films' 'Fox Atomic' 'Shocking Bottle'\n",
      " 'Sidney Kimmel Entertainment' 'Blue Sky Studios' 'DreamWorks'\n",
      " 'Rogue Pictures' 'Walden Media' 'Cinehaus' 'Summit Entertainment'\n",
      " 'Goodspeed Productions' 'Filmax International' '2929 Productions'\n",
      " 'Field Guide Films' 'Abandon Entertainment' 'Blue Askew' 'Playtone'\n",
      " 'Millennium Films' 'Broadway Video' 'Rhombus Media' 'Overture Films'\n",
      " 'Sony Pictures Classics' 'Matten Productions' 'Picturehouse' 'EFTI'\n",
      " 'Voltage Pictures' 'Rifkin-Eberts' 'Paramount Vantage' 'Studio Ghibli'\n",
      " 'Hoot Productions LLC' 'O Entertainment' 'Everyman Pictures'\n",
      " 'Wiedemann & Berg Filmproduktion' 'Yari Film Group Releasing'\n",
      " 'Aardman Animations' 'DEJ Productions' 'Estudios Picasso' 'THINKFilm'\n",
      " 'Film Partner International' 'Aspen Film Society'\n",
      " 'Allan Zeman Productions' 'Electric Entertainment' 'No Matter Pictures'\n",
      " 'Out of the Blue... Entertainment' 'Escalante Productions'\n",
      " 'Paramount Classics' 'Gold Circle Films' 'Fu Works'\n",
      " 'Craven-Maddalena Films' 'Phoenix Pictures' 'Bergman Lustig Productions'\n",
      " 'Hunting Lane Films' 'World Wrestling Entertainment (WWE)'\n",
      " 'Arc Productions' 'EuropaCorp' 'Crescent Drive Pictures'\n",
      " 'Icon Productions' 'BBC Films' 'Film Science'\n",
      " 'C.O.R.E. Feature Animation' 'Warner Independent Pictures (WIP)'\n",
      " 'Columbia Pictures Industries' 'Sweet Tea Pictures LLC'\n",
      " \"Bull's Eye Entertainment\" 'Chockstone Pictures'\n",
      " 'This Is That Productions' 'Googly Films' 'WIP'\n",
      " 'Bórd Scannán na hÉireann' '21st Century Film Corporation'\n",
      " 'Blue Budgie Films Limited' 'OLC / Rights Entertainment' 'Coach Carter'\n",
      " 'El Camino Pictures' 'The Family Stone' 'Zentropa Entertainments'\n",
      " 'Recorded Picture Company (RPC)' 'Di Bonaventura Pictures'\n",
      " 'Fairway Films' 'John Wells Productions' 'Junebug Movie'\n",
      " 'Room 9 Entertainment' 'Mandalay Pictures' 'True West Films'\n",
      " 'Eden Rock Media' 'Bob Yari Productions' 'Belladonna Productions'\n",
      " 'Next Entertainment' 'Rent Productions LLC'\n",
      " 'Australian Film Finance Corporation (AFFC)'\n",
      " 'Vanguard Films and Animation' 'Avi Arad Productions' 'Cabal Film'\n",
      " 'AVCO Embassy Pictures' 'Stratus Film Co.' 'BET Pictures'\n",
      " 'Cent Productions Inc.' 'Serendipity Point Films'\n",
      " 'Boll Kino Beteiligungs GmbH & Co. KG' 'Fade to Black Productions'\n",
      " 'Marv Films' 'Yellow Bird' 'Rogue' 'Pathé Renn Productions'\n",
      " 'Ternion Pictures' 'Mod Producciones' 'Magnolia Pictures'\n",
      " 'Hyde Park Entertainment' 'LD Entertainment' 'MPI Media Group'\n",
      " 'Les Armateurs' 'Autonomous Films' 'Echo Lake Entertainment'\n",
      " 'Oscilloscope' 'Constantin Film' 'Twentieth Century Fox Animation'\n",
      " 'House Row Productions' 'CJ Entertainment' 'Curmudgeon Films'\n",
      " 'StudioCanal' 'Imagi Animation Studios' 'Jerry Bruckheimer Films'\n",
      " 'The Halcyon Company' 'Canal+' 'Solana Films' 'CineSon Entertainment'\n",
      " 'Lleju Productions' 'De Line Pictures' \"It's a Laugh Productions\"\n",
      " 'Tornasol Films' 'Fidélité Films'\n",
      " 'Universal Pictures International (UPI)' 'GK Films' 'G-BASE'\n",
      " 'Constellation Entertainment' 'Warner Bros. Pictures' 'Amercent Films'\n",
      " 'Image Comics' 'CiBy 2000' 'Richard Williams Productions' 'A Band Apart'\n",
      " 'Populist Pictures' 'PolyGram Filmed Entertainment'\n",
      " 'Rysher Entertainment' 'Gaumont' 'Avenue Pictures'\n",
      " 'Beckner/Gorman Productions' 'Gramercy Pictures (I)' 'Caravan Pictures'\n",
      " 'Eon Productions' 'River Road Entertainment' 'Lightstorm Entertainment'\n",
      " 'Pandora Filmproduktion' 'Allied Stars Ltd.' 'Tapestry Films'\n",
      " 'Cinergi Pictures Entertainment' 'Seraphim Films' 'Suburban Pictures'\n",
      " 'The Rank Organisation' 'Don Simpson/Jerry Bruckheimer Films'\n",
      " 'Lumiere Pictures' 'Lancaster Gate' 'Havoc' 'Strike Entertainment'\n",
      " 'C.H.U.D. Productions' 'Bachelor Party Productions'\n",
      " 'River Road Productions' 'Dino De Laurentiis Company' 'Zoetrope Studios'\n",
      " \"Cinema '84\" 'A&M Films' 'The Ladd Company'\n",
      " 'Atlantic Entertainment Group' 'Hemdale' 'Colgems Productions Ltd.'\n",
      " 'Bavaria Film' 'Jaffe-Lansing' 'EMI Films' 'Hawn / Sylbert Movie Company'\n",
      " 'Incorporated Television Company (ITC)' 'Cinema Group Ventures'\n",
      " 'Filmline Productions' 'Arcafin B.V.' 'Spinal Tap Prod.' 'Skyewiay'\n",
      " 'Artistry Limited' 'AMLF' 'Adams Apple Film Company' 'FilmDistrict'\n",
      " 'Kingsmere Properties' 'Big Dog Films' 'JVC Entertainment Networks'\n",
      " 'Juno Pix' 'Turner Pictures (I)' 'Calimari Productions'\n",
      " 'FGM Entertainment' 'Robert Simonds Productions'\n",
      " 'Midwinter Productions Inc.' 'Enchanter Entertainment'\n",
      " 'Mystery Clock Cinema' 'Marvel Studios' 'Largo Entertainment'\n",
      " 'DiNovi Pictures' 'Fade In Films'\n",
      " 'British Broadcasting Corporation (BBC) Television'\n",
      " 'Zucker Brothers Productions' 'Centropolis Film Productions'\n",
      " 'Baltimore Pictures' 'Mandalay Entertainment' 'Fear and Loathing LLC'\n",
      " 'Kennedy Miller Productions' 'RKO Pictures' 'Atlas Entertainment'\n",
      " 'Award Entertainment' 'Chinese Bookie Pictures' 'Polar Entertainment'\n",
      " 'Amen Ra Films' 'DIC Entertainment' 'American Empirical Pictures'\n",
      " 'Media 8 Entertainment' 'Casual Friday Productions' 'SenArt Films'\n",
      " 'Muse Productions' '\"DIA\" Productions GmbH & Co. KG'\n",
      " 'Archer Street Productions' 'Spectacle Entertainment Group'\n",
      " 'Cherry Sky Films' '19 Entertainment' 'Plunge Pictures LLC' 'ContentFilm'\n",
      " 'Epsilon Motion Pictures' 'World of Wonder Productions'\n",
      " 'Lynda Obst Productions' 'Show East' 'Good Universe' 'HBO Films'\n",
      " 'Cobalt Media Group' 'Klasky-Csupo' 'Mepris Films' 'Marvel Enterprises'\n",
      " 'Funny Boy Films' 'Emperor Multimedia Group (EMG)' 'Angry Films'\n",
      " 'Jasmine Productions Inc.' 'Cheyenne Enterprises' 'C-2 Pictures'\n",
      " 'Eikon Film' 'HanWay Films' 'Légende Films' 'Capitol Films'\n",
      " '2.4.7. Films' 'Automatik Entertainment' 'Artfire Films'\n",
      " '4Kids Entertainment' 'Block 2 Pictures' '360 Pictures' 'Intermedia'\n",
      " 'Anonymous Content' 'ArieScope Pictures' 'Relativity Media'\n",
      " 'Night and Day Pictures' 'Rainforest Films' 'Deerjen Films'\n",
      " 'Captivity Productions' 'Harpo Films' 'P2 Productions' 'Haishang Films'\n",
      " 'Samuels Media' 'HBO Pictures' 'Young Hannibal Productions'\n",
      " 'Mandate Pictures' 'Capella Films' 'Renaissance Films' 'Propaganda Films'\n",
      " 'Steve White Productions' 'Parkway Productions' 'Golden Harvest Company'\n",
      " 'Night Life Inc.' 'Trimark Pictures' 'Hanna-Barbera Productions'\n",
      " 'Warner Bros. Family Entertainment' 'New Horizons Picture' 'Alcor Films'\n",
      " 'Warner Bros. Animation' 'Brooksfilms' 'Allied Filmmakers'\n",
      " 'Price Entertainment' 'WingNut Films' 'Film Andes S.A.'\n",
      " 'Northern Lights Entertainment' 'Wildwood Enterprises' 'Q Productions'\n",
      " 'Permut Presentations' 'Fine Line Features' 'Pacific Western'\n",
      " 'Brandywine Productions' 'Guild' 'De Fina-Cappa' 'Sheinberg Productions'\n",
      " 'Cecchi Gori Group Tiger Cinematografica' 'Tig Productions'\n",
      " 'Blue Tulip Productions' 'Too Askew Prod. Inc.'\n",
      " 'Alliance Atlantis Communications' 'Ivory Way Productions'\n",
      " 'Kuzui Enterprises' \"Butcher's Run Films\" 'Golar Productions'\n",
      " 'Capella International' 'Melampo Cinematografica' 'Agenda'\n",
      " 'McFarlane Films' 'DC Entertainment' 'Clinica Estetico'\n",
      " 'Channel Four Films' 'Cannon Films Inc.' 'Jackson/McHenry Company,The'\n",
      " 'Joseph S. Vecchio Entertainment' 'Krisjair' 'Davis-Panzer Productions'\n",
      " 'Fogwood Films' 'Exclusive Media Group' 'Strong Heart/Demme Production'\n",
      " 'Little Tokyo Productions' 'All Girl Productions'\n",
      " 'Arnold Kopelson Productions' 'Stone Group Pictures' 'Applied Action'\n",
      " 'Victor Company of Japan (JVC)' 'Nelson Entertainment'\n",
      " 'Cinecom Entertainment Group' 'Imagine Films Entertainment'\n",
      " 'Geffen Pictures' 'Bill Graham Films'\n",
      " 'Imperial Entertainment Corporation' 'Argos Films'\n",
      " 'The Saul Zaentz Company' 'Island World' 'Touchwood Pacific Partners 1'\n",
      " 'Bakshi Animation' 'DENTSU Music And Entertainment'\n",
      " 'Jack Rollins & Charles H. Joffe Productions' 'Penta Pictures'\n",
      " 'Largo International N.V.' 'Hivemind' 'Ascot Film' 'FAI Films'\n",
      " 'Parkes/Lasker productions' 'Bad Lt. Productions'\n",
      " 'British Screen Productions' 'Penta Films' 'Atchafalaya'\n",
      " 'Dino de Laurentiis Communications' 'Avnet/Kerner Productions'\n",
      " 'Fifth Avenue Entertainment' 'Allied Vision' 'Candyman Films'\n",
      " 'Kasdan Pictures' 'Mace Neufeld Productions' 'Image Organization'\n",
      " 'Edko Films' 'Live Entertainment' 'Challenge Film Corporation'\n",
      " 'Encino Man Productions' 'First Light Production' 'Avery Pix'\n",
      " 'First Look International' 'Material' 'R.P. Productions'\n",
      " 'FTM Productions' 'Handprint Entertainment' 'Fuzzy Bunny Films (I)'\n",
      " 'South Pacific Pictures' 'CineWild' 'Castelao Producciones'\n",
      " 'Malpaso Productions' 'Quinta Communications' 'FilmFour'\n",
      " 'Blockbuster Films' 'BRON Studios' 'United Artists Film Corporation'\n",
      " '25th Hour Productions' 'Tonic Films'\n",
      " 'Morra, Brezner, Steinberg and Tenenbaum Entertainment (MBST)'\n",
      " '98 MPH Productions' 'Alphaville Films' 'Flan de Coco Films'\n",
      " 'Kingsgate Films' 'Rankin/Bass Productions' 'C & C Brown Production'\n",
      " 'Anabasis N.V.' 'Major Studio Partners' 'Pan Arts'\n",
      " 'Golan-Globus Productions' 'Aurora' 'Marcy Media' 'Astral Bellevue Pathé'\n",
      " 'Almena Films' 'Cinematograph AB' 'International Film Investors'\n",
      " 'Egg Pictures' 'Greenleaf Productions' 'Planet Productions'\n",
      " 'Kouf/Bigelow Productions' 'Majestic Films International'\n",
      " 'Barcelona Films' 'Don Bluth' 'Vegahom Europe' 'Fairview Entertainment'\n",
      " 'The Mark Gordon Company' 'Nest Family Entertainment' 'Savoy Pictures'\n",
      " 'Donner/Shuler-Donner Productions' 'Crowvision Inc.'\n",
      " 'Ben-Ami/Leeds Productions' 'Davis-Films' 'Ultra Muchos Productions'\n",
      " 'Fallingcloud' 'Mulholland Productions' 'Channel Films' 'Bold Films'\n",
      " 'Seagal/Nasso Productions' 'Capcom Entertainment'\n",
      " 'Great American Films Limited Partnership' 'Emshell Producers'\n",
      " 'Heron Communications' 'Conquering Unicorn' 'The Cannon Group'\n",
      " 'Zenith Entertainment' 'Green Hat Films' 'TAFT Entertainment Pictures'\n",
      " 'New World Pictures' 'Lorimar Motion Pictures' 'Rastar Pictures'\n",
      " 'Circle Films' 'Carolco International N.V.' 'Renaissance Pictures'\n",
      " 'Aaron Spelling Productions' 'Natant' 'Act III Communications'\n",
      " 'Charles H. Schneer Productions' 'Company Films'\n",
      " 'Closest to the Hole Productions' 'Bad Robot'\n",
      " 'Pathé Pictures International' 'Mediapro' 'Color Force'\n",
      " 'Dune Entertainment III' 'Protagonist Pictures' 'Exclusive Films'\n",
      " 'Olympus Pictures' 'Hero Entertainment' 'The American Film Company'\n",
      " 'The Last Picture Company' 'DNA Films' 'Sedic International'\n",
      " 'Temple Hill Entertainment' 'Bronco Productions' 'Omega Entertainment'\n",
      " 'Incentive Filmed Entertainment' 'Overnight Films' 'Audiovisual Aval SGR'\n",
      " 'Josephson Entertainment' 'Glass Eye Pix' 'Realitism Films'\n",
      " 'Cappa Production' 'Clavius Base'\n",
      " 'Motion Picture Corporation of America (MPCA)'\n",
      " 'Independent Pictures (II)' 'United Artists Pictures' 'Bazmark Films'\n",
      " 'Kopelson Entertainment' 'Bruin Grip Services' 'Island Pictures'\n",
      " 'Tim Burton Productions' 'Interscope Communications'\n",
      " 'Alliance Communications Corporation' 'Bad Bird Productions'\n",
      " 'Green Parrot' 'Triumph Films' 'Digital Image Associates'\n",
      " 'Universal City Studios' 'Doug Liman Productions' 'Astoria Films'\n",
      " 'PVM Entertainment' 'Animal Productions LLC' 'Mutual Film Company'\n",
      " 'Saban Entertainment' 'Brillstein-Grey Entertainment' 'Clipsal Films'\n",
      " 'Bel Air Entertainment' 'Am Psycho Productions'\n",
      " 'Cinerenta Medienbeteiligungs KG' 'Branti Film Productions'\n",
      " 'MFF Feature Film Productions' 'Cruella Productions' 'Open City Films'\n",
      " 'Prufrock Pictures' 'FX Sound' 'Newmarket Capital Group'\n",
      " 'Carnival Film & Television' 'Revelations Entertainment' 'Saturn Films'\n",
      " 'Merchant Ivory Productions' 'Haft Entertainment' 'Code Entertainment'\n",
      " 'Hammerhead Productions' 'Hart Sharp Entertainment'\n",
      " 'Artic Productions LLC' 'Asia Union Film & Entertainment Ltd.'\n",
      " 'Portman Entertainment Group' 'Ambridge Film Partnership'\n",
      " 'Lewitt / Eberts Productions' '2003 Productions'\n",
      " 'Columbia Pictures Film Production Asia' 'Whitewater Films'\n",
      " 'Big Red Dog Productions' 'Nine Yards Two Productions'\n",
      " 'Deep River Productions' 'Shangri-La Entertainment' 'Filmax Group'\n",
      " 'Jet Tone Production' 'Les Films Alain Sarde' 'Evolution Entertainment'\n",
      " 'Grand Slam Productions' 'Camelot Pictures' 'Bazelevs Production'\n",
      " 'Canal+ España' 'Pop Pop Productions' 'ERBP' 'BenderSpink' 'DJ Films'\n",
      " 'Hydraulx' 'Mandalay Vision' 'Studio 37' 'Big Beach Films'\n",
      " 'Cliffjack Motion Pictures' 'CBS Films' 'Enticing Entertainment'\n",
      " 'Cottonwood Pictures' 'SBS Productions' 'Corsan' 'Elle Driver'\n",
      " 'Reprisal Films' 'Artists Public Domain' 'Omnilab Media'\n",
      " 'NVSH Productions' 'Atlas Productions' 'Before The Door Pictures'\n",
      " 'Preferred Content' 'Carousel Productions (II)'\n",
      " 'Allison Shearmur Productions' 'HandMade Films'\n",
      " 'Trancas International Films' 'Front Films' 'Lucasfilm'\n",
      " 'American Entertainment Partners II L.P.' 'Silver Screen Partners III'\n",
      " 'The Mount Company' 'Vision PDG' 'Esparza' 'No Frills Film Production'\n",
      " 'Cocktail Film' 'Palla' 'Cornelius Productions' 'Cannon International'\n",
      " 'New Sky Communications Inc.' 'The Guber-Peters Company'\n",
      " 'The Geffen Company' 'Prominent Features' 'New Visions'\n",
      " 'Blue Rider Pictures' 'Shapiro-Glickenhaus Entertainment'\n",
      " 'NBC Productions' 'Cave 76' 'Embassy Pictures' 'SLM Production Group'\n",
      " 'National Lampoon' 'Legend Production Company' 'Cross Creek Pictures'\n",
      " 'Delphi III Productions' 'David Foster Productions'\n",
      " 'Embassy International Pictures' 'Empire Pictures' 'GGG'\n",
      " 'Georgetown Productions Inc.' 'Monsterfoot Productions' 'Total Recall'\n",
      " 'Also Known As Pictures' 'Constantin Film International'\n",
      " 'Abraham Productions' 'Gary Sanchez Productions' 'Indian Paintbrush'\n",
      " 'Cloud Atlas Productions' 'Open Road Films (II)' 'Intrepid Pictures'\n",
      " 'Iron Horse Entertainment (II)' 'Alfama Films' 'Cinereach' 'Roth Films'\n",
      " 'Ixtlan' 'Overbrook Entertainment' '1818 Productions' 'Heat GBR'\n",
      " 'Rastar Films' 'Filmplan International' 'Polyc International BV'\n",
      " 'Ladbroke' 'Cannon Films' 'Lucille Ball Productions' 'Nelvana'\n",
      " 'Seagoat Films' 'Eagle Associates.' 'Sunn Classic Pictures'\n",
      " 'Eclectic Pictures' 'Carthago Films S.a.r.l.' 'Henson Associates (HA)'\n",
      " 'Toho Company' 'Lawrence Gordon Productions' 'Lorimar Productions'\n",
      " 'Kings Road Entertainment' 'Jay Weston Productions' 'Cannon Pictures'\n",
      " 'Delphi V Productions' 'Rimfire Films' 'Reteitalia'\n",
      " 'Nicolas Entertainment' 'Silver Screen Partners IV' 'Devoted Productions'\n",
      " 'Cinemarque Entertainment' 'Hughes Entertainment' 'ADC Films'\n",
      " 'Ironbark Films' 'Pathé Entertainment' '888 Productions'\n",
      " 'Polygram Pictures' 'Dovemead Films' 'Heron Productions'\n",
      " 'Artista Management' 'Mann/Caan Productions' 'IPC Films'\n",
      " 'Bluegrass Films' 'One Way Productions' 'DeHaven/Shapiro Productions'\n",
      " 'Little Stranger']\n"
     ]
    }
   ],
   "source": [
    "outliers_below = final.iloc[indices_below[0]]\n",
    "outliers_above = final.iloc[indices_above[0]]\n",
    "columns_to_consider = ['Month', 'Percentage_Women',\n",
    "       'pos_Interval', 'neg_Interval', 'runtime_Interval',\n",
    "       'specific_actors_ratio', 'specific_countries_ratio',\n",
    "       'specific_languages_ratio',\n",
    "       'budget', 'company', 'score', 'rating']\n",
    "\n",
    "outliers_below.shape\n",
    "below_list, above_list = [] , []\n",
    "\n",
    "for col in columns_to_consider :\n",
    "    condition_below = outliers_below[col].unique().shape[0]/final[col].unique().shape[0]\n",
    "    condition_above = outliers_above[col].unique().shape[0]/final[col].unique().shape[0]\n",
    "\n",
    "    if condition_below < 0.5: \n",
    "        print(\"below \", col , \" \",  outliers_below[col].unique() , \" \\n\", final[col].unique()) \n",
    "        below_list.append(col)\n",
    "    if condition_above < 0.5: \n",
    "        print(\"above \", col , \" \",  outliers_above[col].unique() , \" \\n\", final[col].unique()) \n",
    "        above_list.append(col)"
   ]
  },
  {
   "cell_type": "code",
   "execution_count": 16,
   "metadata": {},
   "outputs": [
    {
     "name": "stdout",
     "output_type": "stream",
     "text": [
      "['runtime_Interval', 'specific_actors_ratio', 'specific_countries_ratio', 'specific_languages_ratio', 'budget', 'company']\n",
      "['specific_actors_ratio', 'specific_countries_ratio', 'specific_languages_ratio', 'budget', 'company']\n"
     ]
    }
   ],
   "source": [
    "print(above_list)\n",
    "print(below_list)"
   ]
  },
  {
   "cell_type": "markdown",
   "metadata": {},
   "source": [
    "# outlier analysis"
   ]
  },
  {
   "cell_type": "code",
   "execution_count": 17,
   "metadata": {},
   "outputs": [],
   "source": [
    "import plotly.graph_objects as go\n",
    "import pandas as pd\n",
    "import numpy as np\n",
    "\n",
    "import re\n",
    "\n",
    "def transform_string(input_string):\n",
    "    # Use regular expression to match 'specific_<word>_ratio' pattern\n",
    "    match = re.match(r'specific_(\\w+)_ratio', input_string)\n",
    "    \n",
    "    if match:\n",
    "        # Extract the word and transform it\n",
    "        word = match.group(1)\n",
    "        transformed_string = f\"{word.capitalize()}\"\n",
    "        return transformed_string\n",
    "    else:\n",
    "        # Return the input string unchanged if it doesn't match the pattern\n",
    "        return input_string\n",
    "\n",
    "\n",
    "# Functions\n",
    "def generate_runtime_interval_pie_chart(dataframe, final_data):\n",
    "    data_runtime_interval = dataframe['runtime_Interval'].value_counts()\n",
    "    for category in final_data['runtime_Interval'].value_counts().index:\n",
    "        if category not in data_runtime_interval.index:\n",
    "            data_runtime_interval[category] = 0\n",
    "    #text = [f'{value:.2f}%' for value in data_runtime_interval.values / data_runtime_interval.sum() * 100]\n",
    "    #return go.Pie(labels=data_runtime_interval.index, values=data_runtime_interval.values, text=text, textinfo='label+percent', name=\"Runtime Interval\", hoverinfo='label+percent+name')\n",
    "    return go.Pie(labels=data_runtime_interval.index, values=data_runtime_interval.values, \n",
    "                  textinfo='label+percent', name=\"Runtime\", \n",
    "                  hoverinfo='label+percent+name')\n",
    "\n",
    "\n",
    "def generate_actors_ratio_pie_chart(dataframe,feature_name ):\n",
    "    bins = np.linspace(0, 1, 5)  # Creates 4 intervals from 0 to 1\n",
    "    labels = [f'{int(x*100)}-{int(y*100)}%' for x, y in zip(bins[:-1], bins[1:])]\n",
    "    data_binned_actors = pd.cut(dataframe[feature_name], bins, labels=labels, include_lowest=True).value_counts()\n",
    "    #text = [f'{value:.2f}%' for value in data_binned_actors.values / data_binned_actors.sum() * 100]\n",
    "    #return go.Pie(labels=data_binned_actors.index, values=data_binned_actors.values, text=text, textinfo='label+percent', name=\"Actors Ratio\", hoverinfo='label+percent+name')\n",
    "    return go.Pie(labels=data_binned_actors.index, values=data_binned_actors.values, \n",
    "                  textinfo='label+percent', name=transform_string(feature_name), \n",
    "                  hoverinfo='label+percent+name')\n"
   ]
  },
  {
   "cell_type": "code",
   "execution_count": 18,
   "metadata": {},
   "outputs": [],
   "source": [
    "# Main function to create the plot\n",
    "def create_interactive_plots(outliers_below, final,title):\n",
    "    # Create a figure\n",
    "    fig = go.Figure()\n",
    "\n",
    "    # Add all the plots (only one will be visible at a time)\n",
    "    fig.add_trace(generate_runtime_interval_pie_chart(outliers_below, final))\n",
    "    fig.add_trace(generate_actors_ratio_pie_chart(outliers_below, 'specific_actors_ratio'))\n",
    "    fig.add_trace(generate_actors_ratio_pie_chart(outliers_below, 'specific_countries_ratio'))\n",
    "    fig.add_trace(generate_actors_ratio_pie_chart(outliers_below, 'specific_languages_ratio'))\n",
    "\n",
    "    # Set all but the first trace to be invisible initially\n",
    "    fig.data[1].visible = False\n",
    "    fig.data[2].visible = False\n",
    "    fig.data[3].visible = False\n",
    "\n",
    "    # Update layout to add a button that will switch between plots\n",
    "    fig.update_layout(\n",
    "        updatemenus=[\n",
    "            dict(\n",
    "                type=\"buttons\",\n",
    "                direction=\"left\",\n",
    "                buttons=[\n",
    "                    dict(label=\"Runtime Interval\",\n",
    "                         method=\"update\",\n",
    "                         args=[{\"visible\": [True, False, False, False]}]),\n",
    "                    dict(label=\"Actors Ratio\",\n",
    "                         method=\"update\",\n",
    "                         args=[{\"visible\": [False, True, False, False]}]),\n",
    "                    dict(label=\"Countries Ratio\",\n",
    "                         method=\"update\",\n",
    "                         args=[{\"visible\": [False, False, True, False]}]),\n",
    "                    dict(label=\"Languages Ratio\",\n",
    "                         method=\"update\",\n",
    "                         args=[{\"visible\": [False, False, False, True]}])\n",
    "                ],\n",
    "                pad={\"r\": 10, \"t\": 10},\n",
    "                showactive=True,\n",
    "                x=0.1,\n",
    "                xanchor=\"left\",\n",
    "                y= -0.1 ,\n",
    "                yanchor=\"top\"\n",
    "            )\n",
    "        ],\n",
    "        title=title, \n",
    "        title_x=0.5,\n",
    "        margin=dict(t=180)\n",
    "    )\n",
    "    # Show the figure\n",
    "    fig.show()\n",
    "    return fig"
   ]
  },
  {
   "cell_type": "code",
   "execution_count": 19,
   "metadata": {},
   "outputs": [
    {
     "data": {
      "application/vnd.plotly.v1+json": {
       "config": {
        "plotlyServerURL": "https://plot.ly"
       },
       "data": [
        {
         "hoverinfo": "label+percent+name",
         "labels": [
          "60-120",
          "120-180",
          "180-240",
          "240-1000",
          "0-60"
         ],
         "name": "Runtime",
         "textinfo": "label+percent",
         "type": "pie",
         "values": [
          97,
          18,
          1,
          0,
          0
         ]
        },
        {
         "hoverinfo": "label+percent+name",
         "labels": [
          "0-25%",
          "25-50%",
          "50-75%",
          "75-100%"
         ],
         "name": "Actors",
         "textinfo": "label+percent",
         "type": "pie",
         "values": [
          70,
          38,
          7,
          1
         ],
         "visible": false
        },
        {
         "hoverinfo": "label+percent+name",
         "labels": [
          "75-100%",
          "25-50%",
          "50-75%",
          "0-25%"
         ],
         "name": "Countries",
         "textinfo": "label+percent",
         "type": "pie",
         "values": [
          108,
          7,
          1,
          0
         ],
         "visible": false
        },
        {
         "hoverinfo": "label+percent+name",
         "labels": [
          "75-100%",
          "25-50%",
          "0-25%",
          "50-75%"
         ],
         "name": "Languages",
         "textinfo": "label+percent",
         "type": "pie",
         "values": [
          108,
          7,
          1,
          0
         ],
         "visible": false
        }
       ],
       "layout": {
        "margin": {
         "t": 180
        },
        "template": {
         "data": {
          "bar": [
           {
            "error_x": {
             "color": "#2a3f5f"
            },
            "error_y": {
             "color": "#2a3f5f"
            },
            "marker": {
             "line": {
              "color": "#E5ECF6",
              "width": 0.5
             },
             "pattern": {
              "fillmode": "overlay",
              "size": 10,
              "solidity": 0.2
             }
            },
            "type": "bar"
           }
          ],
          "barpolar": [
           {
            "marker": {
             "line": {
              "color": "#E5ECF6",
              "width": 0.5
             },
             "pattern": {
              "fillmode": "overlay",
              "size": 10,
              "solidity": 0.2
             }
            },
            "type": "barpolar"
           }
          ],
          "carpet": [
           {
            "aaxis": {
             "endlinecolor": "#2a3f5f",
             "gridcolor": "white",
             "linecolor": "white",
             "minorgridcolor": "white",
             "startlinecolor": "#2a3f5f"
            },
            "baxis": {
             "endlinecolor": "#2a3f5f",
             "gridcolor": "white",
             "linecolor": "white",
             "minorgridcolor": "white",
             "startlinecolor": "#2a3f5f"
            },
            "type": "carpet"
           }
          ],
          "choropleth": [
           {
            "colorbar": {
             "outlinewidth": 0,
             "ticks": ""
            },
            "type": "choropleth"
           }
          ],
          "contour": [
           {
            "colorbar": {
             "outlinewidth": 0,
             "ticks": ""
            },
            "colorscale": [
             [
              0,
              "#0d0887"
             ],
             [
              0.1111111111111111,
              "#46039f"
             ],
             [
              0.2222222222222222,
              "#7201a8"
             ],
             [
              0.3333333333333333,
              "#9c179e"
             ],
             [
              0.4444444444444444,
              "#bd3786"
             ],
             [
              0.5555555555555556,
              "#d8576b"
             ],
             [
              0.6666666666666666,
              "#ed7953"
             ],
             [
              0.7777777777777778,
              "#fb9f3a"
             ],
             [
              0.8888888888888888,
              "#fdca26"
             ],
             [
              1,
              "#f0f921"
             ]
            ],
            "type": "contour"
           }
          ],
          "contourcarpet": [
           {
            "colorbar": {
             "outlinewidth": 0,
             "ticks": ""
            },
            "type": "contourcarpet"
           }
          ],
          "heatmap": [
           {
            "colorbar": {
             "outlinewidth": 0,
             "ticks": ""
            },
            "colorscale": [
             [
              0,
              "#0d0887"
             ],
             [
              0.1111111111111111,
              "#46039f"
             ],
             [
              0.2222222222222222,
              "#7201a8"
             ],
             [
              0.3333333333333333,
              "#9c179e"
             ],
             [
              0.4444444444444444,
              "#bd3786"
             ],
             [
              0.5555555555555556,
              "#d8576b"
             ],
             [
              0.6666666666666666,
              "#ed7953"
             ],
             [
              0.7777777777777778,
              "#fb9f3a"
             ],
             [
              0.8888888888888888,
              "#fdca26"
             ],
             [
              1,
              "#f0f921"
             ]
            ],
            "type": "heatmap"
           }
          ],
          "heatmapgl": [
           {
            "colorbar": {
             "outlinewidth": 0,
             "ticks": ""
            },
            "colorscale": [
             [
              0,
              "#0d0887"
             ],
             [
              0.1111111111111111,
              "#46039f"
             ],
             [
              0.2222222222222222,
              "#7201a8"
             ],
             [
              0.3333333333333333,
              "#9c179e"
             ],
             [
              0.4444444444444444,
              "#bd3786"
             ],
             [
              0.5555555555555556,
              "#d8576b"
             ],
             [
              0.6666666666666666,
              "#ed7953"
             ],
             [
              0.7777777777777778,
              "#fb9f3a"
             ],
             [
              0.8888888888888888,
              "#fdca26"
             ],
             [
              1,
              "#f0f921"
             ]
            ],
            "type": "heatmapgl"
           }
          ],
          "histogram": [
           {
            "marker": {
             "pattern": {
              "fillmode": "overlay",
              "size": 10,
              "solidity": 0.2
             }
            },
            "type": "histogram"
           }
          ],
          "histogram2d": [
           {
            "colorbar": {
             "outlinewidth": 0,
             "ticks": ""
            },
            "colorscale": [
             [
              0,
              "#0d0887"
             ],
             [
              0.1111111111111111,
              "#46039f"
             ],
             [
              0.2222222222222222,
              "#7201a8"
             ],
             [
              0.3333333333333333,
              "#9c179e"
             ],
             [
              0.4444444444444444,
              "#bd3786"
             ],
             [
              0.5555555555555556,
              "#d8576b"
             ],
             [
              0.6666666666666666,
              "#ed7953"
             ],
             [
              0.7777777777777778,
              "#fb9f3a"
             ],
             [
              0.8888888888888888,
              "#fdca26"
             ],
             [
              1,
              "#f0f921"
             ]
            ],
            "type": "histogram2d"
           }
          ],
          "histogram2dcontour": [
           {
            "colorbar": {
             "outlinewidth": 0,
             "ticks": ""
            },
            "colorscale": [
             [
              0,
              "#0d0887"
             ],
             [
              0.1111111111111111,
              "#46039f"
             ],
             [
              0.2222222222222222,
              "#7201a8"
             ],
             [
              0.3333333333333333,
              "#9c179e"
             ],
             [
              0.4444444444444444,
              "#bd3786"
             ],
             [
              0.5555555555555556,
              "#d8576b"
             ],
             [
              0.6666666666666666,
              "#ed7953"
             ],
             [
              0.7777777777777778,
              "#fb9f3a"
             ],
             [
              0.8888888888888888,
              "#fdca26"
             ],
             [
              1,
              "#f0f921"
             ]
            ],
            "type": "histogram2dcontour"
           }
          ],
          "mesh3d": [
           {
            "colorbar": {
             "outlinewidth": 0,
             "ticks": ""
            },
            "type": "mesh3d"
           }
          ],
          "parcoords": [
           {
            "line": {
             "colorbar": {
              "outlinewidth": 0,
              "ticks": ""
             }
            },
            "type": "parcoords"
           }
          ],
          "pie": [
           {
            "automargin": true,
            "type": "pie"
           }
          ],
          "scatter": [
           {
            "fillpattern": {
             "fillmode": "overlay",
             "size": 10,
             "solidity": 0.2
            },
            "type": "scatter"
           }
          ],
          "scatter3d": [
           {
            "line": {
             "colorbar": {
              "outlinewidth": 0,
              "ticks": ""
             }
            },
            "marker": {
             "colorbar": {
              "outlinewidth": 0,
              "ticks": ""
             }
            },
            "type": "scatter3d"
           }
          ],
          "scattercarpet": [
           {
            "marker": {
             "colorbar": {
              "outlinewidth": 0,
              "ticks": ""
             }
            },
            "type": "scattercarpet"
           }
          ],
          "scattergeo": [
           {
            "marker": {
             "colorbar": {
              "outlinewidth": 0,
              "ticks": ""
             }
            },
            "type": "scattergeo"
           }
          ],
          "scattergl": [
           {
            "marker": {
             "colorbar": {
              "outlinewidth": 0,
              "ticks": ""
             }
            },
            "type": "scattergl"
           }
          ],
          "scattermapbox": [
           {
            "marker": {
             "colorbar": {
              "outlinewidth": 0,
              "ticks": ""
             }
            },
            "type": "scattermapbox"
           }
          ],
          "scatterpolar": [
           {
            "marker": {
             "colorbar": {
              "outlinewidth": 0,
              "ticks": ""
             }
            },
            "type": "scatterpolar"
           }
          ],
          "scatterpolargl": [
           {
            "marker": {
             "colorbar": {
              "outlinewidth": 0,
              "ticks": ""
             }
            },
            "type": "scatterpolargl"
           }
          ],
          "scatterternary": [
           {
            "marker": {
             "colorbar": {
              "outlinewidth": 0,
              "ticks": ""
             }
            },
            "type": "scatterternary"
           }
          ],
          "surface": [
           {
            "colorbar": {
             "outlinewidth": 0,
             "ticks": ""
            },
            "colorscale": [
             [
              0,
              "#0d0887"
             ],
             [
              0.1111111111111111,
              "#46039f"
             ],
             [
              0.2222222222222222,
              "#7201a8"
             ],
             [
              0.3333333333333333,
              "#9c179e"
             ],
             [
              0.4444444444444444,
              "#bd3786"
             ],
             [
              0.5555555555555556,
              "#d8576b"
             ],
             [
              0.6666666666666666,
              "#ed7953"
             ],
             [
              0.7777777777777778,
              "#fb9f3a"
             ],
             [
              0.8888888888888888,
              "#fdca26"
             ],
             [
              1,
              "#f0f921"
             ]
            ],
            "type": "surface"
           }
          ],
          "table": [
           {
            "cells": {
             "fill": {
              "color": "#EBF0F8"
             },
             "line": {
              "color": "white"
             }
            },
            "header": {
             "fill": {
              "color": "#C8D4E3"
             },
             "line": {
              "color": "white"
             }
            },
            "type": "table"
           }
          ]
         },
         "layout": {
          "annotationdefaults": {
           "arrowcolor": "#2a3f5f",
           "arrowhead": 0,
           "arrowwidth": 1
          },
          "autotypenumbers": "strict",
          "coloraxis": {
           "colorbar": {
            "outlinewidth": 0,
            "ticks": ""
           }
          },
          "colorscale": {
           "diverging": [
            [
             0,
             "#8e0152"
            ],
            [
             0.1,
             "#c51b7d"
            ],
            [
             0.2,
             "#de77ae"
            ],
            [
             0.3,
             "#f1b6da"
            ],
            [
             0.4,
             "#fde0ef"
            ],
            [
             0.5,
             "#f7f7f7"
            ],
            [
             0.6,
             "#e6f5d0"
            ],
            [
             0.7,
             "#b8e186"
            ],
            [
             0.8,
             "#7fbc41"
            ],
            [
             0.9,
             "#4d9221"
            ],
            [
             1,
             "#276419"
            ]
           ],
           "sequential": [
            [
             0,
             "#0d0887"
            ],
            [
             0.1111111111111111,
             "#46039f"
            ],
            [
             0.2222222222222222,
             "#7201a8"
            ],
            [
             0.3333333333333333,
             "#9c179e"
            ],
            [
             0.4444444444444444,
             "#bd3786"
            ],
            [
             0.5555555555555556,
             "#d8576b"
            ],
            [
             0.6666666666666666,
             "#ed7953"
            ],
            [
             0.7777777777777778,
             "#fb9f3a"
            ],
            [
             0.8888888888888888,
             "#fdca26"
            ],
            [
             1,
             "#f0f921"
            ]
           ],
           "sequentialminus": [
            [
             0,
             "#0d0887"
            ],
            [
             0.1111111111111111,
             "#46039f"
            ],
            [
             0.2222222222222222,
             "#7201a8"
            ],
            [
             0.3333333333333333,
             "#9c179e"
            ],
            [
             0.4444444444444444,
             "#bd3786"
            ],
            [
             0.5555555555555556,
             "#d8576b"
            ],
            [
             0.6666666666666666,
             "#ed7953"
            ],
            [
             0.7777777777777778,
             "#fb9f3a"
            ],
            [
             0.8888888888888888,
             "#fdca26"
            ],
            [
             1,
             "#f0f921"
            ]
           ]
          },
          "colorway": [
           "#636efa",
           "#EF553B",
           "#00cc96",
           "#ab63fa",
           "#FFA15A",
           "#19d3f3",
           "#FF6692",
           "#B6E880",
           "#FF97FF",
           "#FECB52"
          ],
          "font": {
           "color": "#2a3f5f"
          },
          "geo": {
           "bgcolor": "white",
           "lakecolor": "white",
           "landcolor": "#E5ECF6",
           "showlakes": true,
           "showland": true,
           "subunitcolor": "white"
          },
          "hoverlabel": {
           "align": "left"
          },
          "hovermode": "closest",
          "mapbox": {
           "style": "light"
          },
          "paper_bgcolor": "white",
          "plot_bgcolor": "#E5ECF6",
          "polar": {
           "angularaxis": {
            "gridcolor": "white",
            "linecolor": "white",
            "ticks": ""
           },
           "bgcolor": "#E5ECF6",
           "radialaxis": {
            "gridcolor": "white",
            "linecolor": "white",
            "ticks": ""
           }
          },
          "scene": {
           "xaxis": {
            "backgroundcolor": "#E5ECF6",
            "gridcolor": "white",
            "gridwidth": 2,
            "linecolor": "white",
            "showbackground": true,
            "ticks": "",
            "zerolinecolor": "white"
           },
           "yaxis": {
            "backgroundcolor": "#E5ECF6",
            "gridcolor": "white",
            "gridwidth": 2,
            "linecolor": "white",
            "showbackground": true,
            "ticks": "",
            "zerolinecolor": "white"
           },
           "zaxis": {
            "backgroundcolor": "#E5ECF6",
            "gridcolor": "white",
            "gridwidth": 2,
            "linecolor": "white",
            "showbackground": true,
            "ticks": "",
            "zerolinecolor": "white"
           }
          },
          "shapedefaults": {
           "line": {
            "color": "#2a3f5f"
           }
          },
          "ternary": {
           "aaxis": {
            "gridcolor": "white",
            "linecolor": "white",
            "ticks": ""
           },
           "baxis": {
            "gridcolor": "white",
            "linecolor": "white",
            "ticks": ""
           },
           "bgcolor": "#E5ECF6",
           "caxis": {
            "gridcolor": "white",
            "linecolor": "white",
            "ticks": ""
           }
          },
          "title": {
           "x": 0.05
          },
          "xaxis": {
           "automargin": true,
           "gridcolor": "white",
           "linecolor": "white",
           "ticks": "",
           "title": {
            "standoff": 15
           },
           "zerolinecolor": "white",
           "zerolinewidth": 2
          },
          "yaxis": {
           "automargin": true,
           "gridcolor": "white",
           "linecolor": "white",
           "ticks": "",
           "title": {
            "standoff": 15
           },
           "zerolinecolor": "white",
           "zerolinewidth": 2
          }
         }
        },
        "title": {
         "text": "Outliers below Across Different Categories",
         "x": 0.5
        },
        "updatemenus": [
         {
          "buttons": [
           {
            "args": [
             {
              "visible": [
               true,
               false,
               false,
               false
              ]
             }
            ],
            "label": "Runtime Interval",
            "method": "update"
           },
           {
            "args": [
             {
              "visible": [
               false,
               true,
               false,
               false
              ]
             }
            ],
            "label": "Actors Ratio",
            "method": "update"
           },
           {
            "args": [
             {
              "visible": [
               false,
               false,
               true,
               false
              ]
             }
            ],
            "label": "Countries Ratio",
            "method": "update"
           },
           {
            "args": [
             {
              "visible": [
               false,
               false,
               false,
               true
              ]
             }
            ],
            "label": "Languages Ratio",
            "method": "update"
           }
          ],
          "direction": "left",
          "pad": {
           "r": 10,
           "t": 10
          },
          "showactive": true,
          "type": "buttons",
          "x": 0.1,
          "xanchor": "left",
          "y": -0.1,
          "yanchor": "top"
         }
        ]
       }
      }
     },
     "metadata": {},
     "output_type": "display_data"
    }
   ],
   "source": [
    "# Example usage\n",
    "fig  = create_interactive_plots(outliers_below, final,\"Outliers below Across Different Categories\")\n",
    "# Save the plot as an HTML file (for interactive features)\n",
    "fig.write_html('assets/plots/outliers_below.html')\n",
    "\n",
    "# Save the plot as an image file (e.g., PNG)\n",
    "fig.write_image('assets/plots/outliers_below.png', engine='kaleido')"
   ]
  },
  {
   "cell_type": "code",
   "execution_count": 20,
   "metadata": {},
   "outputs": [
    {
     "data": {
      "application/vnd.plotly.v1+json": {
       "config": {
        "plotlyServerURL": "https://plot.ly"
       },
       "data": [
        {
         "hoverinfo": "label+percent+name",
         "labels": [
          "60-120",
          "120-180",
          "180-240",
          "240-1000",
          "0-60"
         ],
         "name": "Runtime",
         "textinfo": "label+percent",
         "type": "pie",
         "values": [
          150,
          26,
          0,
          0,
          0
         ]
        },
        {
         "hoverinfo": "label+percent+name",
         "labels": [
          "0-25%",
          "25-50%",
          "50-75%",
          "75-100%"
         ],
         "name": "Actors",
         "textinfo": "label+percent",
         "type": "pie",
         "values": [
          105,
          62,
          9,
          0
         ],
         "visible": false
        },
        {
         "hoverinfo": "label+percent+name",
         "labels": [
          "75-100%",
          "25-50%",
          "0-25%",
          "50-75%"
         ],
         "name": "Countries",
         "textinfo": "label+percent",
         "type": "pie",
         "values": [
          167,
          8,
          1,
          0
         ],
         "visible": false
        },
        {
         "hoverinfo": "label+percent+name",
         "labels": [
          "75-100%",
          "25-50%",
          "50-75%",
          "0-25%"
         ],
         "name": "Languages",
         "textinfo": "label+percent",
         "type": "pie",
         "values": [
          157,
          8,
          6,
          5
         ],
         "visible": false
        }
       ],
       "layout": {
        "margin": {
         "t": 180
        },
        "template": {
         "data": {
          "bar": [
           {
            "error_x": {
             "color": "#2a3f5f"
            },
            "error_y": {
             "color": "#2a3f5f"
            },
            "marker": {
             "line": {
              "color": "#E5ECF6",
              "width": 0.5
             },
             "pattern": {
              "fillmode": "overlay",
              "size": 10,
              "solidity": 0.2
             }
            },
            "type": "bar"
           }
          ],
          "barpolar": [
           {
            "marker": {
             "line": {
              "color": "#E5ECF6",
              "width": 0.5
             },
             "pattern": {
              "fillmode": "overlay",
              "size": 10,
              "solidity": 0.2
             }
            },
            "type": "barpolar"
           }
          ],
          "carpet": [
           {
            "aaxis": {
             "endlinecolor": "#2a3f5f",
             "gridcolor": "white",
             "linecolor": "white",
             "minorgridcolor": "white",
             "startlinecolor": "#2a3f5f"
            },
            "baxis": {
             "endlinecolor": "#2a3f5f",
             "gridcolor": "white",
             "linecolor": "white",
             "minorgridcolor": "white",
             "startlinecolor": "#2a3f5f"
            },
            "type": "carpet"
           }
          ],
          "choropleth": [
           {
            "colorbar": {
             "outlinewidth": 0,
             "ticks": ""
            },
            "type": "choropleth"
           }
          ],
          "contour": [
           {
            "colorbar": {
             "outlinewidth": 0,
             "ticks": ""
            },
            "colorscale": [
             [
              0,
              "#0d0887"
             ],
             [
              0.1111111111111111,
              "#46039f"
             ],
             [
              0.2222222222222222,
              "#7201a8"
             ],
             [
              0.3333333333333333,
              "#9c179e"
             ],
             [
              0.4444444444444444,
              "#bd3786"
             ],
             [
              0.5555555555555556,
              "#d8576b"
             ],
             [
              0.6666666666666666,
              "#ed7953"
             ],
             [
              0.7777777777777778,
              "#fb9f3a"
             ],
             [
              0.8888888888888888,
              "#fdca26"
             ],
             [
              1,
              "#f0f921"
             ]
            ],
            "type": "contour"
           }
          ],
          "contourcarpet": [
           {
            "colorbar": {
             "outlinewidth": 0,
             "ticks": ""
            },
            "type": "contourcarpet"
           }
          ],
          "heatmap": [
           {
            "colorbar": {
             "outlinewidth": 0,
             "ticks": ""
            },
            "colorscale": [
             [
              0,
              "#0d0887"
             ],
             [
              0.1111111111111111,
              "#46039f"
             ],
             [
              0.2222222222222222,
              "#7201a8"
             ],
             [
              0.3333333333333333,
              "#9c179e"
             ],
             [
              0.4444444444444444,
              "#bd3786"
             ],
             [
              0.5555555555555556,
              "#d8576b"
             ],
             [
              0.6666666666666666,
              "#ed7953"
             ],
             [
              0.7777777777777778,
              "#fb9f3a"
             ],
             [
              0.8888888888888888,
              "#fdca26"
             ],
             [
              1,
              "#f0f921"
             ]
            ],
            "type": "heatmap"
           }
          ],
          "heatmapgl": [
           {
            "colorbar": {
             "outlinewidth": 0,
             "ticks": ""
            },
            "colorscale": [
             [
              0,
              "#0d0887"
             ],
             [
              0.1111111111111111,
              "#46039f"
             ],
             [
              0.2222222222222222,
              "#7201a8"
             ],
             [
              0.3333333333333333,
              "#9c179e"
             ],
             [
              0.4444444444444444,
              "#bd3786"
             ],
             [
              0.5555555555555556,
              "#d8576b"
             ],
             [
              0.6666666666666666,
              "#ed7953"
             ],
             [
              0.7777777777777778,
              "#fb9f3a"
             ],
             [
              0.8888888888888888,
              "#fdca26"
             ],
             [
              1,
              "#f0f921"
             ]
            ],
            "type": "heatmapgl"
           }
          ],
          "histogram": [
           {
            "marker": {
             "pattern": {
              "fillmode": "overlay",
              "size": 10,
              "solidity": 0.2
             }
            },
            "type": "histogram"
           }
          ],
          "histogram2d": [
           {
            "colorbar": {
             "outlinewidth": 0,
             "ticks": ""
            },
            "colorscale": [
             [
              0,
              "#0d0887"
             ],
             [
              0.1111111111111111,
              "#46039f"
             ],
             [
              0.2222222222222222,
              "#7201a8"
             ],
             [
              0.3333333333333333,
              "#9c179e"
             ],
             [
              0.4444444444444444,
              "#bd3786"
             ],
             [
              0.5555555555555556,
              "#d8576b"
             ],
             [
              0.6666666666666666,
              "#ed7953"
             ],
             [
              0.7777777777777778,
              "#fb9f3a"
             ],
             [
              0.8888888888888888,
              "#fdca26"
             ],
             [
              1,
              "#f0f921"
             ]
            ],
            "type": "histogram2d"
           }
          ],
          "histogram2dcontour": [
           {
            "colorbar": {
             "outlinewidth": 0,
             "ticks": ""
            },
            "colorscale": [
             [
              0,
              "#0d0887"
             ],
             [
              0.1111111111111111,
              "#46039f"
             ],
             [
              0.2222222222222222,
              "#7201a8"
             ],
             [
              0.3333333333333333,
              "#9c179e"
             ],
             [
              0.4444444444444444,
              "#bd3786"
             ],
             [
              0.5555555555555556,
              "#d8576b"
             ],
             [
              0.6666666666666666,
              "#ed7953"
             ],
             [
              0.7777777777777778,
              "#fb9f3a"
             ],
             [
              0.8888888888888888,
              "#fdca26"
             ],
             [
              1,
              "#f0f921"
             ]
            ],
            "type": "histogram2dcontour"
           }
          ],
          "mesh3d": [
           {
            "colorbar": {
             "outlinewidth": 0,
             "ticks": ""
            },
            "type": "mesh3d"
           }
          ],
          "parcoords": [
           {
            "line": {
             "colorbar": {
              "outlinewidth": 0,
              "ticks": ""
             }
            },
            "type": "parcoords"
           }
          ],
          "pie": [
           {
            "automargin": true,
            "type": "pie"
           }
          ],
          "scatter": [
           {
            "fillpattern": {
             "fillmode": "overlay",
             "size": 10,
             "solidity": 0.2
            },
            "type": "scatter"
           }
          ],
          "scatter3d": [
           {
            "line": {
             "colorbar": {
              "outlinewidth": 0,
              "ticks": ""
             }
            },
            "marker": {
             "colorbar": {
              "outlinewidth": 0,
              "ticks": ""
             }
            },
            "type": "scatter3d"
           }
          ],
          "scattercarpet": [
           {
            "marker": {
             "colorbar": {
              "outlinewidth": 0,
              "ticks": ""
             }
            },
            "type": "scattercarpet"
           }
          ],
          "scattergeo": [
           {
            "marker": {
             "colorbar": {
              "outlinewidth": 0,
              "ticks": ""
             }
            },
            "type": "scattergeo"
           }
          ],
          "scattergl": [
           {
            "marker": {
             "colorbar": {
              "outlinewidth": 0,
              "ticks": ""
             }
            },
            "type": "scattergl"
           }
          ],
          "scattermapbox": [
           {
            "marker": {
             "colorbar": {
              "outlinewidth": 0,
              "ticks": ""
             }
            },
            "type": "scattermapbox"
           }
          ],
          "scatterpolar": [
           {
            "marker": {
             "colorbar": {
              "outlinewidth": 0,
              "ticks": ""
             }
            },
            "type": "scatterpolar"
           }
          ],
          "scatterpolargl": [
           {
            "marker": {
             "colorbar": {
              "outlinewidth": 0,
              "ticks": ""
             }
            },
            "type": "scatterpolargl"
           }
          ],
          "scatterternary": [
           {
            "marker": {
             "colorbar": {
              "outlinewidth": 0,
              "ticks": ""
             }
            },
            "type": "scatterternary"
           }
          ],
          "surface": [
           {
            "colorbar": {
             "outlinewidth": 0,
             "ticks": ""
            },
            "colorscale": [
             [
              0,
              "#0d0887"
             ],
             [
              0.1111111111111111,
              "#46039f"
             ],
             [
              0.2222222222222222,
              "#7201a8"
             ],
             [
              0.3333333333333333,
              "#9c179e"
             ],
             [
              0.4444444444444444,
              "#bd3786"
             ],
             [
              0.5555555555555556,
              "#d8576b"
             ],
             [
              0.6666666666666666,
              "#ed7953"
             ],
             [
              0.7777777777777778,
              "#fb9f3a"
             ],
             [
              0.8888888888888888,
              "#fdca26"
             ],
             [
              1,
              "#f0f921"
             ]
            ],
            "type": "surface"
           }
          ],
          "table": [
           {
            "cells": {
             "fill": {
              "color": "#EBF0F8"
             },
             "line": {
              "color": "white"
             }
            },
            "header": {
             "fill": {
              "color": "#C8D4E3"
             },
             "line": {
              "color": "white"
             }
            },
            "type": "table"
           }
          ]
         },
         "layout": {
          "annotationdefaults": {
           "arrowcolor": "#2a3f5f",
           "arrowhead": 0,
           "arrowwidth": 1
          },
          "autotypenumbers": "strict",
          "coloraxis": {
           "colorbar": {
            "outlinewidth": 0,
            "ticks": ""
           }
          },
          "colorscale": {
           "diverging": [
            [
             0,
             "#8e0152"
            ],
            [
             0.1,
             "#c51b7d"
            ],
            [
             0.2,
             "#de77ae"
            ],
            [
             0.3,
             "#f1b6da"
            ],
            [
             0.4,
             "#fde0ef"
            ],
            [
             0.5,
             "#f7f7f7"
            ],
            [
             0.6,
             "#e6f5d0"
            ],
            [
             0.7,
             "#b8e186"
            ],
            [
             0.8,
             "#7fbc41"
            ],
            [
             0.9,
             "#4d9221"
            ],
            [
             1,
             "#276419"
            ]
           ],
           "sequential": [
            [
             0,
             "#0d0887"
            ],
            [
             0.1111111111111111,
             "#46039f"
            ],
            [
             0.2222222222222222,
             "#7201a8"
            ],
            [
             0.3333333333333333,
             "#9c179e"
            ],
            [
             0.4444444444444444,
             "#bd3786"
            ],
            [
             0.5555555555555556,
             "#d8576b"
            ],
            [
             0.6666666666666666,
             "#ed7953"
            ],
            [
             0.7777777777777778,
             "#fb9f3a"
            ],
            [
             0.8888888888888888,
             "#fdca26"
            ],
            [
             1,
             "#f0f921"
            ]
           ],
           "sequentialminus": [
            [
             0,
             "#0d0887"
            ],
            [
             0.1111111111111111,
             "#46039f"
            ],
            [
             0.2222222222222222,
             "#7201a8"
            ],
            [
             0.3333333333333333,
             "#9c179e"
            ],
            [
             0.4444444444444444,
             "#bd3786"
            ],
            [
             0.5555555555555556,
             "#d8576b"
            ],
            [
             0.6666666666666666,
             "#ed7953"
            ],
            [
             0.7777777777777778,
             "#fb9f3a"
            ],
            [
             0.8888888888888888,
             "#fdca26"
            ],
            [
             1,
             "#f0f921"
            ]
           ]
          },
          "colorway": [
           "#636efa",
           "#EF553B",
           "#00cc96",
           "#ab63fa",
           "#FFA15A",
           "#19d3f3",
           "#FF6692",
           "#B6E880",
           "#FF97FF",
           "#FECB52"
          ],
          "font": {
           "color": "#2a3f5f"
          },
          "geo": {
           "bgcolor": "white",
           "lakecolor": "white",
           "landcolor": "#E5ECF6",
           "showlakes": true,
           "showland": true,
           "subunitcolor": "white"
          },
          "hoverlabel": {
           "align": "left"
          },
          "hovermode": "closest",
          "mapbox": {
           "style": "light"
          },
          "paper_bgcolor": "white",
          "plot_bgcolor": "#E5ECF6",
          "polar": {
           "angularaxis": {
            "gridcolor": "white",
            "linecolor": "white",
            "ticks": ""
           },
           "bgcolor": "#E5ECF6",
           "radialaxis": {
            "gridcolor": "white",
            "linecolor": "white",
            "ticks": ""
           }
          },
          "scene": {
           "xaxis": {
            "backgroundcolor": "#E5ECF6",
            "gridcolor": "white",
            "gridwidth": 2,
            "linecolor": "white",
            "showbackground": true,
            "ticks": "",
            "zerolinecolor": "white"
           },
           "yaxis": {
            "backgroundcolor": "#E5ECF6",
            "gridcolor": "white",
            "gridwidth": 2,
            "linecolor": "white",
            "showbackground": true,
            "ticks": "",
            "zerolinecolor": "white"
           },
           "zaxis": {
            "backgroundcolor": "#E5ECF6",
            "gridcolor": "white",
            "gridwidth": 2,
            "linecolor": "white",
            "showbackground": true,
            "ticks": "",
            "zerolinecolor": "white"
           }
          },
          "shapedefaults": {
           "line": {
            "color": "#2a3f5f"
           }
          },
          "ternary": {
           "aaxis": {
            "gridcolor": "white",
            "linecolor": "white",
            "ticks": ""
           },
           "baxis": {
            "gridcolor": "white",
            "linecolor": "white",
            "ticks": ""
           },
           "bgcolor": "#E5ECF6",
           "caxis": {
            "gridcolor": "white",
            "linecolor": "white",
            "ticks": ""
           }
          },
          "title": {
           "x": 0.05
          },
          "xaxis": {
           "automargin": true,
           "gridcolor": "white",
           "linecolor": "white",
           "ticks": "",
           "title": {
            "standoff": 15
           },
           "zerolinecolor": "white",
           "zerolinewidth": 2
          },
          "yaxis": {
           "automargin": true,
           "gridcolor": "white",
           "linecolor": "white",
           "ticks": "",
           "title": {
            "standoff": 15
           },
           "zerolinecolor": "white",
           "zerolinewidth": 2
          }
         }
        },
        "title": {
         "text": "Outliers above Across Different Categories",
         "x": 0.5
        },
        "updatemenus": [
         {
          "buttons": [
           {
            "args": [
             {
              "visible": [
               true,
               false,
               false,
               false
              ]
             }
            ],
            "label": "Runtime Interval",
            "method": "update"
           },
           {
            "args": [
             {
              "visible": [
               false,
               true,
               false,
               false
              ]
             }
            ],
            "label": "Actors Ratio",
            "method": "update"
           },
           {
            "args": [
             {
              "visible": [
               false,
               false,
               true,
               false
              ]
             }
            ],
            "label": "Countries Ratio",
            "method": "update"
           },
           {
            "args": [
             {
              "visible": [
               false,
               false,
               false,
               true
              ]
             }
            ],
            "label": "Languages Ratio",
            "method": "update"
           }
          ],
          "direction": "left",
          "pad": {
           "r": 10,
           "t": 10
          },
          "showactive": true,
          "type": "buttons",
          "x": 0.1,
          "xanchor": "left",
          "y": -0.1,
          "yanchor": "top"
         }
        ]
       }
      }
     },
     "metadata": {},
     "output_type": "display_data"
    }
   ],
   "source": [
    "create_interactive_plots(outliers_above, final,\"Outliers above Across Different Categories\")\n",
    "\n",
    "# Save the plot as an HTML file (for interactive features)\n",
    "fig.write_html('assets/plots/outliers_above.html')\n",
    "\n",
    "# Save the plot as an image file (e.g., PNG)\n",
    "fig.write_image('assets/plots/outliers_above.png', engine='kaleido')"
   ]
  },
  {
   "cell_type": "code",
   "execution_count": null,
   "metadata": {},
   "outputs": [],
   "source": []
  },
  {
   "cell_type": "code",
   "execution_count": null,
   "metadata": {},
   "outputs": [],
   "source": []
  }
 ],
 "metadata": {
  "kernelspec": {
   "display_name": "base",
   "language": "python",
   "name": "python3"
  },
  "language_info": {
   "codemirror_mode": {
    "name": "ipython",
    "version": 3
   },
   "file_extension": ".py",
   "mimetype": "text/x-python",
   "name": "python",
   "nbconvert_exporter": "python",
   "pygments_lexer": "ipython3",
   "version": "3.9.18"
  }
 },
 "nbformat": 4,
 "nbformat_minor": 2
}
